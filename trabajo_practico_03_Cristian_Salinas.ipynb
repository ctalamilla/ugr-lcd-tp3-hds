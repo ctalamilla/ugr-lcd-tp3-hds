{
  "cells": [
    {
      "cell_type": "markdown",
      "metadata": {
        "id": "view-in-github",
        "colab_type": "text"
      },
      "source": [
        "<a href=\"https://colab.research.google.com/github/ctalamilla/ugr-lcd-tp3-hds/blob/main/trabajo_practico_03_Cristian_Salinas.ipynb\" target=\"_parent\"><img src=\"https://colab.research.google.com/assets/colab-badge.svg\" alt=\"Open In Colab\"/></a>"
      ]
    },
    {
      "cell_type": "markdown",
      "metadata": {
        "id": "GZ3I6tMKimmf"
      },
      "source": [
        "# Trabajo Práctico 3\n"
      ]
    },
    {
      "cell_type": "markdown",
      "metadata": {
        "id": "WI7TRxkc3gW4"
      },
      "source": [
        "# Ejercicio 1\n",
        "\n",
        "Vamos a trabajar con el dataset [chessman.zip](https://drive.google.com/file/d/125hRx0C9Yin9P5PRmRVbfvNCgY4iVKZC/view?usp=sharing) desde Google Drive.\n",
        "\n",
        "Para más información ver [kaggle](https://www.kaggle.com/datasets/niteshfre/chessman-image-dataset)."
      ]
    },
    {
      "cell_type": "markdown",
      "metadata": {
        "id": "5C1qxZkP7uSi"
      },
      "source": [
        "## Punto 1\n",
        "\n",
        "Descargar y descomprimirlo."
      ]
    },
    {
      "cell_type": "code",
      "execution_count": null,
      "metadata": {
        "id": "cjSuj_ylWpyl"
      },
      "outputs": [],
      "source": [
        "#!pip install gdown"
      ]
    },
    {
      "cell_type": "code",
      "execution_count": null,
      "metadata": {
        "id": "OddE5FSwWq_R"
      },
      "outputs": [],
      "source": [
        "import gdown"
      ]
    },
    {
      "cell_type": "code",
      "execution_count": null,
      "metadata": {
        "id": "B1LtVQAYWubG"
      },
      "outputs": [],
      "source": [
        "# ID del archivo en Google Drive\n",
        "file_id = \"125hRx0C9Yin9P5PRmRVbfvNCgY4iVKZC\"\n",
        "url = f\"https://drive.google.com/uc?id={file_id}\""
      ]
    },
    {
      "cell_type": "code",
      "source": [
        "url"
      ],
      "metadata": {
        "colab": {
          "base_uri": "https://localhost:8080/",
          "height": 35
        },
        "id": "9Gd2Y_88Tjjd",
        "outputId": "b46ac1a5-6db7-4a61-bc4e-d3c2c9111126"
      },
      "execution_count": null,
      "outputs": [
        {
          "output_type": "execute_result",
          "data": {
            "text/plain": [
              "'https://drive.google.com/uc?id=125hRx0C9Yin9P5PRmRVbfvNCgY4iVKZC'"
            ],
            "application/vnd.google.colaboratory.intrinsic+json": {
              "type": "string"
            }
          },
          "metadata": {},
          "execution_count": 3
        }
      ]
    },
    {
      "cell_type": "code",
      "source": [
        "# Descargar el archivo\n",
        "output = 'downloaded_file.zip'\n",
        "gdown.download(url, output, quiet=False)"
      ],
      "metadata": {
        "colab": {
          "base_uri": "https://localhost:8080/",
          "height": 107
        },
        "id": "Yms9EUaInOok",
        "outputId": "4e2b4765-4b0a-4b60-af2a-e31c53c71cf3"
      },
      "execution_count": null,
      "outputs": [
        {
          "output_type": "stream",
          "name": "stderr",
          "text": [
            "Downloading...\n",
            "From: https://drive.google.com/uc?id=125hRx0C9Yin9P5PRmRVbfvNCgY4iVKZC\n",
            "To: /content/downloaded_file.zip\n",
            "100%|██████████| 8.82M/8.82M [00:00<00:00, 124MB/s]\n"
          ]
        },
        {
          "output_type": "execute_result",
          "data": {
            "text/plain": [
              "'downloaded_file.zip'"
            ],
            "application/vnd.google.colaboratory.intrinsic+json": {
              "type": "string"
            }
          },
          "metadata": {},
          "execution_count": 4
        }
      ]
    },
    {
      "cell_type": "code",
      "execution_count": null,
      "metadata": {
        "colab": {
          "base_uri": "https://localhost:8080/"
        },
        "id": "5FQ_bi-qWzxS",
        "outputId": "d95d496f-a4c9-4ede-d805-6e030d242626"
      },
      "outputs": [
        {
          "output_type": "stream",
          "name": "stdout",
          "text": [
            "Archive:  downloaded_file.zip\n",
            "   creating: ./output_folder/Chessman-image-dataset-Bishop/\n",
            "   creating: ./output_folder/Chessman-image-dataset-Bishop/Chess/\n",
            "   creating: ./output_folder/Chessman-image-dataset-Bishop/Chess/Bishop/\n",
            "  inflating: ./output_folder/Chessman-image-dataset-Bishop/Chess/Bishop/00000175.jpg  \n",
            "  inflating: ./output_folder/Chessman-image-dataset-Bishop/Chess/Bishop/00000121.jpg  \n",
            "  inflating: ./output_folder/Chessman-image-dataset-Bishop/Chess/Bishop/00000109.jpg  \n",
            "  inflating: ./output_folder/Chessman-image-dataset-Bishop/Chess/Bishop/00000012.jpg  \n",
            "  inflating: ./output_folder/Chessman-image-dataset-Bishop/Chess/Bishop/00000026.jpg  \n",
            "  inflating: ./output_folder/Chessman-image-dataset-Bishop/Chess/Bishop/00000049.jpg  \n",
            "  inflating: ./output_folder/Chessman-image-dataset-Bishop/Chess/Bishop/00000115.jpg  \n",
            "  inflating: ./output_folder/Chessman-image-dataset-Bishop/Chess/Bishop/00000114.jpg  \n",
            "  inflating: ./output_folder/Chessman-image-dataset-Bishop/Chess/Bishop/00000044.png  \n",
            "  inflating: ./output_folder/Chessman-image-dataset-Bishop/Chess/Bishop/00000025.jpg  \n",
            "  inflating: ./output_folder/Chessman-image-dataset-Bishop/Chess/Bishop/00000078.jpg  \n",
            "  inflating: ./output_folder/Chessman-image-dataset-Bishop/Chess/Bishop/00000129.jpg  \n",
            "  inflating: ./output_folder/Chessman-image-dataset-Bishop/Chess/Bishop/00000192.jpg  \n",
            "  inflating: ./output_folder/Chessman-image-dataset-Bishop/Chess/Bishop/00000177.jpg  \n",
            "  inflating: ./output_folder/Chessman-image-dataset-Bishop/Chess/Bishop/00000167.jpg  \n",
            "  inflating: ./output_folder/Chessman-image-dataset-Bishop/Chess/Bishop/00000149.jpg  \n",
            "  inflating: ./output_folder/Chessman-image-dataset-Bishop/Chess/Bishop/00000010.jpg  \n",
            "  inflating: ./output_folder/Chessman-image-dataset-Bishop/Chess/Bishop/00000113.png  \n",
            "  inflating: ./output_folder/Chessman-image-dataset-Bishop/Chess/Bishop/00000138.jpg  \n",
            "  inflating: ./output_folder/Chessman-image-dataset-Bishop/Chess/Bishop/00000016.jpg  \n",
            "  inflating: ./output_folder/Chessman-image-dataset-Bishop/Chess/Bishop/00000110.jpg  \n",
            "  inflating: ./output_folder/Chessman-image-dataset-Bishop/Chess/Bishop/00000168.jpg  \n",
            "  inflating: ./output_folder/Chessman-image-dataset-Bishop/Chess/Bishop/00000145.jpg  \n",
            "  inflating: ./output_folder/Chessman-image-dataset-Bishop/Chess/Bishop/00000188.jpg  \n",
            "  inflating: ./output_folder/Chessman-image-dataset-Bishop/Chess/Bishop/00000007.jpg  \n",
            "  inflating: ./output_folder/Chessman-image-dataset-Bishop/Chess/Bishop/00000169.jpg  \n",
            "  inflating: ./output_folder/Chessman-image-dataset-Bishop/Chess/Bishop/00000086.png  \n",
            "  inflating: ./output_folder/Chessman-image-dataset-Bishop/Chess/Bishop/00000092.jpg  \n",
            "  inflating: ./output_folder/Chessman-image-dataset-Bishop/Chess/Bishop/00000102.jpg  \n",
            "  inflating: ./output_folder/Chessman-image-dataset-Bishop/Chess/Bishop/00000062.jpg  \n",
            "  inflating: ./output_folder/Chessman-image-dataset-Bishop/Chess/Bishop/00000082.jpg  \n",
            "  inflating: ./output_folder/Chessman-image-dataset-Bishop/Chess/Bishop/00000011.jpg  \n",
            "  inflating: ./output_folder/Chessman-image-dataset-Bishop/Chess/Bishop/00000002.JPG  \n",
            "  inflating: ./output_folder/Chessman-image-dataset-Bishop/Chess/Bishop/00000074.jpg  \n",
            "  inflating: ./output_folder/Chessman-image-dataset-Bishop/Chess/Bishop/00000061.jpg  \n",
            "  inflating: ./output_folder/Chessman-image-dataset-Bishop/Chess/Bishop/00000088.jpg  \n",
            "  inflating: ./output_folder/Chessman-image-dataset-Bishop/Chess/Bishop/00000039.jpg  \n",
            "  inflating: ./output_folder/Chessman-image-dataset-Bishop/Chess/Bishop/00000195.jpg  \n",
            "  inflating: ./output_folder/Chessman-image-dataset-Bishop/Chess/Bishop/00000194.jpg  \n",
            "  inflating: ./output_folder/Chessman-image-dataset-Bishop/Chess/Bishop/00000178.jpg  \n",
            "  inflating: ./output_folder/Chessman-image-dataset-Bishop/Chess/Bishop/00000028.jpg  \n",
            "  inflating: ./output_folder/Chessman-image-dataset-Bishop/Chess/Bishop/00000004.jpg  \n",
            "  inflating: ./output_folder/Chessman-image-dataset-Bishop/Chess/Bishop/00000130.png  \n",
            "  inflating: ./output_folder/Chessman-image-dataset-Bishop/Chess/Bishop/00000127.jpg  \n",
            "  inflating: ./output_folder/Chessman-image-dataset-Bishop/Chess/Bishop/00000095.gif  \n",
            "  inflating: ./output_folder/Chessman-image-dataset-Bishop/Chess/Bishop/00000136.png  \n",
            "  inflating: ./output_folder/Chessman-image-dataset-Bishop/Chess/Bishop/00000199.jpg  \n",
            "  inflating: ./output_folder/Chessman-image-dataset-Bishop/Chess/Bishop/00000031.jpg  \n",
            "  inflating: ./output_folder/Chessman-image-dataset-Bishop/Chess/Bishop/00000019.jpg  \n",
            "  inflating: ./output_folder/Chessman-image-dataset-Bishop/Chess/Bishop/00000066.jpg  \n",
            "  inflating: ./output_folder/Chessman-image-dataset-Bishop/Chess/Bishop/00000189.jpg  \n",
            "  inflating: ./output_folder/Chessman-image-dataset-Bishop/Chess/Bishop/00000089.jpg  \n",
            "  inflating: ./output_folder/Chessman-image-dataset-Bishop/Chess/Bishop/00000068.png  \n",
            "  inflating: ./output_folder/Chessman-image-dataset-Bishop/Chess/Bishop/00000070.jpg  \n",
            "  inflating: ./output_folder/Chessman-image-dataset-Bishop/Chess/Bishop/00000112.jpg  \n",
            "  inflating: ./output_folder/Chessman-image-dataset-Bishop/Chess/Bishop/00000126.jpg  \n",
            "  inflating: ./output_folder/Chessman-image-dataset-Bishop/Chess/Bishop/00000006.jpg  \n",
            "  inflating: ./output_folder/Chessman-image-dataset-Bishop/Chess/Bishop/00000186.jpg  \n",
            "  inflating: ./output_folder/Chessman-image-dataset-Bishop/Chess/Bishop/00000015.png  \n",
            "  inflating: ./output_folder/Chessman-image-dataset-Bishop/Chess/Bishop/00000018.jpg  \n",
            "  inflating: ./output_folder/Chessman-image-dataset-Bishop/Chess/Bishop/00000020.jpg  \n",
            "  inflating: ./output_folder/Chessman-image-dataset-Bishop/Chess/Bishop/00000034.jpg  \n",
            "  inflating: ./output_folder/Chessman-image-dataset-Bishop/Chess/Bishop/00000003.png  \n",
            "  inflating: ./output_folder/Chessman-image-dataset-Bishop/Chess/Bishop/00000103.jpg  \n",
            "  inflating: ./output_folder/Chessman-image-dataset-Bishop/Chess/Bishop/00000075.jpg  \n",
            "  inflating: ./output_folder/Chessman-image-dataset-Bishop/Chess/Bishop/00000182.jpg  \n",
            "  inflating: ./output_folder/Chessman-image-dataset-Bishop/Chess/Bishop/00000193.jpg  \n",
            "  inflating: ./output_folder/Chessman-image-dataset-Bishop/Chess/Bishop/00000001.jpg  \n",
            "  inflating: ./output_folder/Chessman-image-dataset-Bishop/Chess/Bishop/00000081.jpg  \n",
            "  inflating: ./output_folder/Chessman-image-dataset-Bishop/Chess/Bishop/00000150.png  \n",
            "  inflating: ./output_folder/Chessman-image-dataset-Bishop/Chess/Bishop/00000013.jpg  \n",
            "  inflating: ./output_folder/Chessman-image-dataset-Bishop/Chess/Bishop/00000117.jpg  \n",
            "  inflating: ./output_folder/Chessman-image-dataset-Bishop/Chess/Bishop/00000151.png  \n",
            "  inflating: ./output_folder/Chessman-image-dataset-Bishop/Chess/Bishop/00000120.jpg  \n",
            "  inflating: ./output_folder/Chessman-image-dataset-Bishop/Chess/Bishop/00000094.jpg  \n",
            "  inflating: ./output_folder/Chessman-image-dataset-Bishop/Chess/Bishop/00000054.jpeg  \n",
            "  inflating: ./output_folder/Chessman-image-dataset-Bishop/Chess/Bishop/00000009.png  \n",
            "  inflating: ./output_folder/Chessman-image-dataset-Bishop/Chess/Bishop/00000024.jpg  \n",
            "  inflating: ./output_folder/Chessman-image-dataset-Bishop/Chess/Bishop/00000017.jpg  \n",
            "  inflating: ./output_folder/Chessman-image-dataset-Bishop/Chess/Bishop/00000079.jpg  \n",
            "  inflating: ./output_folder/Chessman-image-dataset-Bishop/Chess/Bishop/00000000.JPG  \n",
            "  inflating: ./output_folder/Chessman-image-dataset-Bishop/Chess/Bishop/00000174.jpg  \n",
            "  inflating: ./output_folder/Chessman-image-dataset-Bishop/Chess/Bishop/00000158.jpg  \n",
            "  inflating: ./output_folder/Chessman-image-dataset-Bishop/Chess/Bishop/00000037.jpg  \n",
            "  inflating: ./output_folder/Chessman-image-dataset-Bishop/Chess/Bishop/00000042.jpg  \n",
            "  inflating: ./output_folder/Chessman-image-dataset-Bishop/Chess/Bishop/00000008.jpg  \n",
            "  inflating: ./output_folder/Chessman-image-dataset-Bishop/Chess/Bishop/00000071.png  \n"
          ]
        }
      ],
      "source": [
        "!unzip downloaded_file.zip -d ./output_folder"
      ]
    },
    {
      "cell_type": "code",
      "source": [
        "#se borra el elemento descasgado\n",
        "!rm -f /content/downloaded_file.zip"
      ],
      "metadata": {
        "id": "vRNV6ohrSHVn"
      },
      "execution_count": null,
      "outputs": []
    },
    {
      "cell_type": "code",
      "source": [
        "!rm -rf /content/sample_data"
      ],
      "metadata": {
        "id": "Ub9VMH6JSoh6"
      },
      "execution_count": null,
      "outputs": []
    },
    {
      "cell_type": "markdown",
      "metadata": {
        "id": "tLWlUqGF7XiY"
      },
      "source": [
        "## Punto 2\n",
        "\n",
        "Crear un repositorio para dvc que contenga la siguiente estructura:\n",
        "- dataset\n",
        "- dataset/raw: copiar las imágenes del dataset. Debe ser traceado por dvc.\n",
        "\n",
        "Escribir los pasos necesarios para el traceo del dataset y hacer los commit correspondientes y pushear dvc."
      ]
    },
    {
      "cell_type": "code",
      "source": [
        "!pip install -q dvc"
      ],
      "metadata": {
        "colab": {
          "base_uri": "https://localhost:8080/"
        },
        "id": "ZOD9SUTJpbgS",
        "outputId": "948cecab-4822-42e9-e914-040bdb9e4a43"
      },
      "execution_count": null,
      "outputs": [
        {
          "output_type": "stream",
          "name": "stdout",
          "text": [
            "\u001b[?25l     \u001b[90m━━━━━━━━━━━━━━━━━━━━━━━━━━━━━━━━━━━━━━━━\u001b[0m \u001b[32m0.0/101.5 kB\u001b[0m \u001b[31m?\u001b[0m eta \u001b[36m-:--:--\u001b[0m\r\u001b[2K     \u001b[90m━━━━━━━━━━━━━━━━━━━━━━━━━━━━━━━━━━━━━━━━\u001b[0m \u001b[32m101.5/101.5 kB\u001b[0m \u001b[31m4.3 MB/s\u001b[0m eta \u001b[36m0:00:00\u001b[0m\n",
            "\u001b[?25h  Installing build dependencies ... \u001b[?25l\u001b[?25hdone\n",
            "  Getting requirements to build wheel ... \u001b[?25l\u001b[?25hdone\n",
            "  Preparing metadata (pyproject.toml) ... \u001b[?25l\u001b[?25hdone\n",
            "\u001b[2K     \u001b[90m━━━━━━━━━━━━━━━━━━━━━━━━━━━━━━━━━━━━━━━━\u001b[0m \u001b[32m117.0/117.0 kB\u001b[0m \u001b[31m8.2 MB/s\u001b[0m eta \u001b[36m0:00:00\u001b[0m\n",
            "\u001b[?25h  Preparing metadata (setup.py) ... \u001b[?25l\u001b[?25hdone\n",
            "\u001b[2K   \u001b[90m━━━━━━━━━━━━━━━━━━━━━━━━━━━━━━━━━━━━━━━━\u001b[0m \u001b[32m456.5/456.5 kB\u001b[0m \u001b[31m15.2 MB/s\u001b[0m eta \u001b[36m0:00:00\u001b[0m\n",
            "\u001b[2K   \u001b[90m━━━━━━━━━━━━━━━━━━━━━━━━━━━━━━━━━━━━━━━━\u001b[0m \u001b[32m78.4/78.4 kB\u001b[0m \u001b[31m5.3 MB/s\u001b[0m eta \u001b[36m0:00:00\u001b[0m\n",
            "\u001b[2K   \u001b[90m━━━━━━━━━━━━━━━━━━━━━━━━━━━━━━━━━━━━━━━━\u001b[0m \u001b[32m426.0/426.0 kB\u001b[0m \u001b[31m23.7 MB/s\u001b[0m eta \u001b[36m0:00:00\u001b[0m\n",
            "\u001b[2K   \u001b[90m━━━━━━━━━━━━━━━━━━━━━━━━━━━━━━━━━━━━━━━━\u001b[0m \u001b[32m41.8/41.8 kB\u001b[0m \u001b[31m2.7 MB/s\u001b[0m eta \u001b[36m0:00:00\u001b[0m\n",
            "\u001b[2K   \u001b[90m━━━━━━━━━━━━━━━━━━━━━━━━━━━━━━━━━━━━━━━━\u001b[0m \u001b[32m46.6/46.6 kB\u001b[0m \u001b[31m3.0 MB/s\u001b[0m eta \u001b[36m0:00:00\u001b[0m\n",
            "\u001b[2K   \u001b[90m━━━━━━━━━━━━━━━━━━━━━━━━━━━━━━━━━━━━━━━━\u001b[0m \u001b[32m154.5/154.5 kB\u001b[0m \u001b[31m10.9 MB/s\u001b[0m eta \u001b[36m0:00:00\u001b[0m\n",
            "\u001b[2K   \u001b[90m━━━━━━━━━━━━━━━━━━━━━━━━━━━━━━━━━━━━━━━━\u001b[0m \u001b[32m201.3/201.3 kB\u001b[0m \u001b[31m13.4 MB/s\u001b[0m eta \u001b[36m0:00:00\u001b[0m\n",
            "\u001b[2K   \u001b[90m━━━━━━━━━━━━━━━━━━━━━━━━━━━━━━━━━━━━━━━━\u001b[0m \u001b[32m79.5/79.5 kB\u001b[0m \u001b[31m5.1 MB/s\u001b[0m eta \u001b[36m0:00:00\u001b[0m\n",
            "\u001b[2K   \u001b[90m━━━━━━━━━━━━━━━━━━━━━━━━━━━━━━━━━━━━━━━━\u001b[0m \u001b[32m117.8/117.8 kB\u001b[0m \u001b[31m8.1 MB/s\u001b[0m eta \u001b[36m0:00:00\u001b[0m\n",
            "\u001b[2K   \u001b[90m━━━━━━━━━━━━━━━━━━━━━━━━━━━━━━━━━━━━━━━━\u001b[0m \u001b[32m73.6/73.6 kB\u001b[0m \u001b[31m4.0 MB/s\u001b[0m eta \u001b[36m0:00:00\u001b[0m\n",
            "\u001b[2K   \u001b[90m━━━━━━━━━━━━━━━━━━━━━━━━━━━━━━━━━━━━━━━━\u001b[0m \u001b[32m969.6/969.6 kB\u001b[0m \u001b[31m29.7 MB/s\u001b[0m eta \u001b[36m0:00:00\u001b[0m\n",
            "\u001b[2K   \u001b[90m━━━━━━━━━━━━━━━━━━━━━━━━━━━━━━━━━━━━━━━━\u001b[0m \u001b[32m50.9/50.9 kB\u001b[0m \u001b[31m3.6 MB/s\u001b[0m eta \u001b[36m0:00:00\u001b[0m\n",
            "\u001b[2K   \u001b[90m━━━━━━━━━━━━━━━━━━━━━━━━━━━━━━━━━━━━━━━━\u001b[0m \u001b[32m367.6/367.6 kB\u001b[0m \u001b[31m23.3 MB/s\u001b[0m eta \u001b[36m0:00:00\u001b[0m\n",
            "\u001b[2K   \u001b[90m━━━━━━━━━━━━━━━━━━━━━━━━━━━━━━━━━━━━━━━━\u001b[0m \u001b[32m86.8/86.8 kB\u001b[0m \u001b[31m5.8 MB/s\u001b[0m eta \u001b[36m0:00:00\u001b[0m\n",
            "\u001b[2K   \u001b[90m━━━━━━━━━━━━━━━━━━━━━━━━━━━━━━━━━━━━━━━━\u001b[0m \u001b[32m45.5/45.5 kB\u001b[0m \u001b[31m2.9 MB/s\u001b[0m eta \u001b[36m0:00:00\u001b[0m\n",
            "\u001b[2K   \u001b[90m━━━━━━━━━━━━━━━━━━━━━━━━━━━━━━━━━━━━━━━━\u001b[0m \u001b[32m722.2/722.2 kB\u001b[0m \u001b[31m36.3 MB/s\u001b[0m eta \u001b[36m0:00:00\u001b[0m\n",
            "\u001b[?25h  Building wheel for configobj (pyproject.toml) ... \u001b[?25l\u001b[?25hdone\n",
            "  Building wheel for antlr4-python3-runtime (setup.py) ... \u001b[?25l\u001b[?25hdone\n"
          ]
        }
      ]
    },
    {
      "cell_type": "code",
      "execution_count": null,
      "metadata": {
        "id": "vf9IzBKJMDXm",
        "colab": {
          "base_uri": "https://localhost:8080/"
        },
        "outputId": "fd35df35-4d39-46eb-8592-9d09974998d4"
      },
      "outputs": [
        {
          "output_type": "stream",
          "name": "stdout",
          "text": [
            "3.56.0\n",
            "\u001b[0m"
          ]
        }
      ],
      "source": [
        "!dvc --version"
      ]
    },
    {
      "cell_type": "code",
      "source": [
        "git_folder = \"/content/tp3_HdS\"\n",
        "# creamos un directorio\n",
        "!mkdir -p {git_folder}"
      ],
      "metadata": {
        "id": "z7QiV_PsRE4-"
      },
      "execution_count": null,
      "outputs": []
    },
    {
      "cell_type": "code",
      "source": [
        "# entramos al directorio\n",
        "%cd {git_folder}\n",
        "# inicializamos git\n",
        "!git init\n",
        "# configuramos git\n",
        "!git config user.name \"ctalamilla\"\n",
        "!git config user.email \"salinastalamilla@gmail.com\""
      ],
      "metadata": {
        "colab": {
          "base_uri": "https://localhost:8080/"
        },
        "id": "idHN4ASIrgeE",
        "outputId": "68400483-acd6-4760-c403-fe9e42c479ce"
      },
      "execution_count": null,
      "outputs": [
        {
          "output_type": "stream",
          "name": "stdout",
          "text": [
            "/content/tp3_HdS\n",
            "\u001b[33mhint: Using 'master' as the name for the initial branch. This default branch name\u001b[m\n",
            "\u001b[33mhint: is subject to change. To configure the initial branch name to use in all\u001b[m\n",
            "\u001b[33mhint: of your new repositories, which will suppress this warning, call:\u001b[m\n",
            "\u001b[33mhint: \u001b[m\n",
            "\u001b[33mhint: \tgit config --global init.defaultBranch <name>\u001b[m\n",
            "\u001b[33mhint: \u001b[m\n",
            "\u001b[33mhint: Names commonly chosen instead of 'master' are 'main', 'trunk' and\u001b[m\n",
            "\u001b[33mhint: 'development'. The just-created branch can be renamed via this command:\u001b[m\n",
            "\u001b[33mhint: \u001b[m\n",
            "\u001b[33mhint: \tgit branch -m <name>\u001b[m\n",
            "Initialized empty Git repository in /content/tp3_HdS/.git/\n"
          ]
        }
      ]
    },
    {
      "cell_type": "code",
      "source": [
        "!git status"
      ],
      "metadata": {
        "colab": {
          "base_uri": "https://localhost:8080/"
        },
        "id": "eAPn-yW7RVoX",
        "outputId": "887a7123-d37a-4783-937e-33a8b7bf1261"
      },
      "execution_count": null,
      "outputs": [
        {
          "output_type": "stream",
          "name": "stdout",
          "text": [
            "On branch master\n",
            "\n",
            "No commits yet\n",
            "\n",
            "nothing to commit (create/copy files and use \"git add\" to track)\n"
          ]
        }
      ]
    },
    {
      "cell_type": "code",
      "source": [
        "!ls -al"
      ],
      "metadata": {
        "colab": {
          "base_uri": "https://localhost:8080/"
        },
        "id": "kRhbQaz9RZQ5",
        "outputId": "42da92eb-41c2-4b70-d6b0-a7fbec06cea2"
      },
      "execution_count": null,
      "outputs": [
        {
          "output_type": "stream",
          "name": "stdout",
          "text": [
            "total 16\n",
            "drwxr-xr-x 3 root root 4096 Nov 10 13:45 .\n",
            "drwxr-xr-x 1 root root 4096 Nov 10 13:44 ..\n",
            "drwxr-xr-x 7 root root 4096 Nov 10 13:45 .git\n"
          ]
        }
      ]
    },
    {
      "cell_type": "code",
      "source": [
        "!dvc init"
      ],
      "metadata": {
        "colab": {
          "base_uri": "https://localhost:8080/"
        },
        "id": "z9oH4m51tDzi",
        "outputId": "39f6ef2a-2893-4d9a-f637-f93cc96983d4"
      },
      "execution_count": null,
      "outputs": [
        {
          "output_type": "stream",
          "name": "stdout",
          "text": [
            "Initialized DVC repository.\n",
            "\n",
            "You can now commit the changes to git.\n",
            "\n",
            "\u001b[31m+---------------------------------------------------------------------+\n",
            "\u001b[0m\u001b[31m|\u001b[0m                                                                     \u001b[31m|\u001b[0m\n",
            "\u001b[31m|\u001b[0m        DVC has enabled anonymous aggregate usage analytics.         \u001b[31m|\u001b[0m\n",
            "\u001b[31m|\u001b[0m     Read the analytics documentation (and how to opt-out) here:     \u001b[31m|\u001b[0m\n",
            "\u001b[31m|\u001b[0m             <\u001b[36mhttps://dvc.org/doc/user-guide/analytics\u001b[39m>              \u001b[31m|\u001b[0m\n",
            "\u001b[31m|\u001b[0m                                                                     \u001b[31m|\u001b[0m\n",
            "\u001b[31m+---------------------------------------------------------------------+\n",
            "\u001b[0m\n",
            "\u001b[33mWhat's next?\u001b[39m\n",
            "\u001b[33m------------\u001b[39m\n",
            "- Check out the documentation: <\u001b[36mhttps://dvc.org/doc\u001b[39m>\n",
            "- Get help and share ideas: <\u001b[36mhttps://dvc.org/chat\u001b[39m>\n",
            "- Star us on GitHub: <\u001b[36mhttps://github.com/iterative/dvc\u001b[39m>\n",
            "\u001b[0m"
          ]
        }
      ]
    },
    {
      "cell_type": "code",
      "source": [
        "!pwd"
      ],
      "metadata": {
        "colab": {
          "base_uri": "https://localhost:8080/"
        },
        "id": "KL_4uGD0U4cX",
        "outputId": "3b7b7fd4-ea06-48a5-f435-e2b3a8859d45"
      },
      "execution_count": null,
      "outputs": [
        {
          "output_type": "stream",
          "name": "stdout",
          "text": [
            "/content/tp3_HdS\n"
          ]
        }
      ]
    },
    {
      "cell_type": "code",
      "source": [
        "!ls -al"
      ],
      "metadata": {
        "colab": {
          "base_uri": "https://localhost:8080/"
        },
        "id": "7LdxIQSQtDws",
        "outputId": "1f5e018f-9bb2-4812-ca1a-f9c249078509"
      },
      "execution_count": null,
      "outputs": [
        {
          "output_type": "stream",
          "name": "stdout",
          "text": [
            "total 24\n",
            "drwxr-xr-x 4 root root 4096 Nov 10 13:46 .\n",
            "drwxr-xr-x 1 root root 4096 Nov 10 13:44 ..\n",
            "drwxr-xr-x 3 root root 4096 Nov 10 13:46 .dvc\n",
            "-rw-r--r-- 1 root root  139 Nov 10 13:46 .dvcignore\n",
            "drwxr-xr-x 7 root root 4096 Nov 10 13:46 .git\n"
          ]
        }
      ]
    },
    {
      "cell_type": "code",
      "source": [
        "# estado del proyecto de git\n",
        "!git status"
      ],
      "metadata": {
        "colab": {
          "base_uri": "https://localhost:8080/"
        },
        "id": "zJiSDwlttDkQ",
        "outputId": "186d1565-0120-4bf6-e870-501826f61b53"
      },
      "execution_count": null,
      "outputs": [
        {
          "output_type": "stream",
          "name": "stdout",
          "text": [
            "On branch master\n",
            "\n",
            "No commits yet\n",
            "\n",
            "Changes to be committed:\n",
            "  (use \"git rm --cached <file>...\" to unstage)\n",
            "\t\u001b[32mnew file:   .dvc/.gitignore\u001b[m\n",
            "\t\u001b[32mnew file:   .dvc/config\u001b[m\n",
            "\t\u001b[32mnew file:   .dvcignore\u001b[m\n",
            "\n"
          ]
        }
      ]
    },
    {
      "cell_type": "code",
      "source": [
        "!git add ."
      ],
      "metadata": {
        "id": "XboXAbL3to20"
      },
      "execution_count": null,
      "outputs": []
    },
    {
      "cell_type": "code",
      "source": [
        "# estado del proyecto de git\n",
        "!git status"
      ],
      "metadata": {
        "colab": {
          "base_uri": "https://localhost:8080/"
        },
        "id": "YQL7ZA1zVEbZ",
        "outputId": "14fea5d8-5482-4da5-8cb8-03b88b3aaa12"
      },
      "execution_count": null,
      "outputs": [
        {
          "output_type": "stream",
          "name": "stdout",
          "text": [
            "On branch master\n",
            "\n",
            "No commits yet\n",
            "\n",
            "Changes to be committed:\n",
            "  (use \"git rm --cached <file>...\" to unstage)\n",
            "\t\u001b[32mnew file:   .dvc/.gitignore\u001b[m\n",
            "\t\u001b[32mnew file:   .dvc/config\u001b[m\n",
            "\t\u001b[32mnew file:   .dvcignore\u001b[m\n",
            "\n"
          ]
        }
      ]
    },
    {
      "cell_type": "code",
      "source": [
        "!git commit -m \"Inicialización del repositorio de dvc\""
      ],
      "metadata": {
        "colab": {
          "base_uri": "https://localhost:8080/"
        },
        "id": "tCtU1mFktPWH",
        "outputId": "2866182a-8bce-4321-ec71-f8eab64845b8"
      },
      "execution_count": null,
      "outputs": [
        {
          "output_type": "stream",
          "name": "stdout",
          "text": [
            "[master (root-commit) 512e2b2] Inicialización del repositorio de dvc\n",
            " 3 files changed, 6 insertions(+)\n",
            " create mode 100644 .dvc/.gitignore\n",
            " create mode 100644 .dvc/config\n",
            " create mode 100644 .dvcignore\n"
          ]
        }
      ]
    },
    {
      "cell_type": "code",
      "source": [
        "!git status"
      ],
      "metadata": {
        "colab": {
          "base_uri": "https://localhost:8080/"
        },
        "id": "l9AVXGc4tT3q",
        "outputId": "a605e5af-e08c-40c8-8326-fb63aba5b3d6"
      },
      "execution_count": null,
      "outputs": [
        {
          "output_type": "stream",
          "name": "stdout",
          "text": [
            "On branch master\n",
            "nothing to commit, working tree clean\n"
          ]
        }
      ]
    },
    {
      "cell_type": "code",
      "source": [
        "#crear carpetas\n",
        "data_folder = f\"{git_folder}/dataset\"\n",
        "!mkdir -p {data_folder}\n",
        "raw_folder = f\"{data_folder}/raw\"\n",
        "!mkdir -p {raw_folder}"
      ],
      "metadata": {
        "id": "QLIwSM7dsQ8M"
      },
      "execution_count": null,
      "outputs": []
    },
    {
      "cell_type": "code",
      "source": [
        "!dvc add {raw_folder}"
      ],
      "metadata": {
        "colab": {
          "base_uri": "https://localhost:8080/"
        },
        "id": "uNlE18URVsN-",
        "outputId": "856f7a12-1d82-4316-a1d2-582192201117"
      },
      "execution_count": null,
      "outputs": [
        {
          "output_type": "stream",
          "name": "stdout",
          "text": [
            "\u001b[?25l\u001b[32m⠋\u001b[0m Checking graph\n",
            "Adding...:   0% 0/1 [00:00<?, ?file/s{'info': ''}]\n",
            "!\u001b[A\n",
            "          |0.00 [00:00,     ?file/s]\u001b[A\n",
            "                                    \u001b[A\n",
            "!\u001b[A\n",
            "  0% |          |0/? [00:00<?,    ?files/s]\u001b[A\n",
            "                                           \u001b[A\n",
            "!\u001b[A\n",
            "Checking out /content/tp3_HdS/dataset/raw          |0.00 [00:00,    ?files/s]\u001b[A\n",
            "Adding...: 100% 1/1 [00:00<00:00, 17.99file/s{'info': ''}]\n",
            "\n",
            "To track the changes with git, run:\n",
            "\n",
            "\tgit add dataset/.gitignore dataset/raw.dvc\n",
            "\n",
            "To enable auto staging, run:\n",
            "\n",
            "\tdvc config core.autostage true\n",
            "\u001b[0m"
          ]
        }
      ]
    },
    {
      "cell_type": "code",
      "source": [
        "!git status"
      ],
      "metadata": {
        "colab": {
          "base_uri": "https://localhost:8080/"
        },
        "id": "gRm1GnKhVRbA",
        "outputId": "ee0f1fc9-1476-46b3-90ca-d22fd7b05e67"
      },
      "execution_count": null,
      "outputs": [
        {
          "output_type": "stream",
          "name": "stdout",
          "text": [
            "On branch master\n",
            "Untracked files:\n",
            "  (use \"git add <file>...\" to include in what will be committed)\n",
            "\t\u001b[31mdataset/\u001b[m\n",
            "\n",
            "nothing added to commit but untracked files present (use \"git add\" to track)\n"
          ]
        }
      ]
    },
    {
      "cell_type": "code",
      "source": [
        "!cat dataset/.gitignore"
      ],
      "metadata": {
        "colab": {
          "base_uri": "https://localhost:8080/"
        },
        "id": "-qLveGdfWXxW",
        "outputId": "c5324548-571d-43d6-afd4-71c3eef4e475"
      },
      "execution_count": null,
      "outputs": [
        {
          "output_type": "stream",
          "name": "stdout",
          "text": [
            "/raw\n"
          ]
        }
      ]
    },
    {
      "cell_type": "code",
      "source": [
        "!git status"
      ],
      "metadata": {
        "colab": {
          "base_uri": "https://localhost:8080/"
        },
        "id": "ls3Hb1UoSufJ",
        "outputId": "2407d2fc-84eb-48f5-d447-0806db1265d8"
      },
      "execution_count": null,
      "outputs": [
        {
          "output_type": "stream",
          "name": "stdout",
          "text": [
            "On branch master\n",
            "Untracked files:\n",
            "  (use \"git add <file>...\" to include in what will be committed)\n",
            "\t\u001b[31mdataset/\u001b[m\n",
            "\n",
            "nothing added to commit but untracked files present (use \"git add\" to track)\n"
          ]
        }
      ]
    },
    {
      "cell_type": "code",
      "source": [
        "!git add dataset/raw.dvc dataset/.gitignore"
      ],
      "metadata": {
        "id": "WhtInIesWLtO"
      },
      "execution_count": null,
      "outputs": []
    },
    {
      "cell_type": "code",
      "source": [
        "!cat dataset/.gitignore"
      ],
      "metadata": {
        "colab": {
          "base_uri": "https://localhost:8080/"
        },
        "id": "5FA1XQGBWvgN",
        "outputId": "1e2f2e26-27b5-459c-816c-5a337a96043e"
      },
      "execution_count": null,
      "outputs": [
        {
          "output_type": "stream",
          "name": "stdout",
          "text": [
            "/raw\n"
          ]
        }
      ]
    },
    {
      "cell_type": "code",
      "source": [
        "!git status"
      ],
      "metadata": {
        "colab": {
          "base_uri": "https://localhost:8080/"
        },
        "id": "ZD_V5DHmVd08",
        "outputId": "74fde9f4-fb2a-4106-8c67-9bd5071ffa2b"
      },
      "execution_count": null,
      "outputs": [
        {
          "output_type": "stream",
          "name": "stdout",
          "text": [
            "On branch master\n",
            "Changes to be committed:\n",
            "  (use \"git restore --staged <file>...\" to unstage)\n",
            "\t\u001b[32mnew file:   dataset/.gitignore\u001b[m\n",
            "\t\u001b[32mnew file:   dataset/raw.dvc\u001b[m\n",
            "\n"
          ]
        }
      ]
    },
    {
      "cell_type": "code",
      "source": [
        "#copiar imagenes del sitio de descarga a la carpeta raw\n",
        "path_imagenes = '/content/output_folder/Chessman-image-dataset-Bishop/Chess/Bishop/*'\n",
        "!cp {path_imagenes} {raw_folder}\n"
      ],
      "metadata": {
        "id": "KOPSzWTQS9gk"
      },
      "execution_count": null,
      "outputs": []
    },
    {
      "cell_type": "code",
      "source": [
        "!rm -rf /content/output_folder"
      ],
      "metadata": {
        "id": "RPoVim7eS16z"
      },
      "execution_count": null,
      "outputs": []
    },
    {
      "cell_type": "code",
      "source": [
        "! git status"
      ],
      "metadata": {
        "colab": {
          "base_uri": "https://localhost:8080/"
        },
        "id": "FCj2Yz0cWLpS",
        "outputId": "1adbf344-f916-43dc-826e-4b6c8f0de6c3"
      },
      "execution_count": null,
      "outputs": [
        {
          "output_type": "stream",
          "name": "stdout",
          "text": [
            "On branch master\n",
            "Changes to be committed:\n",
            "  (use \"git restore --staged <file>...\" to unstage)\n",
            "\t\u001b[32mnew file:   dataset/.gitignore\u001b[m\n",
            "\t\u001b[32mnew file:   dataset/raw.dvc\u001b[m\n",
            "\n"
          ]
        }
      ]
    },
    {
      "cell_type": "code",
      "source": [
        "!git add ."
      ],
      "metadata": {
        "id": "bbVxAEsksEDW"
      },
      "execution_count": null,
      "outputs": []
    },
    {
      "cell_type": "code",
      "source": [
        "!git commit -m \"creación de carpetas, parametros dvc y agregado de imagenes\""
      ],
      "metadata": {
        "colab": {
          "base_uri": "https://localhost:8080/"
        },
        "id": "K3VqUqj8S7E5",
        "outputId": "e1bf946f-34ba-49b0-e301-48d5a3aeda57"
      },
      "execution_count": null,
      "outputs": [
        {
          "output_type": "stream",
          "name": "stdout",
          "text": [
            "[master e8e9b4e] creación de carpetas, parametros dvc y agregado de imagenes\n",
            " 2 files changed, 7 insertions(+)\n",
            " create mode 100644 dataset/.gitignore\n",
            " create mode 100644 dataset/raw.dvc\n"
          ]
        }
      ]
    },
    {
      "cell_type": "code",
      "source": [
        "!git status"
      ],
      "metadata": {
        "colab": {
          "base_uri": "https://localhost:8080/"
        },
        "id": "l9fByB5yT_7X",
        "outputId": "19b43a5c-7448-4ce4-d7dd-f6de5fdd5665"
      },
      "execution_count": null,
      "outputs": [
        {
          "output_type": "stream",
          "name": "stdout",
          "text": [
            "On branch master\n",
            "nothing to commit, working tree clean\n"
          ]
        }
      ]
    },
    {
      "cell_type": "code",
      "source": [
        "!dvc status"
      ],
      "metadata": {
        "colab": {
          "base_uri": "https://localhost:8080/"
        },
        "id": "iBv-YRokWLmG",
        "outputId": "968c53b4-8f56-4980-cbf1-97e9b55df1b9"
      },
      "execution_count": null,
      "outputs": [
        {
          "output_type": "stream",
          "name": "stdout",
          "text": [
            "\r!\rIf DVC froze, see `hardlink_lock` in <\u001b[36mhttps://man.dvc.org/config#core\u001b[39m>\r                                                                      \r\r!\r          |0.00 [00:00,     ?file/s]\r                                    \rdataset/raw.dvc:\n",
            "\tchanged outs:\n",
            "\t\tmodified:           dataset/raw\n",
            "\u001b[0m"
          ]
        }
      ]
    },
    {
      "cell_type": "code",
      "source": [
        "# crear carpeta repo\n",
        "dvc_folder=\"/content/remote-ugr-lcc-tp3_HdS\"\n",
        "!mkdir -p {dvc_folder}"
      ],
      "metadata": {
        "id": "Mqu2KNY4hlr2"
      },
      "execution_count": null,
      "outputs": []
    },
    {
      "cell_type": "code",
      "source": [
        "!dvc remote list"
      ],
      "metadata": {
        "colab": {
          "base_uri": "https://localhost:8080/"
        },
        "outputId": "00789d32-355d-49be-b078-eb87238832f9",
        "id": "FUqiXi2dhlr3"
      },
      "execution_count": null,
      "outputs": [
        {
          "output_type": "stream",
          "name": "stdout",
          "text": [
            "\u001b[0m"
          ]
        }
      ]
    },
    {
      "cell_type": "code",
      "source": [
        "!dvc remote add --force origin_local {dvc_folder}"
      ],
      "metadata": {
        "colab": {
          "base_uri": "https://localhost:8080/"
        },
        "outputId": "e89a68d1-dcfc-4ab7-f771-9fa36870484f",
        "id": "2NXJX6Bhhlr3"
      },
      "execution_count": null,
      "outputs": [
        {
          "output_type": "stream",
          "name": "stdout",
          "text": [
            "\u001b[0m"
          ]
        }
      ]
    },
    {
      "cell_type": "code",
      "source": [
        "!dvc remote list"
      ],
      "metadata": {
        "colab": {
          "base_uri": "https://localhost:8080/"
        },
        "outputId": "c63592bf-021f-46bc-b276-49615f046876",
        "id": "uyhVzWSkhlr3"
      },
      "execution_count": null,
      "outputs": [
        {
          "output_type": "stream",
          "name": "stdout",
          "text": [
            "origin_local\t/content/remote-ugr-lcc-tp3_HdS\n",
            "\u001b[0m"
          ]
        }
      ]
    },
    {
      "cell_type": "code",
      "source": [
        "# verificamos el estado de git\n",
        "!git status"
      ],
      "metadata": {
        "colab": {
          "base_uri": "https://localhost:8080/"
        },
        "outputId": "f219d510-0753-4d19-c048-fcc5f792415e",
        "id": "VTXfj-kEhlr3"
      },
      "execution_count": null,
      "outputs": [
        {
          "output_type": "stream",
          "name": "stdout",
          "text": [
            "On branch master\n",
            "Changes not staged for commit:\n",
            "  (use \"git add <file>...\" to update what will be committed)\n",
            "  (use \"git restore <file>...\" to discard changes in working directory)\n",
            "\t\u001b[31mmodified:   .dvc/config\u001b[m\n",
            "\n",
            "no changes added to commit (use \"git add\" and/or \"git commit -a\")\n"
          ]
        }
      ]
    },
    {
      "cell_type": "code",
      "source": [
        "# agregamos el archivo\n",
        "!git add .dvc/config\n",
        "# realizamos el commit\n",
        "!git commit -m \"Se agregó el remote a dvc\""
      ],
      "metadata": {
        "colab": {
          "base_uri": "https://localhost:8080/"
        },
        "outputId": "a6befc1e-1436-410e-ae76-fdefd968c9b2",
        "id": "lUb5Vg69hlr3"
      },
      "execution_count": null,
      "outputs": [
        {
          "output_type": "stream",
          "name": "stdout",
          "text": [
            "[master cff8c62] Se agregó el remote a dvc\n",
            " 1 file changed, 2 insertions(+)\n"
          ]
        }
      ]
    },
    {
      "cell_type": "code",
      "source": [
        "# verificamos el estado de git\n",
        "!git status"
      ],
      "metadata": {
        "colab": {
          "base_uri": "https://localhost:8080/"
        },
        "outputId": "ae67b885-d808-4e63-e178-39ab60553a09",
        "id": "1cGh6lmjhlr3"
      },
      "execution_count": null,
      "outputs": [
        {
          "output_type": "stream",
          "name": "stdout",
          "text": [
            "On branch master\n",
            "nothing to commit, working tree clean\n"
          ]
        }
      ]
    },
    {
      "cell_type": "code",
      "source": [
        "!dvc push --remote origin_local"
      ],
      "metadata": {
        "colab": {
          "base_uri": "https://localhost:8080/"
        },
        "outputId": "3fe26643-14bb-42de-9927-4a96e7b3a6d9",
        "id": "K8cas58Nhlr4"
      },
      "execution_count": null,
      "outputs": [
        {
          "output_type": "stream",
          "name": "stdout",
          "text": [
            "\r!\rIf DVC froze, see `hardlink_lock` in <\u001b[36mhttps://man.dvc.org/config#core\u001b[39m>\r                                                                      \r\r!\rCollecting          |0.00 [00:00,    ?entry/s]\rCollecting          |1.00 [00:00, 46.4entry/s]\n",
            "\r!\rPushing\n",
            "\rQuerying remote cache:   0% 0/1 [00:00<?, ?files/s]\u001b[A\n",
            "\rQuerying remote cache:   0% 0/1 [00:00<?, ?files/s{'info': ''}]\u001b[A\n",
            "\r                                                               \u001b[A\n",
            "\r!\u001b[A\n",
            "\r  0% |          |0/? [00:00<?,    ?files/s]\u001b[A\n",
            "\r                                           \u001b[A\n",
            "\r!\u001b[A\n",
            "\r  0% |          |0/? [00:00<?,    ?files/s]\u001b[A\n",
            "\r                                           \u001b[A\n",
            "\rPushing to local:   0% 0/1 [00:00<?, ?file/s]\u001b[A\n",
            "\rPushing to local:   0% 0/1 [00:00<?, ?file/s{'info': ''}]\u001b[A\n",
            "\r                                                         \u001b[A\rPushing\n",
            "1 file pushed\n",
            "\u001b[0m"
          ]
        }
      ]
    },
    {
      "cell_type": "code",
      "source": [
        "# listamos para ver el/los archivos que genero dvc\n",
        "!ls -alR {dvc_folder}"
      ],
      "metadata": {
        "colab": {
          "base_uri": "https://localhost:8080/"
        },
        "outputId": "38ecbff9-9ff2-4084-d9eb-fa1e81f6e3b8",
        "id": "PeToWPTrhlr4"
      },
      "execution_count": null,
      "outputs": [
        {
          "output_type": "stream",
          "name": "stdout",
          "text": [
            "/content/remote-ugr-lcc-tp3_HdS:\n",
            "total 16\n",
            "drwxr-xr-x 3 root root 4096 Nov 10 13:51 .\n",
            "drwxr-xr-x 1 root root 4096 Nov 10 13:50 ..\n",
            "drwxr-xr-x 3 root root 4096 Nov 10 13:51 files\n",
            "\n",
            "/content/remote-ugr-lcc-tp3_HdS/files:\n",
            "total 12\n",
            "drwxr-xr-x 3 root root 4096 Nov 10 13:51 .\n",
            "drwxr-xr-x 3 root root 4096 Nov 10 13:51 ..\n",
            "drwxr-xr-x 3 root root 4096 Nov 10 13:51 md5\n",
            "\n",
            "/content/remote-ugr-lcc-tp3_HdS/files/md5:\n",
            "total 12\n",
            "drwxr-xr-x 3 root root 4096 Nov 10 13:51 .\n",
            "drwxr-xr-x 3 root root 4096 Nov 10 13:51 ..\n",
            "drwxr-xr-x 2 root root 4096 Nov 10 13:51 d7\n",
            "\n",
            "/content/remote-ugr-lcc-tp3_HdS/files/md5/d7:\n",
            "total 12\n",
            "drwxr-xr-x 2 root root 4096 Nov 10 13:51 .\n",
            "drwxr-xr-x 3 root root 4096 Nov 10 13:51 ..\n",
            "-r--r--r-- 1 root root    2 Nov 10 13:51 51713988987e9331980363e24189ce.dir\n"
          ]
        }
      ]
    },
    {
      "cell_type": "markdown",
      "metadata": {
        "id": "9b9-F7m2DeHP"
      },
      "source": [
        "\n",
        "## Punto 3\n",
        "\n",
        "Tomar las imágenes del directorio `dataset/raw` y unificar la resolución de las imágenes para que sea `800x600`. Las nuevas imágenes deben quedar almacenadar en `dataset/resize`. Solo tomar las imágenes válidas. El directorio `resize` debe ser traceado por dvc.\n",
        "\n",
        "Escribir los pasos necesarios para el traceo del dataset y hacer los commit correspondientes y pushear dvc.\n"
      ]
    },
    {
      "cell_type": "code",
      "execution_count": null,
      "metadata": {
        "id": "1zz7dkiDMGxD"
      },
      "outputs": [],
      "source": [
        "from PIL import Image\n",
        "import os\n",
        "\n",
        "def resize_images(input_dir, output_dir, target_size):\n",
        "    \"\"\"\n",
        "    Redimensiona todas las imágenes en input_dir a target_size,\n",
        "    y las guarda en output_dir excluyendo archivos GIF.\n",
        "\n",
        "    Parameters:\n",
        "    - input_dir (str): Directorio de entrada donde se encuentran las imágenes originales.\n",
        "    - output_dir (str): Directorio de salida donde se guardarán las imágenes redimensionadas.\n",
        "    - target_size (tuple): Tamaño objetivo en píxeles (ancho, alto).\n",
        "    \"\"\"\n",
        "\n",
        "    # Asegurarse de que el directorio de salida existe\n",
        "    os.makedirs(output_dir, exist_ok=True)\n",
        "\n",
        "    # Procesar cada archivo en el directorio de entrada\n",
        "    for filename in os.listdir(input_dir):\n",
        "        file_path = os.path.join(input_dir, filename)\n",
        "\n",
        "        # Ignorar archivos GIF\n",
        "        if filename.lower().endswith('.gif'):\n",
        "            print(f\"Archivo GIF excluido: {filename}\")\n",
        "            continue\n",
        "\n",
        "        try:\n",
        "            with Image.open(file_path) as img:\n",
        "                # Redimensionar la imagen y guardarla en el directorio de salida\n",
        "                img = img.resize(target_size)\n",
        "                img.save(os.path.join(output_dir, filename))\n",
        "            print(f\"Imagen procesada y redimensionada: {filename}\")\n",
        "        except Exception as e:\n",
        "            print(f\"Archivo no válido o dañado, no se procesó: {filename}, Error: {e}\")\n",
        "\n",
        "\n"
      ]
    },
    {
      "cell_type": "code",
      "source": [
        "resize_images(\"dataset/raw\", \"dataset/resize\", (800, 600))"
      ],
      "metadata": {
        "colab": {
          "base_uri": "https://localhost:8080/"
        },
        "id": "VhBEDcKD5Qhg",
        "outputId": "5045ac2a-34f8-4d2c-effb-1e00ff05c7b7"
      },
      "execution_count": null,
      "outputs": [
        {
          "output_type": "stream",
          "name": "stdout",
          "text": [
            "Imagen procesada y redimensionada: 00000169.jpg\n",
            "Imagen procesada y redimensionada: 00000112.jpg\n",
            "Imagen procesada y redimensionada: 00000068.png\n",
            "Imagen procesada y redimensionada: 00000020.jpg\n",
            "Imagen procesada y redimensionada: 00000117.jpg\n",
            "Imagen procesada y redimensionada: 00000113.png\n",
            "Imagen procesada y redimensionada: 00000088.jpg\n",
            "Imagen procesada y redimensionada: 00000121.jpg\n",
            "Imagen procesada y redimensionada: 00000189.jpg\n",
            "Imagen procesada y redimensionada: 00000149.jpg\n",
            "Imagen procesada y redimensionada: 00000126.jpg\n",
            "Imagen procesada y redimensionada: 00000078.jpg\n",
            "Imagen procesada y redimensionada: 00000193.jpg\n",
            "Imagen procesada y redimensionada: 00000071.png\n",
            "Imagen procesada y redimensionada: 00000015.png\n",
            "Imagen procesada y redimensionada: 00000150.png\n",
            "Imagen procesada y redimensionada: 00000044.png\n",
            "Imagen procesada y redimensionada: 00000158.jpg\n",
            "Imagen procesada y redimensionada: 00000042.jpg\n",
            "Imagen procesada y redimensionada: 00000003.png\n",
            "Imagen procesada y redimensionada: 00000110.jpg\n",
            "Imagen procesada y redimensionada: 00000016.jpg\n",
            "Imagen procesada y redimensionada: 00000013.jpg\n",
            "Imagen procesada y redimensionada: 00000070.jpg\n",
            "Imagen procesada y redimensionada: 00000129.jpg\n",
            "Imagen procesada y redimensionada: 00000009.png\n",
            "Imagen procesada y redimensionada: 00000195.jpg\n",
            "Imagen procesada y redimensionada: 00000026.jpg\n",
            "Imagen procesada y redimensionada: 00000182.jpg\n",
            "Imagen procesada y redimensionada: 00000145.jpg\n",
            "Archivo GIF excluido: 00000095.gif\n",
            "Imagen procesada y redimensionada: 00000199.jpg\n",
            "Imagen procesada y redimensionada: 00000010.jpg\n",
            "Imagen procesada y redimensionada: 00000018.jpg\n",
            "Imagen procesada y redimensionada: 00000186.jpg\n",
            "Imagen procesada y redimensionada: 00000174.jpg\n",
            "Imagen procesada y redimensionada: 00000081.jpg\n",
            "Imagen procesada y redimensionada: 00000006.jpg\n",
            "Imagen procesada y redimensionada: 00000192.jpg\n",
            "Imagen procesada y redimensionada: 00000089.jpg\n",
            "Imagen procesada y redimensionada: 00000114.jpg\n",
            "Imagen procesada y redimensionada: 00000002.JPG\n",
            "Imagen procesada y redimensionada: 00000019.jpg\n",
            "Imagen procesada y redimensionada: 00000177.jpg\n",
            "Imagen procesada y redimensionada: 00000066.jpg\n",
            "Imagen procesada y redimensionada: 00000115.jpg\n",
            "Imagen procesada y redimensionada: 00000127.jpg\n",
            "Imagen procesada y redimensionada: 00000167.jpg\n",
            "Imagen procesada y redimensionada: 00000094.jpg\n",
            "Imagen procesada y redimensionada: 00000079.jpg\n",
            "Imagen procesada y redimensionada: 00000151.png\n",
            "Imagen procesada y redimensionada: 00000062.jpg\n",
            "Imagen procesada y redimensionada: 00000092.jpg\n",
            "Imagen procesada y redimensionada: 00000017.jpg\n",
            "Imagen procesada y redimensionada: 00000102.jpg\n",
            "Imagen procesada y redimensionada: 00000136.png\n",
            "Imagen procesada y redimensionada: 00000138.jpg\n",
            "Imagen procesada y redimensionada: 00000188.jpg\n",
            "Imagen procesada y redimensionada: 00000025.jpg\n",
            "Imagen procesada y redimensionada: 00000028.jpg\n",
            "Imagen procesada y redimensionada: 00000194.jpg\n",
            "Imagen procesada y redimensionada: 00000054.jpeg\n",
            "Imagen procesada y redimensionada: 00000082.jpg\n",
            "Imagen procesada y redimensionada: 00000008.jpg\n",
            "Imagen procesada y redimensionada: 00000075.jpg\n",
            "Imagen procesada y redimensionada: 00000031.jpg\n",
            "Imagen procesada y redimensionada: 00000037.jpg\n",
            "Imagen procesada y redimensionada: 00000004.jpg\n",
            "Imagen procesada y redimensionada: 00000024.jpg\n",
            "Imagen procesada y redimensionada: 00000012.jpg\n",
            "Imagen procesada y redimensionada: 00000007.jpg\n",
            "Imagen procesada y redimensionada: 00000178.jpg\n",
            "Imagen procesada y redimensionada: 00000011.jpg\n",
            "Imagen procesada y redimensionada: 00000103.jpg\n",
            "Imagen procesada y redimensionada: 00000168.jpg\n",
            "Imagen procesada y redimensionada: 00000109.jpg\n",
            "Imagen procesada y redimensionada: 00000034.jpg\n",
            "Imagen procesada y redimensionada: 00000001.jpg\n",
            "Imagen procesada y redimensionada: 00000039.jpg\n",
            "Imagen procesada y redimensionada: 00000061.jpg\n",
            "Imagen procesada y redimensionada: 00000120.jpg\n",
            "Imagen procesada y redimensionada: 00000130.png\n",
            "Imagen procesada y redimensionada: 00000049.jpg\n",
            "Imagen procesada y redimensionada: 00000175.jpg\n",
            "Imagen procesada y redimensionada: 00000086.png\n",
            "Imagen procesada y redimensionada: 00000074.jpg\n",
            "Imagen procesada y redimensionada: 00000000.JPG\n"
          ]
        }
      ]
    },
    {
      "cell_type": "code",
      "source": [
        "!dvc add dataset/resize"
      ],
      "metadata": {
        "colab": {
          "base_uri": "https://localhost:8080/"
        },
        "id": "d3Uc4pKVbM8X",
        "outputId": "8a59533d-c5b0-4ac2-d11a-331846d3ab54"
      },
      "execution_count": null,
      "outputs": [
        {
          "output_type": "stream",
          "name": "stdout",
          "text": [
            "\u001b[?25l\u001b[32m⠋\u001b[0m Checking graph\n",
            "Adding...:   0% 0/1 [00:00<?, ?file/s{'info': ''}]\n",
            "!\u001b[A\n",
            "          |0.00 [00:00,     ?file/s]\u001b[A\n",
            "                                    \u001b[A\n",
            "!\u001b[A\n",
            "  0% |          |0/? [00:00<?,    ?files/s]\u001b[A\n",
            "                                           \u001b[A\n",
            "Adding dataset/resize to cache:   0% 0/86 [00:00<?, ?file/s]\u001b[A\n",
            "Adding dataset/resize to cache:   0% 0/86 [00:00<?, ?file/s{'info': ''}]\u001b[A\n",
            "                                                                        \u001b[A\n",
            "!\u001b[A\n",
            "Checking out /content/tp3_HdS/dataset/resize          |0.00 [00:00,    ?files/s]\u001b[A\n",
            "Adding...: 100% 1/1 [00:00<00:00,  9.32file/s{'info': ''}]\n",
            "\n",
            "To track the changes with git, run:\n",
            "\n",
            "\tgit add dataset/resize.dvc dataset/.gitignore\n",
            "\n",
            "To enable auto staging, run:\n",
            "\n",
            "\tdvc config core.autostage true\n",
            "\u001b[0m"
          ]
        }
      ]
    },
    {
      "cell_type": "code",
      "source": [
        "!git status"
      ],
      "metadata": {
        "colab": {
          "base_uri": "https://localhost:8080/"
        },
        "id": "RTQhg-mbbRz4",
        "outputId": "5f8fcca1-9bf4-4792-f7dc-b2cf0cbced87"
      },
      "execution_count": null,
      "outputs": [
        {
          "output_type": "stream",
          "name": "stdout",
          "text": [
            "On branch master\n",
            "Changes not staged for commit:\n",
            "  (use \"git add <file>...\" to update what will be committed)\n",
            "  (use \"git restore <file>...\" to discard changes in working directory)\n",
            "\t\u001b[31mmodified:   dataset/.gitignore\u001b[m\n",
            "\n",
            "Untracked files:\n",
            "  (use \"git add <file>...\" to include in what will be committed)\n",
            "\t\u001b[31mdataset/resize.dvc\u001b[m\n",
            "\n",
            "no changes added to commit (use \"git add\" and/or \"git commit -a\")\n"
          ]
        }
      ]
    },
    {
      "cell_type": "code",
      "source": [
        "!git add dataset/.gitignore dataset/resize.dvc"
      ],
      "metadata": {
        "id": "kgHpiUnQNIrc"
      },
      "execution_count": null,
      "outputs": []
    },
    {
      "cell_type": "code",
      "source": [
        "!git status"
      ],
      "metadata": {
        "colab": {
          "base_uri": "https://localhost:8080/"
        },
        "id": "Lcyaj0BpNLYF",
        "outputId": "1ce5c561-d9ee-4736-cc6e-4dac756fb300"
      },
      "execution_count": null,
      "outputs": [
        {
          "output_type": "stream",
          "name": "stdout",
          "text": [
            "On branch master\n",
            "Changes to be committed:\n",
            "  (use \"git restore --staged <file>...\" to unstage)\n",
            "\t\u001b[32mmodified:   dataset/.gitignore\u001b[m\n",
            "\t\u001b[32mnew file:   dataset/resize.dvc\u001b[m\n",
            "\n"
          ]
        }
      ]
    },
    {
      "cell_type": "code",
      "source": [
        "!git add . # nunca esta demas agregar todo\n",
        "!git commit -m \"Añadir imágenes redimensionadas excluyendo GIF, rastreadas por DVC\""
      ],
      "metadata": {
        "colab": {
          "base_uri": "https://localhost:8080/"
        },
        "id": "HdBDYM4FbWUK",
        "outputId": "218c18db-bec2-47c8-f64a-e63ad08354c6"
      },
      "execution_count": null,
      "outputs": [
        {
          "output_type": "stream",
          "name": "stdout",
          "text": [
            "[master 03da6c1] Añadir imágenes redimensionadas excluyendo GIF, rastreadas por DVC\n",
            " 2 files changed, 7 insertions(+)\n",
            " create mode 100644 dataset/resize.dvc\n"
          ]
        }
      ]
    },
    {
      "cell_type": "code",
      "source": [
        "!git status"
      ],
      "metadata": {
        "colab": {
          "base_uri": "https://localhost:8080/"
        },
        "id": "DG0lpdISbaAD",
        "outputId": "fbd9622f-1aa5-4989-dea2-948d3a4ea775"
      },
      "execution_count": null,
      "outputs": [
        {
          "output_type": "stream",
          "name": "stdout",
          "text": [
            "On branch master\n",
            "nothing to commit, working tree clean\n"
          ]
        }
      ]
    },
    {
      "cell_type": "code",
      "source": [
        "!cat dataset/.gitignore"
      ],
      "metadata": {
        "colab": {
          "base_uri": "https://localhost:8080/"
        },
        "id": "pndekodlbeGn",
        "outputId": "c57ec584-324f-40a4-d241-486b8744b922"
      },
      "execution_count": null,
      "outputs": [
        {
          "output_type": "stream",
          "name": "stdout",
          "text": [
            "/raw\n",
            "/resize\n"
          ]
        }
      ]
    },
    {
      "cell_type": "code",
      "source": [
        "!dvc remote list"
      ],
      "metadata": {
        "colab": {
          "base_uri": "https://localhost:8080/"
        },
        "id": "sl5hTPFVcueX",
        "outputId": "654a3b6c-5690-4c31-b5c8-9f5dea4c3c26"
      },
      "execution_count": null,
      "outputs": [
        {
          "output_type": "stream",
          "name": "stdout",
          "text": [
            "origin_local\t/content/remote-ugr-lcc-tp3_HdS\n",
            "\u001b[0m"
          ]
        }
      ]
    },
    {
      "cell_type": "code",
      "source": [
        "# verificamos el estado de git\n",
        "!git status"
      ],
      "metadata": {
        "colab": {
          "base_uri": "https://localhost:8080/"
        },
        "id": "IrKXsd85c1yd",
        "outputId": "e2697048-5153-4d58-cfac-16f44e672cb2"
      },
      "execution_count": null,
      "outputs": [
        {
          "output_type": "stream",
          "name": "stdout",
          "text": [
            "On branch master\n",
            "nothing to commit, working tree clean\n"
          ]
        }
      ]
    },
    {
      "cell_type": "code",
      "source": [
        "!dvc push --remote origin_local"
      ],
      "metadata": {
        "colab": {
          "base_uri": "https://localhost:8080/"
        },
        "id": "2DDkgFhUc6VU",
        "outputId": "60e73069-d2d6-4e9a-831e-1b0d80d3471e"
      },
      "execution_count": null,
      "outputs": [
        {
          "output_type": "stream",
          "name": "stdout",
          "text": [
            "Collecting          |88.0 [00:00,  198entry/s]\n",
            "Pushing\n",
            "Querying remote cache:   0% 0/1 [00:00<?, ?files/s]\u001b[A\n",
            "Querying remote cache:   0% 0/1 [00:00<?, ?files/s{'info': ''}]\u001b[A\n",
            "                                                               \u001b[A\n",
            "Querying remote cache:   0% 0/1 [00:00<?, ?files/s]\u001b[A\n",
            "Querying remote cache:   0% 0/1 [00:00<?, ?files/s{'info': ''}]\u001b[A\n",
            "                                                               \u001b[A\n",
            "!\u001b[A\n",
            "  0% |          |0/? [00:00<?,    ?files/s]\u001b[A\n",
            "                                           \u001b[A\n",
            "!\u001b[A\n",
            "  0% |          |0/? [00:00<?,    ?files/s]\u001b[A\n",
            "                                           \u001b[A\n",
            "Pushing to local:   0% 0/87 [00:00<?, ?file/s]\u001b[A\n",
            "Pushing to local:   0% 0/87 [00:00<?, ?file/s{'info': ''}]\u001b[A\n",
            "Pushing\n",
            "87 files pushed\n",
            "\u001b[0m"
          ]
        }
      ]
    },
    {
      "cell_type": "code",
      "source": [
        "# listamos para ver el/los archivos que genero dvc\n",
        "!ls -alR {dvc_folder}"
      ],
      "metadata": {
        "colab": {
          "base_uri": "https://localhost:8080/"
        },
        "id": "O_ujIXYndE_u",
        "outputId": "1f7d0872-618d-4291-f2a7-f79157c168af"
      },
      "execution_count": null,
      "outputs": [
        {
          "output_type": "stream",
          "name": "stdout",
          "text": [
            "/content/remote-ugr-lcc-tp3_HdS:\n",
            "total 16\n",
            "drwxr-xr-x 3 root root 4096 Nov 10 13:51 .\n",
            "drwxr-xr-x 1 root root 4096 Nov 10 13:50 ..\n",
            "drwxr-xr-x 3 root root 4096 Nov 10 13:51 files\n",
            "\n",
            "/content/remote-ugr-lcc-tp3_HdS/files:\n",
            "total 12\n",
            "drwxr-xr-x  3 root root 4096 Nov 10 13:51 .\n",
            "drwxr-xr-x  3 root root 4096 Nov 10 13:51 ..\n",
            "drwxr-xr-x 79 root root 4096 Nov 10 13:54 md5\n",
            "\n",
            "/content/remote-ugr-lcc-tp3_HdS/files/md5:\n",
            "total 316\n",
            "drwxr-xr-x 79 root root 4096 Nov 10 13:54 .\n",
            "drwxr-xr-x  3 root root 4096 Nov 10 13:51 ..\n",
            "drwxr-xr-x  2 root root 4096 Nov 10 13:54 00\n",
            "drwxr-xr-x  2 root root 4096 Nov 10 13:54 0a\n",
            "drwxr-xr-x  2 root root 4096 Nov 10 13:54 0f\n",
            "drwxr-xr-x  2 root root 4096 Nov 10 13:54 12\n",
            "drwxr-xr-x  2 root root 4096 Nov 10 13:54 16\n",
            "drwxr-xr-x  2 root root 4096 Nov 10 13:54 1d\n",
            "drwxr-xr-x  2 root root 4096 Nov 10 13:54 1e\n",
            "drwxr-xr-x  2 root root 4096 Nov 10 13:54 22\n",
            "drwxr-xr-x  2 root root 4096 Nov 10 13:54 23\n",
            "drwxr-xr-x  2 root root 4096 Nov 10 13:54 24\n",
            "drwxr-xr-x  2 root root 4096 Nov 10 13:54 27\n",
            "drwxr-xr-x  2 root root 4096 Nov 10 13:54 33\n",
            "drwxr-xr-x  2 root root 4096 Nov 10 13:54 36\n",
            "drwxr-xr-x  2 root root 4096 Nov 10 13:54 38\n",
            "drwxr-xr-x  2 root root 4096 Nov 10 13:54 3b\n",
            "drwxr-xr-x  2 root root 4096 Nov 10 13:54 3f\n",
            "drwxr-xr-x  2 root root 4096 Nov 10 13:54 41\n",
            "drwxr-xr-x  2 root root 4096 Nov 10 13:54 43\n",
            "drwxr-xr-x  2 root root 4096 Nov 10 13:54 44\n",
            "drwxr-xr-x  2 root root 4096 Nov 10 13:54 45\n",
            "drwxr-xr-x  2 root root 4096 Nov 10 13:54 47\n",
            "drwxr-xr-x  2 root root 4096 Nov 10 13:54 48\n",
            "drwxr-xr-x  2 root root 4096 Nov 10 13:54 57\n",
            "drwxr-xr-x  2 root root 4096 Nov 10 13:54 59\n",
            "drwxr-xr-x  2 root root 4096 Nov 10 13:54 5a\n",
            "drwxr-xr-x  2 root root 4096 Nov 10 13:54 5b\n",
            "drwxr-xr-x  2 root root 4096 Nov 10 13:54 5c\n",
            "drwxr-xr-x  2 root root 4096 Nov 10 13:54 5e\n",
            "drwxr-xr-x  2 root root 4096 Nov 10 13:54 61\n",
            "drwxr-xr-x  2 root root 4096 Nov 10 13:54 65\n",
            "drwxr-xr-x  2 root root 4096 Nov 10 13:54 66\n",
            "drwxr-xr-x  2 root root 4096 Nov 10 13:54 6a\n",
            "drwxr-xr-x  2 root root 4096 Nov 10 13:54 6b\n",
            "drwxr-xr-x  2 root root 4096 Nov 10 13:54 6e\n",
            "drwxr-xr-x  2 root root 4096 Nov 10 13:54 6f\n",
            "drwxr-xr-x  2 root root 4096 Nov 10 13:54 80\n",
            "drwxr-xr-x  2 root root 4096 Nov 10 13:54 83\n",
            "drwxr-xr-x  2 root root 4096 Nov 10 13:54 84\n",
            "drwxr-xr-x  2 root root 4096 Nov 10 13:54 88\n",
            "drwxr-xr-x  2 root root 4096 Nov 10 13:54 8d\n",
            "drwxr-xr-x  2 root root 4096 Nov 10 13:54 8f\n",
            "drwxr-xr-x  2 root root 4096 Nov 10 13:54 90\n",
            "drwxr-xr-x  2 root root 4096 Nov 10 13:54 92\n",
            "drwxr-xr-x  2 root root 4096 Nov 10 13:54 94\n",
            "drwxr-xr-x  2 root root 4096 Nov 10 13:54 98\n",
            "drwxr-xr-x  2 root root 4096 Nov 10 13:54 9e\n",
            "drwxr-xr-x  2 root root 4096 Nov 10 13:54 9f\n",
            "drwxr-xr-x  2 root root 4096 Nov 10 13:54 a2\n",
            "drwxr-xr-x  2 root root 4096 Nov 10 13:54 a5\n",
            "drwxr-xr-x  2 root root 4096 Nov 10 13:54 b3\n",
            "drwxr-xr-x  2 root root 4096 Nov 10 13:54 b5\n",
            "drwxr-xr-x  2 root root 4096 Nov 10 13:54 b7\n",
            "drwxr-xr-x  2 root root 4096 Nov 10 13:54 bb\n",
            "drwxr-xr-x  2 root root 4096 Nov 10 13:54 bd\n",
            "drwxr-xr-x  2 root root 4096 Nov 10 13:54 c0\n",
            "drwxr-xr-x  2 root root 4096 Nov 10 13:54 c1\n",
            "drwxr-xr-x  2 root root 4096 Nov 10 13:54 c4\n",
            "drwxr-xr-x  2 root root 4096 Nov 10 13:54 c5\n",
            "drwxr-xr-x  2 root root 4096 Nov 10 13:54 cf\n",
            "drwxr-xr-x  2 root root 4096 Nov 10 13:54 d6\n",
            "drwxr-xr-x  2 root root 4096 Nov 10 13:51 d7\n",
            "drwxr-xr-x  2 root root 4096 Nov 10 13:54 da\n",
            "drwxr-xr-x  2 root root 4096 Nov 10 13:54 dd\n",
            "drwxr-xr-x  2 root root 4096 Nov 10 13:54 de\n",
            "drwxr-xr-x  2 root root 4096 Nov 10 13:54 df\n",
            "drwxr-xr-x  2 root root 4096 Nov 10 13:54 e1\n",
            "drwxr-xr-x  2 root root 4096 Nov 10 13:54 e4\n",
            "drwxr-xr-x  2 root root 4096 Nov 10 13:54 e5\n",
            "drwxr-xr-x  2 root root 4096 Nov 10 13:54 e7\n",
            "drwxr-xr-x  2 root root 4096 Nov 10 13:54 f1\n",
            "drwxr-xr-x  2 root root 4096 Nov 10 13:54 f3\n",
            "drwxr-xr-x  2 root root 4096 Nov 10 13:54 f4\n",
            "drwxr-xr-x  2 root root 4096 Nov 10 13:54 f7\n",
            "drwxr-xr-x  2 root root 4096 Nov 10 13:54 f9\n",
            "drwxr-xr-x  2 root root 4096 Nov 10 13:54 fa\n",
            "drwxr-xr-x  2 root root 4096 Nov 10 13:54 fb\n",
            "drwxr-xr-x  2 root root 4096 Nov 10 13:54 fc\n",
            "\n",
            "/content/remote-ugr-lcc-tp3_HdS/files/md5/00:\n",
            "total 96\n",
            "drwxr-xr-x  2 root root  4096 Nov 10 13:54 .\n",
            "drwxr-xr-x 79 root root  4096 Nov 10 13:54 ..\n",
            "-r--r--r--  1 root root 86881 Nov 10 13:54 9a87c8446756b6a5cdc870e0b9f960\n",
            "\n",
            "/content/remote-ugr-lcc-tp3_HdS/files/md5/0a:\n",
            "total 24\n",
            "drwxr-xr-x  2 root root  4096 Nov 10 13:54 .\n",
            "drwxr-xr-x 79 root root  4096 Nov 10 13:54 ..\n",
            "-r--r--r--  1 root root 14855 Nov 10 13:54 18da69ac28b5d0ee97e0ceb54b756c\n",
            "\n",
            "/content/remote-ugr-lcc-tp3_HdS/files/md5/0f:\n",
            "total 56\n",
            "drwxr-xr-x  2 root root  4096 Nov 10 13:54 .\n",
            "drwxr-xr-x 79 root root  4096 Nov 10 13:54 ..\n",
            "-r--r--r--  1 root root 28621 Nov 10 13:54 82ea7a490b7ba124db6b12403c09cb\n",
            "-r--r--r--  1 root root 19987 Nov 10 13:54 b87c9c177fb2fb1c26b6ad31f724ae\n",
            "\n",
            "/content/remote-ugr-lcc-tp3_HdS/files/md5/12:\n",
            "total 48\n",
            "drwxr-xr-x  2 root root  4096 Nov 10 13:54 .\n",
            "drwxr-xr-x 79 root root  4096 Nov 10 13:54 ..\n",
            "-r--r--r--  1 root root 28151 Nov 10 13:54 52404e5f95a601050d8482a1259648\n",
            "-r--r--r--  1 root root 11841 Nov 10 13:54 e50a97291c6bcb0050cfc9cb7d7d1c\n",
            "\n",
            "/content/remote-ugr-lcc-tp3_HdS/files/md5/16:\n",
            "total 32\n",
            "drwxr-xr-x  2 root root  4096 Nov 10 13:54 .\n",
            "drwxr-xr-x 79 root root  4096 Nov 10 13:54 ..\n",
            "-r--r--r--  1 root root 24345 Nov 10 13:54 2f1ef4b6ce11dccc1eb58d739e888b\n",
            "\n",
            "/content/remote-ugr-lcc-tp3_HdS/files/md5/1d:\n",
            "total 32\n",
            "drwxr-xr-x  2 root root  4096 Nov 10 13:54 .\n",
            "drwxr-xr-x 79 root root  4096 Nov 10 13:54 ..\n",
            "-r--r--r--  1 root root 23400 Nov 10 13:54 4536aa3fc8dca94dd1642ad3b32ddf\n",
            "\n",
            "/content/remote-ugr-lcc-tp3_HdS/files/md5/1e:\n",
            "total 52\n",
            "drwxr-xr-x  2 root root  4096 Nov 10 13:54 .\n",
            "drwxr-xr-x 79 root root  4096 Nov 10 13:54 ..\n",
            "-r--r--r--  1 root root 41671 Nov 10 13:54 3aea0a792a46eff5ee049e70c2dafd\n",
            "\n",
            "/content/remote-ugr-lcc-tp3_HdS/files/md5/22:\n",
            "total 120\n",
            "drwxr-xr-x  2 root root  4096 Nov 10 13:54 .\n",
            "drwxr-xr-x 79 root root  4096 Nov 10 13:54 ..\n",
            "-r--r--r--  1 root root 21891 Nov 10 13:54 38ec715959757ceb3b927418080311\n",
            "-r--r--r--  1 root root 86833 Nov 10 13:54 dd6b02d421610ebfaa7e57edcd06da\n",
            "\n",
            "/content/remote-ugr-lcc-tp3_HdS/files/md5/23:\n",
            "total 40\n",
            "drwxr-xr-x  2 root root  4096 Nov 10 13:54 .\n",
            "drwxr-xr-x 79 root root  4096 Nov 10 13:54 ..\n",
            "-r--r--r--  1 root root 29345 Nov 10 13:54 1e7e1bfc24871381669c080785c663\n",
            "\n",
            "/content/remote-ugr-lcc-tp3_HdS/files/md5/24:\n",
            "total 32\n",
            "drwxr-xr-x  2 root root  4096 Nov 10 13:54 .\n",
            "drwxr-xr-x 79 root root  4096 Nov 10 13:54 ..\n",
            "-r--r--r--  1 root root 22087 Nov 10 13:54 5f40ef9516497852541de5482574be\n",
            "\n",
            "/content/remote-ugr-lcc-tp3_HdS/files/md5/27:\n",
            "total 24\n",
            "drwxr-xr-x  2 root root  4096 Nov 10 13:54 .\n",
            "drwxr-xr-x 79 root root  4096 Nov 10 13:54 ..\n",
            "-r--r--r--  1 root root 12510 Nov 10 13:54 bd5b25664f8e79696c24a51a4ab571\n",
            "\n",
            "/content/remote-ugr-lcc-tp3_HdS/files/md5/33:\n",
            "total 36\n",
            "drwxr-xr-x  2 root root  4096 Nov 10 13:54 .\n",
            "drwxr-xr-x 79 root root  4096 Nov 10 13:54 ..\n",
            "-r--r--r--  1 root root 24731 Nov 10 13:54 13197bd53ff84ee88234e053eee289\n",
            "\n",
            "/content/remote-ugr-lcc-tp3_HdS/files/md5/36:\n",
            "total 116\n",
            "drwxr-xr-x  2 root root   4096 Nov 10 13:54 .\n",
            "drwxr-xr-x 79 root root   4096 Nov 10 13:54 ..\n",
            "-r--r--r--  1 root root 109777 Nov 10 13:54 6c127d6b50d0c8665a26f1dd9cf8bf\n",
            "\n",
            "/content/remote-ugr-lcc-tp3_HdS/files/md5/38:\n",
            "total 160\n",
            "drwxr-xr-x  2 root root   4096 Nov 10 13:54 .\n",
            "drwxr-xr-x 79 root root   4096 Nov 10 13:54 ..\n",
            "-r--r--r--  1 root root 154919 Nov 10 13:54 d93a44c37b95e349a34a45e0f7a5dd\n",
            "\n",
            "/content/remote-ugr-lcc-tp3_HdS/files/md5/3b:\n",
            "total 168\n",
            "drwxr-xr-x  2 root root   4096 Nov 10 13:54 .\n",
            "drwxr-xr-x 79 root root   4096 Nov 10 13:54 ..\n",
            "-r--r--r--  1 root root 160862 Nov 10 13:54 1c2ab81c37a018e3c46ccda76aa5a0\n",
            "\n",
            "/content/remote-ugr-lcc-tp3_HdS/files/md5/3f:\n",
            "total 36\n",
            "drwxr-xr-x  2 root root  4096 Nov 10 13:54 .\n",
            "drwxr-xr-x 79 root root  4096 Nov 10 13:54 ..\n",
            "-r--r--r--  1 root root 28376 Nov 10 13:54 18d812ce7170202276688a06dfb1ea\n",
            "\n",
            "/content/remote-ugr-lcc-tp3_HdS/files/md5/41:\n",
            "total 76\n",
            "drwxr-xr-x  2 root root  4096 Nov 10 13:54 .\n",
            "drwxr-xr-x 79 root root  4096 Nov 10 13:54 ..\n",
            "-r--r--r--  1 root root 19484 Nov 10 13:54 8304f777c7acff907088aed5d0331e\n",
            "-r--r--r--  1 root root 48861 Nov 10 13:54 c81de6437c46e087f1e21400a0fa32\n",
            "\n",
            "/content/remote-ugr-lcc-tp3_HdS/files/md5/43:\n",
            "total 44\n",
            "drwxr-xr-x  2 root root  4096 Nov 10 13:54 .\n",
            "drwxr-xr-x 79 root root  4096 Nov 10 13:54 ..\n",
            "-r--r--r--  1 root root 33838 Nov 10 13:54 21bb326074c9e051bbb331534d3dae\n",
            "\n",
            "/content/remote-ugr-lcc-tp3_HdS/files/md5/44:\n",
            "total 172\n",
            "drwxr-xr-x  2 root root   4096 Nov 10 13:54 .\n",
            "drwxr-xr-x 79 root root   4096 Nov 10 13:54 ..\n",
            "-r--r--r--  1 root root 132894 Nov 10 13:54 383b647ad54675932492714dcb5e3d\n",
            "-r--r--r--  1 root root  32262 Nov 10 13:54 d77efbddd180da5ac0f3d871fab1f9\n",
            "\n",
            "/content/remote-ugr-lcc-tp3_HdS/files/md5/45:\n",
            "total 32\n",
            "drwxr-xr-x  2 root root  4096 Nov 10 13:54 .\n",
            "drwxr-xr-x 79 root root  4096 Nov 10 13:54 ..\n",
            "-r--r--r--  1 root root 22302 Nov 10 13:54 a31bc3b82eb576aca24d0dc42ca5da\n",
            "\n",
            "/content/remote-ugr-lcc-tp3_HdS/files/md5/47:\n",
            "total 28\n",
            "drwxr-xr-x  2 root root  4096 Nov 10 13:54 .\n",
            "drwxr-xr-x 79 root root  4096 Nov 10 13:54 ..\n",
            "-r--r--r--  1 root root 19306 Nov 10 13:54 ac2d043f4f18ae83011ee2cd3036a4\n",
            "\n",
            "/content/remote-ugr-lcc-tp3_HdS/files/md5/48:\n",
            "total 40\n",
            "drwxr-xr-x  2 root root  4096 Nov 10 13:54 .\n",
            "drwxr-xr-x 79 root root  4096 Nov 10 13:54 ..\n",
            "-r--r--r--  1 root root 30395 Nov 10 13:54 fa0091c788612f58d7e4fd466b997b\n",
            "\n",
            "/content/remote-ugr-lcc-tp3_HdS/files/md5/57:\n",
            "total 52\n",
            "drwxr-xr-x  2 root root  4096 Nov 10 13:54 .\n",
            "drwxr-xr-x 79 root root  4096 Nov 10 13:54 ..\n",
            "-r--r--r--  1 root root 44967 Nov 10 13:54 70fdd691d7e10ddba59ad972781a9d\n",
            "\n",
            "/content/remote-ugr-lcc-tp3_HdS/files/md5/59:\n",
            "total 32\n",
            "drwxr-xr-x  2 root root  4096 Nov 10 13:54 .\n",
            "drwxr-xr-x 79 root root  4096 Nov 10 13:54 ..\n",
            "-r--r--r--  1 root root 24546 Nov 10 13:54 c62e874d1ea659545054883afd306d\n",
            "\n",
            "/content/remote-ugr-lcc-tp3_HdS/files/md5/5a:\n",
            "total 36\n",
            "drwxr-xr-x  2 root root  4096 Nov 10 13:54 .\n",
            "drwxr-xr-x 79 root root  4096 Nov 10 13:54 ..\n",
            "-r--r--r--  1 root root 27047 Nov 10 13:54 237c5dc82448600ce3274bb09f25b0\n",
            "\n",
            "/content/remote-ugr-lcc-tp3_HdS/files/md5/5b:\n",
            "total 24\n",
            "drwxr-xr-x  2 root root  4096 Nov 10 13:54 .\n",
            "drwxr-xr-x 79 root root  4096 Nov 10 13:54 ..\n",
            "-r--r--r--  1 root root 13068 Nov 10 13:54 39bd235c6ea74db8a4f0a0c4a2488b\n",
            "\n",
            "/content/remote-ugr-lcc-tp3_HdS/files/md5/5c:\n",
            "total 52\n",
            "drwxr-xr-x  2 root root  4096 Nov 10 13:54 .\n",
            "drwxr-xr-x 79 root root  4096 Nov 10 13:54 ..\n",
            "-r--r--r--  1 root root 41011 Nov 10 13:54 a91235faf2aa4c7675220ad7a96e92\n",
            "\n",
            "/content/remote-ugr-lcc-tp3_HdS/files/md5/5e:\n",
            "total 44\n",
            "drwxr-xr-x  2 root root  4096 Nov 10 13:54 .\n",
            "drwxr-xr-x 79 root root  4096 Nov 10 13:54 ..\n",
            "-r--r--r--  1 root root 34200 Nov 10 13:54 08cf7b745e1b0556e7310222256fc4\n",
            "\n",
            "/content/remote-ugr-lcc-tp3_HdS/files/md5/61:\n",
            "total 40\n",
            "drwxr-xr-x  2 root root  4096 Nov 10 13:54 .\n",
            "drwxr-xr-x 79 root root  4096 Nov 10 13:54 ..\n",
            "-r--r--r--  1 root root 32376 Nov 10 13:54 38a770d7699a473b1000d2fa62029c\n",
            "\n",
            "/content/remote-ugr-lcc-tp3_HdS/files/md5/65:\n",
            "total 28\n",
            "drwxr-xr-x  2 root root  4096 Nov 10 13:54 .\n",
            "drwxr-xr-x 79 root root  4096 Nov 10 13:54 ..\n",
            "-r--r--r--  1 root root 19349 Nov 10 13:54 cb47afff7dc9e73ba04996df02ff23\n",
            "\n",
            "/content/remote-ugr-lcc-tp3_HdS/files/md5/66:\n",
            "total 36\n",
            "drwxr-xr-x  2 root root  4096 Nov 10 13:54 .\n",
            "drwxr-xr-x 79 root root  4096 Nov 10 13:54 ..\n",
            "-r--r--r--  1 root root 24952 Nov 10 13:54 ed0fc5c5360bc17522e17b68036e0c\n",
            "\n",
            "/content/remote-ugr-lcc-tp3_HdS/files/md5/6a:\n",
            "total 32\n",
            "drwxr-xr-x  2 root root  4096 Nov 10 13:54 .\n",
            "drwxr-xr-x 79 root root  4096 Nov 10 13:54 ..\n",
            "-r--r--r--  1 root root 23117 Nov 10 13:54 f7460ad4c86ff18aa651fd92fbad99\n",
            "\n",
            "/content/remote-ugr-lcc-tp3_HdS/files/md5/6b:\n",
            "total 44\n",
            "drwxr-xr-x  2 root root  4096 Nov 10 13:54 .\n",
            "drwxr-xr-x 79 root root  4096 Nov 10 13:54 ..\n",
            "-r--r--r--  1 root root 35574 Nov 10 13:54 9558e89765433510e3c7b7b42fee76\n",
            "\n",
            "/content/remote-ugr-lcc-tp3_HdS/files/md5/6e:\n",
            "total 36\n",
            "drwxr-xr-x  2 root root  4096 Nov 10 13:54 .\n",
            "drwxr-xr-x 79 root root  4096 Nov 10 13:54 ..\n",
            "-r--r--r--  1 root root 26957 Nov 10 13:54 51ddc3116a0c32582bb82bacc5b4b9\n",
            "\n",
            "/content/remote-ugr-lcc-tp3_HdS/files/md5/6f:\n",
            "total 64\n",
            "drwxr-xr-x  2 root root  4096 Nov 10 13:54 .\n",
            "drwxr-xr-x 79 root root  4096 Nov 10 13:54 ..\n",
            "-r--r--r--  1 root root 55492 Nov 10 13:54 68385ea84b9614eae30711bae7ec19\n",
            "\n",
            "/content/remote-ugr-lcc-tp3_HdS/files/md5/80:\n",
            "total 24\n",
            "drwxr-xr-x  2 root root  4096 Nov 10 13:54 .\n",
            "drwxr-xr-x 79 root root  4096 Nov 10 13:54 ..\n",
            "-r--r--r--  1 root root 12987 Nov 10 13:54 9ae210820e65d3eccda03e05113517\n",
            "\n",
            "/content/remote-ugr-lcc-tp3_HdS/files/md5/83:\n",
            "total 44\n",
            "drwxr-xr-x  2 root root  4096 Nov 10 13:54 .\n",
            "drwxr-xr-x 79 root root  4096 Nov 10 13:54 ..\n",
            "-r--r--r--  1 root root 34386 Nov 10 13:54 a194e077df04dddedf9bbb067790c8\n",
            "\n",
            "/content/remote-ugr-lcc-tp3_HdS/files/md5/84:\n",
            "total 60\n",
            "drwxr-xr-x  2 root root  4096 Nov 10 13:54 .\n",
            "drwxr-xr-x 79 root root  4096 Nov 10 13:54 ..\n",
            "-r--r--r--  1 root root 49705 Nov 10 13:54 27fe261246954d4da3a28f717d9cd5\n",
            "\n",
            "/content/remote-ugr-lcc-tp3_HdS/files/md5/88:\n",
            "total 28\n",
            "drwxr-xr-x  2 root root  4096 Nov 10 13:54 .\n",
            "drwxr-xr-x 79 root root  4096 Nov 10 13:54 ..\n",
            "-r--r--r--  1 root root 17940 Nov 10 13:54 64dfbdc5941055e47f59c2fea98627\n",
            "\n",
            "/content/remote-ugr-lcc-tp3_HdS/files/md5/8d:\n",
            "total 40\n",
            "drwxr-xr-x  2 root root  4096 Nov 10 13:54 .\n",
            "drwxr-xr-x 79 root root  4096 Nov 10 13:54 ..\n",
            "-r--r--r--  1 root root 29778 Nov 10 13:54 31e0d56fde3fbc7497fb4a0aa32a6d\n",
            "\n",
            "/content/remote-ugr-lcc-tp3_HdS/files/md5/8f:\n",
            "total 36\n",
            "drwxr-xr-x  2 root root  4096 Nov 10 13:54 .\n",
            "drwxr-xr-x 79 root root  4096 Nov 10 13:54 ..\n",
            "-r--r--r--  1 root root 27553 Nov 10 13:54 b78e31f12c93eb3f5c7ac6a9f0fa5a\n",
            "\n",
            "/content/remote-ugr-lcc-tp3_HdS/files/md5/90:\n",
            "total 32\n",
            "drwxr-xr-x  2 root root  4096 Nov 10 13:54 .\n",
            "drwxr-xr-x 79 root root  4096 Nov 10 13:54 ..\n",
            "-r--r--r--  1 root root 21556 Nov 10 13:54 1623297b086770dc0fd13b8a7ec333\n",
            "\n",
            "/content/remote-ugr-lcc-tp3_HdS/files/md5/92:\n",
            "total 40\n",
            "drwxr-xr-x  2 root root  4096 Nov 10 13:54 .\n",
            "drwxr-xr-x 79 root root  4096 Nov 10 13:54 ..\n",
            "-r--r--r--  1 root root 32505 Nov 10 13:54 da9b61947a7c7753593983d47b1304\n",
            "\n",
            "/content/remote-ugr-lcc-tp3_HdS/files/md5/94:\n",
            "total 76\n",
            "drwxr-xr-x  2 root root  4096 Nov 10 13:54 .\n",
            "drwxr-xr-x 79 root root  4096 Nov 10 13:54 ..\n",
            "-r--r--r--  1 root root 26012 Nov 10 13:54 d19b953a9ebd375c5b7bb2d2e5f0b1\n",
            "-r--r--r--  1 root root 37489 Nov 10 13:54 e7f568ca228e4e8d8f6ef06b3ca1d5\n",
            "\n",
            "/content/remote-ugr-lcc-tp3_HdS/files/md5/98:\n",
            "total 28\n",
            "drwxr-xr-x  2 root root  4096 Nov 10 13:54 .\n",
            "drwxr-xr-x 79 root root  4096 Nov 10 13:54 ..\n",
            "-r--r--r--  1 root root 17990 Nov 10 13:54 9f0f4ccb6d59e4c8ddd0d222eb383c\n",
            "\n",
            "/content/remote-ugr-lcc-tp3_HdS/files/md5/9e:\n",
            "total 44\n",
            "drwxr-xr-x  2 root root  4096 Nov 10 13:54 .\n",
            "drwxr-xr-x 79 root root  4096 Nov 10 13:54 ..\n",
            "-r--r--r--  1 root root 33175 Nov 10 13:54 feca1350bffb1b2f1e656f89fda748\n",
            "\n",
            "/content/remote-ugr-lcc-tp3_HdS/files/md5/9f:\n",
            "total 40\n",
            "drwxr-xr-x  2 root root  4096 Nov 10 13:54 .\n",
            "drwxr-xr-x 79 root root  4096 Nov 10 13:54 ..\n",
            "-r--r--r--  1 root root 32272 Nov 10 13:54 dbb10b619930a7cc8a508093ca1298\n",
            "\n",
            "/content/remote-ugr-lcc-tp3_HdS/files/md5/a2:\n",
            "total 24\n",
            "drwxr-xr-x  2 root root  4096 Nov 10 13:54 .\n",
            "drwxr-xr-x 79 root root  4096 Nov 10 13:54 ..\n",
            "-r--r--r--  1 root root 14678 Nov 10 13:54 6e75d9ce1d5f96505db0a67f701e9a\n",
            "\n",
            "/content/remote-ugr-lcc-tp3_HdS/files/md5/a5:\n",
            "total 24\n",
            "drwxr-xr-x  2 root root  4096 Nov 10 13:54 .\n",
            "drwxr-xr-x 79 root root  4096 Nov 10 13:54 ..\n",
            "-r--r--r--  1 root root 13289 Nov 10 13:54 95715c8a4feca431329654f4020e2a\n",
            "\n",
            "/content/remote-ugr-lcc-tp3_HdS/files/md5/b3:\n",
            "total 36\n",
            "drwxr-xr-x  2 root root  4096 Nov 10 13:54 .\n",
            "drwxr-xr-x 79 root root  4096 Nov 10 13:54 ..\n",
            "-r--r--r--  1 root root 24611 Nov 10 13:54 b08c456bb640db997829ee05f6ac0d\n",
            "\n",
            "/content/remote-ugr-lcc-tp3_HdS/files/md5/b5:\n",
            "total 36\n",
            "drwxr-xr-x  2 root root  4096 Nov 10 13:54 .\n",
            "drwxr-xr-x 79 root root  4096 Nov 10 13:54 ..\n",
            "-r--r--r--  1 root root 25935 Nov 10 13:54 84b5c904d5614b552e22c2a29391d9\n",
            "\n",
            "/content/remote-ugr-lcc-tp3_HdS/files/md5/b7:\n",
            "total 44\n",
            "drwxr-xr-x  2 root root  4096 Nov 10 13:54 .\n",
            "drwxr-xr-x 79 root root  4096 Nov 10 13:54 ..\n",
            "-r--r--r--  1 root root 34202 Nov 10 13:54 344e1bb5969d562ce3328fbf3c8544\n",
            "\n",
            "/content/remote-ugr-lcc-tp3_HdS/files/md5/bb:\n",
            "total 44\n",
            "drwxr-xr-x  2 root root  4096 Nov 10 13:54 .\n",
            "drwxr-xr-x 79 root root  4096 Nov 10 13:54 ..\n",
            "-r--r--r--  1 root root 19738 Nov 10 13:54 5ec2379f388d6b051361e7185c0071\n",
            "-r--r--r--  1 root root 15536 Nov 10 13:54 9435b479ea0f31e0b484e482817039\n",
            "\n",
            "/content/remote-ugr-lcc-tp3_HdS/files/md5/bd:\n",
            "total 44\n",
            "drwxr-xr-x  2 root root  4096 Nov 10 13:54 .\n",
            "drwxr-xr-x 79 root root  4096 Nov 10 13:54 ..\n",
            "-r--r--r--  1 root root 34458 Nov 10 13:54 7a56601326014d0874ac843036366f\n",
            "\n",
            "/content/remote-ugr-lcc-tp3_HdS/files/md5/c0:\n",
            "total 56\n",
            "drwxr-xr-x  2 root root  4096 Nov 10 13:54 .\n",
            "drwxr-xr-x 79 root root  4096 Nov 10 13:54 ..\n",
            "-r--r--r--  1 root root 45733 Nov 10 13:54 7f3c1f960111df73b08dd99f4ddb63\n",
            "\n",
            "/content/remote-ugr-lcc-tp3_HdS/files/md5/c1:\n",
            "total 80\n",
            "drwxr-xr-x  2 root root  4096 Nov 10 13:54 .\n",
            "drwxr-xr-x 79 root root  4096 Nov 10 13:54 ..\n",
            "-r--r--r--  1 root root 46753 Nov 10 13:54 04b4138139362103c2ab869f7cc4ca\n",
            "-r--r--r--  1 root root 24078 Nov 10 13:54 b71adf02bb5ec20e43285ba1478a0e\n",
            "\n",
            "/content/remote-ugr-lcc-tp3_HdS/files/md5/c4:\n",
            "total 116\n",
            "drwxr-xr-x  2 root root   4096 Nov 10 13:54 .\n",
            "drwxr-xr-x 79 root root   4096 Nov 10 13:54 ..\n",
            "-r--r--r--  1 root root 109289 Nov 10 13:54 a94c64ef7b1361f800040064dc5420\n",
            "\n",
            "/content/remote-ugr-lcc-tp3_HdS/files/md5/c5:\n",
            "total 44\n",
            "drwxr-xr-x  2 root root  4096 Nov 10 13:54 .\n",
            "drwxr-xr-x 79 root root  4096 Nov 10 13:54 ..\n",
            "-r--r--r--  1 root root 33899 Nov 10 13:54 b65d8d4427e669e99e993cdf037b09\n",
            "\n",
            "/content/remote-ugr-lcc-tp3_HdS/files/md5/cf:\n",
            "total 32\n",
            "drwxr-xr-x  2 root root  4096 Nov 10 13:54 .\n",
            "drwxr-xr-x 79 root root  4096 Nov 10 13:54 ..\n",
            "-r--r--r--  1 root root 21523 Nov 10 13:54 cb08093add13812446913d547b0d7b\n",
            "\n",
            "/content/remote-ugr-lcc-tp3_HdS/files/md5/d6:\n",
            "total 32\n",
            "drwxr-xr-x  2 root root  4096 Nov 10 13:54 .\n",
            "drwxr-xr-x 79 root root  4096 Nov 10 13:54 ..\n",
            "-r--r--r--  1 root root 22857 Nov 10 13:54 ae740fad0cd010420d55fc1fe9a5f9\n",
            "\n",
            "/content/remote-ugr-lcc-tp3_HdS/files/md5/d7:\n",
            "total 12\n",
            "drwxr-xr-x  2 root root 4096 Nov 10 13:51 .\n",
            "drwxr-xr-x 79 root root 4096 Nov 10 13:54 ..\n",
            "-r--r--r--  1 root root    2 Nov 10 13:51 51713988987e9331980363e24189ce.dir\n",
            "\n",
            "/content/remote-ugr-lcc-tp3_HdS/files/md5/da:\n",
            "total 52\n",
            "drwxr-xr-x  2 root root  4096 Nov 10 13:54 .\n",
            "drwxr-xr-x 79 root root  4096 Nov 10 13:54 ..\n",
            "-r--r--r--  1 root root 42265 Nov 10 13:54 ced14614e0e0d2e699fda644596975\n",
            "\n",
            "/content/remote-ugr-lcc-tp3_HdS/files/md5/dd:\n",
            "total 60\n",
            "drwxr-xr-x  2 root root  4096 Nov 10 13:54 .\n",
            "drwxr-xr-x 79 root root  4096 Nov 10 13:54 ..\n",
            "-r--r--r--  1 root root 19452 Nov 10 13:54 3c514754a4ea1692a3dbe90f6c0af2\n",
            "-r--r--r--  1 root root 31024 Nov 10 13:54 3d90a5e7049d49a92f0be8d3a80f4b\n",
            "\n",
            "/content/remote-ugr-lcc-tp3_HdS/files/md5/de:\n",
            "total 32\n",
            "drwxr-xr-x  2 root root  4096 Nov 10 13:54 .\n",
            "drwxr-xr-x 79 root root  4096 Nov 10 13:54 ..\n",
            "-r--r--r--  1 root root 20631 Nov 10 13:54 392c05807281b6e04f81c625eac788\n",
            "\n",
            "/content/remote-ugr-lcc-tp3_HdS/files/md5/df:\n",
            "total 72\n",
            "drwxr-xr-x  2 root root  4096 Nov 10 13:54 .\n",
            "drwxr-xr-x 79 root root  4096 Nov 10 13:54 ..\n",
            "-r--r--r--  1 root root 31216 Nov 10 13:54 b6ac095a869535a90fbbe313cb33c2\n",
            "-r--r--r--  1 root root 29616 Nov 10 13:54 e05e0fe4dcc09641ad3406eeed8e03\n",
            "\n",
            "/content/remote-ugr-lcc-tp3_HdS/files/md5/e1:\n",
            "total 32\n",
            "drwxr-xr-x  2 root root  4096 Nov 10 13:54 .\n",
            "drwxr-xr-x 79 root root  4096 Nov 10 13:54 ..\n",
            "-r--r--r--  1 root root 15230 Nov 10 13:54 d89fdaade5b4d9b95a17eca95a1f2a\n",
            "-r--r--r--  1 root root  6193 Nov 10 13:54 de2c834e60e09b821427f2298923ce.dir\n",
            "\n",
            "/content/remote-ugr-lcc-tp3_HdS/files/md5/e4:\n",
            "total 32\n",
            "drwxr-xr-x  2 root root  4096 Nov 10 13:54 .\n",
            "drwxr-xr-x 79 root root  4096 Nov 10 13:54 ..\n",
            "-r--r--r--  1 root root 21175 Nov 10 13:54 110c31d4d08e342a4f1253d020f694\n",
            "\n",
            "/content/remote-ugr-lcc-tp3_HdS/files/md5/e5:\n",
            "total 36\n",
            "drwxr-xr-x  2 root root  4096 Nov 10 13:54 .\n",
            "drwxr-xr-x 79 root root  4096 Nov 10 13:54 ..\n",
            "-r--r--r--  1 root root 26518 Nov 10 13:54 d4d937ac5ee391ed30571a1164161f\n",
            "\n",
            "/content/remote-ugr-lcc-tp3_HdS/files/md5/e7:\n",
            "total 36\n",
            "drwxr-xr-x  2 root root  4096 Nov 10 13:54 .\n",
            "drwxr-xr-x 79 root root  4096 Nov 10 13:54 ..\n",
            "-r--r--r--  1 root root 27691 Nov 10 13:54 48693c13825794f89d6c8bdff0b198\n",
            "\n",
            "/content/remote-ugr-lcc-tp3_HdS/files/md5/f1:\n",
            "total 44\n",
            "drwxr-xr-x  2 root root  4096 Nov 10 13:54 .\n",
            "drwxr-xr-x 79 root root  4096 Nov 10 13:54 ..\n",
            "-r--r--r--  1 root root 33168 Nov 10 13:54 f0dd4b31ee69bb3e982b018ff0062c\n",
            "\n",
            "/content/remote-ugr-lcc-tp3_HdS/files/md5/f3:\n",
            "total 32\n",
            "drwxr-xr-x  2 root root  4096 Nov 10 13:54 .\n",
            "drwxr-xr-x 79 root root  4096 Nov 10 13:54 ..\n",
            "-r--r--r--  1 root root 24091 Nov 10 13:54 30a3c25b4bcbe3c538d8bd5d7729d5\n",
            "\n",
            "/content/remote-ugr-lcc-tp3_HdS/files/md5/f4:\n",
            "total 28\n",
            "drwxr-xr-x  2 root root  4096 Nov 10 13:54 .\n",
            "drwxr-xr-x 79 root root  4096 Nov 10 13:54 ..\n",
            "-r--r--r--  1 root root 19308 Nov 10 13:54 717a5f3633bdcaec239e68dde5159c\n",
            "\n",
            "/content/remote-ugr-lcc-tp3_HdS/files/md5/f7:\n",
            "total 32\n",
            "drwxr-xr-x  2 root root  4096 Nov 10 13:54 .\n",
            "drwxr-xr-x 79 root root  4096 Nov 10 13:54 ..\n",
            "-r--r--r--  1 root root 23497 Nov 10 13:54 682f808682fcb4f4ca944e5205144f\n",
            "\n",
            "/content/remote-ugr-lcc-tp3_HdS/files/md5/f9:\n",
            "total 32\n",
            "drwxr-xr-x  2 root root  4096 Nov 10 13:54 .\n",
            "drwxr-xr-x 79 root root  4096 Nov 10 13:54 ..\n",
            "-r--r--r--  1 root root 21786 Nov 10 13:54 22afc7ccdb5a3e087ddf62cd5e0b0e\n",
            "\n",
            "/content/remote-ugr-lcc-tp3_HdS/files/md5/fa:\n",
            "total 28\n",
            "drwxr-xr-x  2 root root  4096 Nov 10 13:54 .\n",
            "drwxr-xr-x 79 root root  4096 Nov 10 13:54 ..\n",
            "-r--r--r--  1 root root 20261 Nov 10 13:54 f59a7f955d589da8482bfd1d171eac\n",
            "\n",
            "/content/remote-ugr-lcc-tp3_HdS/files/md5/fb:\n",
            "total 228\n",
            "drwxr-xr-x  2 root root   4096 Nov 10 13:54 .\n",
            "drwxr-xr-x 79 root root   4096 Nov 10 13:54 ..\n",
            "-r--r--r--  1 root root 224931 Nov 10 13:54 8632c2999515a396df8af226a7df85\n",
            "\n",
            "/content/remote-ugr-lcc-tp3_HdS/files/md5/fc:\n",
            "total 64\n",
            "drwxr-xr-x  2 root root  4096 Nov 10 13:54 .\n",
            "drwxr-xr-x 79 root root  4096 Nov 10 13:54 ..\n",
            "-r--r--r--  1 root root 54973 Nov 10 13:54 4ffefd05689e72ec7d369e10be599b\n"
          ]
        }
      ]
    },
    {
      "cell_type": "markdown",
      "metadata": {
        "id": "V25Yoo7oFyKC"
      },
      "source": [
        "## Punto 4\n",
        "\n",
        "Tomar las imágenes del directorio `dataset/resize` y realizar 4 cortes iguales de forma vertical. Las nuevas imágenes deben quedar almacenadar en `dataset/cut`. El directorio `cut` debe ser traceado por dvc.\n",
        "\n",
        "Las nuevas imágenes se deberán nombrar con un número ascendente, por ejemplo,\n",
        "`00000001.jpg` es el nombre de la imagen original, las nuevas imágenes se llamarán `00000001_1.jpg`, `00000001_2.jpg`, `00000001_3.jpg` y `00000001_4.jpg`\n",
        "\n",
        "Escribir los pasos necesarios para el traceo del dataset y hacer los commit correspondientes y pushear dvc."
      ]
    },
    {
      "cell_type": "code",
      "execution_count": null,
      "metadata": {
        "id": "85SLmMH1MJ5j"
      },
      "outputs": [],
      "source": [
        "def cut_images(input_dir, output_dir):\n",
        "    \"\"\"\n",
        "    Corta cada imagen en input_dir en 4 partes verticales iguales y las guarda en output_dir.\n",
        "\n",
        "    Parameters:\n",
        "    - input_dir (str): Directorio de entrada con las imágenes a cortar.\n",
        "    - output_dir (str): Directorio de salida donde se guardarán las imágenes cortadas.\n",
        "    \"\"\"\n",
        "\n",
        "    # Asegurarse de que el directorio de salida existe\n",
        "    os.makedirs(output_dir, exist_ok=True)\n",
        "\n",
        "    # Procesar cada archivo en el directorio de entrada\n",
        "    for filename in os.listdir(input_dir):\n",
        "        file_path = os.path.join(input_dir, filename)\n",
        "\n",
        "        # Verifica que sea un archivo de imagen\n",
        "        if not filename.lower().endswith(('.png', '.jpg', '.jpeg')):\n",
        "            print(f\"Archivo no soportado, excluido: {filename}\")\n",
        "            continue\n",
        "\n",
        "        try:\n",
        "            with Image.open(file_path) as img:\n",
        "                width, height = img.size\n",
        "                cut_width = width // 4  # Ancho de cada corte\n",
        "\n",
        "                # Realizar los 4 cortes verticales\n",
        "                for i in range(4):\n",
        "                    left = i * cut_width\n",
        "                    right = (i + 1) * cut_width\n",
        "                    img_cut = img.crop((left, 0, right, height))\n",
        "\n",
        "                    # Crear el nuevo nombre de archivo\n",
        "                    base_name = os.path.splitext(filename)[0]\n",
        "                    new_filename = f\"{base_name}_{i+1}.jpg\"\n",
        "\n",
        "                    # Guardar la imagen cortada en el directorio de salida\n",
        "                    img_cut.save(os.path.join(output_dir, new_filename))\n",
        "                print(f\"Imagen cortada en 4 partes: {filename}\")\n",
        "        except Exception as e:\n",
        "            print(f\"Error al procesar {filename}: {e}\")\n",
        "\n"
      ]
    },
    {
      "cell_type": "code",
      "source": [
        "!mkdir -p dataset/cut"
      ],
      "metadata": {
        "id": "s2WtdSrwdpHX"
      },
      "execution_count": null,
      "outputs": []
    },
    {
      "cell_type": "code",
      "source": [
        "cut_images(\"dataset/resize\", \"dataset/cut\")"
      ],
      "metadata": {
        "colab": {
          "base_uri": "https://localhost:8080/"
        },
        "id": "6YYoiOEsdl_e",
        "outputId": "05bbf5be-bd1f-45a7-8e24-9c02592f8991"
      },
      "execution_count": null,
      "outputs": [
        {
          "output_type": "stream",
          "name": "stdout",
          "text": [
            "Imagen cortada en 4 partes: 00000169.jpg\n",
            "Imagen cortada en 4 partes: 00000112.jpg\n",
            "Imagen cortada en 4 partes: 00000068.png\n",
            "Imagen cortada en 4 partes: 00000020.jpg\n",
            "Imagen cortada en 4 partes: 00000117.jpg\n",
            "Imagen cortada en 4 partes: 00000113.png\n",
            "Imagen cortada en 4 partes: 00000088.jpg\n",
            "Imagen cortada en 4 partes: 00000121.jpg\n",
            "Imagen cortada en 4 partes: 00000189.jpg\n",
            "Imagen cortada en 4 partes: 00000149.jpg\n",
            "Imagen cortada en 4 partes: 00000126.jpg\n",
            "Imagen cortada en 4 partes: 00000078.jpg\n",
            "Imagen cortada en 4 partes: 00000193.jpg\n",
            "Imagen cortada en 4 partes: 00000071.png\n",
            "Imagen cortada en 4 partes: 00000015.png\n",
            "Imagen cortada en 4 partes: 00000150.png\n",
            "Imagen cortada en 4 partes: 00000044.png\n",
            "Imagen cortada en 4 partes: 00000158.jpg\n",
            "Imagen cortada en 4 partes: 00000042.jpg\n",
            "Imagen cortada en 4 partes: 00000003.png\n",
            "Imagen cortada en 4 partes: 00000110.jpg\n",
            "Imagen cortada en 4 partes: 00000016.jpg\n",
            "Imagen cortada en 4 partes: 00000013.jpg\n",
            "Imagen cortada en 4 partes: 00000070.jpg\n",
            "Imagen cortada en 4 partes: 00000129.jpg\n",
            "Imagen cortada en 4 partes: 00000009.png\n",
            "Imagen cortada en 4 partes: 00000195.jpg\n",
            "Imagen cortada en 4 partes: 00000026.jpg\n",
            "Imagen cortada en 4 partes: 00000182.jpg\n",
            "Imagen cortada en 4 partes: 00000145.jpg\n",
            "Imagen cortada en 4 partes: 00000199.jpg\n",
            "Imagen cortada en 4 partes: 00000010.jpg\n",
            "Imagen cortada en 4 partes: 00000018.jpg\n",
            "Imagen cortada en 4 partes: 00000186.jpg\n",
            "Imagen cortada en 4 partes: 00000174.jpg\n",
            "Imagen cortada en 4 partes: 00000081.jpg\n",
            "Imagen cortada en 4 partes: 00000006.jpg\n",
            "Imagen cortada en 4 partes: 00000192.jpg\n",
            "Imagen cortada en 4 partes: 00000089.jpg\n",
            "Imagen cortada en 4 partes: 00000114.jpg\n",
            "Imagen cortada en 4 partes: 00000002.JPG\n",
            "Imagen cortada en 4 partes: 00000019.jpg\n",
            "Imagen cortada en 4 partes: 00000177.jpg\n",
            "Imagen cortada en 4 partes: 00000066.jpg\n",
            "Imagen cortada en 4 partes: 00000115.jpg\n",
            "Imagen cortada en 4 partes: 00000127.jpg\n",
            "Imagen cortada en 4 partes: 00000167.jpg\n",
            "Imagen cortada en 4 partes: 00000094.jpg\n",
            "Imagen cortada en 4 partes: 00000079.jpg\n",
            "Imagen cortada en 4 partes: 00000151.png\n",
            "Imagen cortada en 4 partes: 00000062.jpg\n",
            "Imagen cortada en 4 partes: 00000092.jpg\n",
            "Imagen cortada en 4 partes: 00000017.jpg\n",
            "Imagen cortada en 4 partes: 00000102.jpg\n",
            "Imagen cortada en 4 partes: 00000136.png\n",
            "Imagen cortada en 4 partes: 00000138.jpg\n",
            "Imagen cortada en 4 partes: 00000188.jpg\n",
            "Imagen cortada en 4 partes: 00000025.jpg\n",
            "Imagen cortada en 4 partes: 00000028.jpg\n",
            "Imagen cortada en 4 partes: 00000194.jpg\n",
            "Imagen cortada en 4 partes: 00000054.jpeg\n",
            "Imagen cortada en 4 partes: 00000082.jpg\n",
            "Imagen cortada en 4 partes: 00000008.jpg\n",
            "Imagen cortada en 4 partes: 00000075.jpg\n",
            "Imagen cortada en 4 partes: 00000031.jpg\n",
            "Imagen cortada en 4 partes: 00000037.jpg\n",
            "Imagen cortada en 4 partes: 00000004.jpg\n",
            "Imagen cortada en 4 partes: 00000024.jpg\n",
            "Imagen cortada en 4 partes: 00000012.jpg\n",
            "Imagen cortada en 4 partes: 00000007.jpg\n",
            "Imagen cortada en 4 partes: 00000178.jpg\n",
            "Imagen cortada en 4 partes: 00000011.jpg\n",
            "Imagen cortada en 4 partes: 00000103.jpg\n",
            "Imagen cortada en 4 partes: 00000168.jpg\n",
            "Imagen cortada en 4 partes: 00000109.jpg\n",
            "Imagen cortada en 4 partes: 00000034.jpg\n",
            "Imagen cortada en 4 partes: 00000001.jpg\n",
            "Imagen cortada en 4 partes: 00000039.jpg\n",
            "Imagen cortada en 4 partes: 00000061.jpg\n",
            "Imagen cortada en 4 partes: 00000120.jpg\n",
            "Imagen cortada en 4 partes: 00000130.png\n",
            "Imagen cortada en 4 partes: 00000049.jpg\n",
            "Imagen cortada en 4 partes: 00000175.jpg\n",
            "Imagen cortada en 4 partes: 00000086.png\n",
            "Imagen cortada en 4 partes: 00000074.jpg\n",
            "Imagen cortada en 4 partes: 00000000.JPG\n"
          ]
        }
      ]
    },
    {
      "cell_type": "code",
      "source": [
        "!dvc add dataset/cut"
      ],
      "metadata": {
        "colab": {
          "base_uri": "https://localhost:8080/"
        },
        "id": "jW1iBgmQdwJr",
        "outputId": "95ec44ff-72fa-478c-8b87-3ef78583f787"
      },
      "execution_count": null,
      "outputs": [
        {
          "output_type": "stream",
          "name": "stdout",
          "text": [
            "\r!\rIf DVC froze, see `hardlink_lock` in <\u001b[36mhttps://man.dvc.org/config#core\u001b[39m>\r                                                                      \r\u001b[?25l\u001b[32m⠋\u001b[0m Checking graph\n",
            "\u001b[?25h\r\u001b[1A\u001b[2K\rAdding...:   0% 0/1 [00:00<?, ?file/s]\rAdding...:   0% 0/1 [00:00<?, ?file/s{'info': ''}]\rAdding...:   0% 0/1 [00:00<?, ?file/s{'info': ''}]\n",
            "!\u001b[A\n",
            "          |0.00 [00:00,     ?file/s]\u001b[A\n",
            "                                    \u001b[A\n",
            "!\u001b[A\n",
            "  0% |          |0/? [00:00<?,    ?files/s]\u001b[A\n",
            "                                           \u001b[A\n",
            "Adding dataset/cut to cache:   0% 0/326 [00:00<?, ?file/s]\u001b[A\n",
            "Adding dataset/cut to cache:   0% 0/326 [00:00<?, ?file/s{'info': ''}]\u001b[A\n",
            "                                                                      \u001b[A\n",
            "!\u001b[A\n",
            "Checking out /content/tp3_HdS/dataset/cut          |0.00 [00:00,    ?files/s]\u001b[A\n",
            "Adding...: 100% 1/1 [00:00<00:00,  5.32file/s{'info': ''}]\n",
            "\n",
            "To track the changes with git, run:\n",
            "\n",
            "\tgit add dataset/.gitignore dataset/cut.dvc\n",
            "\n",
            "To enable auto staging, run:\n",
            "\n",
            "\tdvc config core.autostage true\n",
            "\u001b[0m"
          ]
        }
      ]
    },
    {
      "cell_type": "code",
      "source": [
        "!git status"
      ],
      "metadata": {
        "colab": {
          "base_uri": "https://localhost:8080/"
        },
        "id": "G6U68lwpd3Dw",
        "outputId": "e021f7ee-7595-4aa3-a852-290b45147c98"
      },
      "execution_count": null,
      "outputs": [
        {
          "output_type": "stream",
          "name": "stdout",
          "text": [
            "On branch master\n",
            "Changes not staged for commit:\n",
            "  (use \"git add <file>...\" to update what will be committed)\n",
            "  (use \"git restore <file>...\" to discard changes in working directory)\n",
            "\t\u001b[31mmodified:   dataset/.gitignore\u001b[m\n",
            "\n",
            "Untracked files:\n",
            "  (use \"git add <file>...\" to include in what will be committed)\n",
            "\t\u001b[31mdataset/cut.dvc\u001b[m\n",
            "\n",
            "no changes added to commit (use \"git add\" and/or \"git commit -a\")\n"
          ]
        }
      ]
    },
    {
      "cell_type": "code",
      "source": [
        "!git add dataset/.gitignore dataset/cut.dvc"
      ],
      "metadata": {
        "id": "EML0ddmnNQ2B"
      },
      "execution_count": null,
      "outputs": []
    },
    {
      "cell_type": "code",
      "source": [
        "!git status"
      ],
      "metadata": {
        "colab": {
          "base_uri": "https://localhost:8080/"
        },
        "id": "qUeXi91FNSKD",
        "outputId": "95fb1ad6-5066-4b29-e2ac-7c3d2077a6bf"
      },
      "execution_count": null,
      "outputs": [
        {
          "output_type": "stream",
          "name": "stdout",
          "text": [
            "On branch master\n",
            "Changes to be committed:\n",
            "  (use \"git restore --staged <file>...\" to unstage)\n",
            "\t\u001b[32mmodified:   dataset/.gitignore\u001b[m\n",
            "\t\u001b[32mnew file:   dataset/cut.dvc\u001b[m\n",
            "\n"
          ]
        }
      ]
    },
    {
      "cell_type": "code",
      "source": [
        "!git add .\n",
        "!git commit -m \"Añadir imágenes cortadas en 4 partes rastreadas por DVC\""
      ],
      "metadata": {
        "colab": {
          "base_uri": "https://localhost:8080/"
        },
        "id": "UOhnhtnRdzYz",
        "outputId": "3bd3ba3b-6e0d-4d15-8724-02a38047ce5f"
      },
      "execution_count": null,
      "outputs": [
        {
          "output_type": "stream",
          "name": "stdout",
          "text": [
            "[master d0767be] Añadir imágenes cortadas en 4 partes rastreadas por DVC\n",
            " 2 files changed, 7 insertions(+)\n",
            " create mode 100644 dataset/cut.dvc\n"
          ]
        }
      ]
    },
    {
      "cell_type": "code",
      "source": [
        "!git status"
      ],
      "metadata": {
        "colab": {
          "base_uri": "https://localhost:8080/"
        },
        "id": "ck2MuGh_d7Mc",
        "outputId": "76ed794d-b837-4028-dab6-c669ab37b88c"
      },
      "execution_count": null,
      "outputs": [
        {
          "output_type": "stream",
          "name": "stdout",
          "text": [
            "On branch master\n",
            "nothing to commit, working tree clean\n"
          ]
        }
      ]
    },
    {
      "cell_type": "code",
      "source": [
        "!cat dataset/.gitignore"
      ],
      "metadata": {
        "colab": {
          "base_uri": "https://localhost:8080/"
        },
        "id": "6XmiJ6Mid8M2",
        "outputId": "96901481-d79e-484f-ea34-b73dd492d975"
      },
      "execution_count": null,
      "outputs": [
        {
          "output_type": "stream",
          "name": "stdout",
          "text": [
            "/raw\n",
            "/resize\n",
            "/cut\n"
          ]
        }
      ]
    },
    {
      "cell_type": "code",
      "source": [
        "!dvc push --remote origin_local"
      ],
      "metadata": {
        "colab": {
          "base_uri": "https://localhost:8080/"
        },
        "id": "WRxpz3x1eNIC",
        "outputId": "ccd5e8e1-97ef-444e-ac8f-08e0585d2963"
      },
      "execution_count": null,
      "outputs": [
        {
          "output_type": "stream",
          "name": "stdout",
          "text": [
            "Collecting          |433 [00:01,  394entry/s]\n",
            "Pushing\n",
            "Querying remote cache:   0% 0/2 [00:00<?, ?files/s]\u001b[A\n",
            "Querying remote cache:   0% 0/2 [00:00<?, ?files/s{'info': ''}]\u001b[A\n",
            "                                                               \u001b[A\n",
            "Querying remote cache:   0% 0/1 [00:00<?, ?files/s]\u001b[A\n",
            "Querying remote cache:   0% 0/1 [00:00<?, ?files/s{'info': ''}]\u001b[A\n",
            "                                                               \u001b[A\n",
            "!\u001b[A\n",
            "  0% |          |0/? [00:00<?,    ?files/s]\u001b[A\n",
            "                                           \u001b[A\n",
            "!\u001b[A\n",
            "  0% |          |0/? [00:00<?,    ?files/s]\u001b[A\n",
            "                                           \u001b[A\n",
            "Pushing to local:   0% 0/327 [00:00<?, ?file/s]\u001b[A\n",
            "Pushing to local:   0% 0/327 [00:00<?, ?file/s{'info': ''}]\u001b[A\n",
            "Pushing to local:  65% 213/326 [00:00<00:00, 2128.77file/s{'info': ''}]\u001b[A\n",
            "Pushing\n",
            "327 files pushed\n",
            "\u001b[0m"
          ]
        }
      ]
    },
    {
      "cell_type": "markdown",
      "metadata": {
        "id": "cGGoqxjjvhum"
      },
      "source": [
        "## Punto 5\n",
        "\n",
        "Tomar las imágenes del directorio `dataset/cut` y eliminar las imágenes que no posean variaciones de colores, es decir, donde todos los pixeles sean idénticos. Las nuevas imágenes deben quedar almacenadar en `dataset/selection`.\n",
        "\n",
        "Mostrar la cantidad y los nombres de los archivos borrados en orden alfabético.\n",
        "\n",
        "Escribir los pasos necesarios para el traceo del dataset y hacer los commit correspondientes y pushear dvc."
      ]
    },
    {
      "cell_type": "code",
      "execution_count": null,
      "metadata": {
        "id": "vO72F-HqMMX0"
      },
      "outputs": [],
      "source": [
        "def filter_images(input_dir, output_dir):\n",
        "    \"\"\"\n",
        "    Filtra las imágenes en input_dir que poseen variación de colores y las guarda en output_dir.\n",
        "    Elimina las imágenes sin variación de colores y muestra la cantidad y nombres en orden alfabético.\n",
        "\n",
        "    Parameters:\n",
        "    - input_dir (str): Directorio de entrada con las imágenes a filtrar.\n",
        "    - output_dir (str): Directorio de salida donde se guardarán las imágenes que poseen variación de colores.\n",
        "    \"\"\"\n",
        "    # Asegurarse de que el directorio de salida existe\n",
        "    os.makedirs(output_dir, exist_ok=True)\n",
        "\n",
        "    # Lista para almacenar los nombres de las imágenes borradas\n",
        "    deleted_files = []\n",
        "\n",
        "    # Procesar cada archivo en el directorio de entrada\n",
        "    for filename in sorted(os.listdir(input_dir)):\n",
        "        file_path = os.path.join(input_dir, filename)\n",
        "\n",
        "        # Verifica que sea un archivo de imagen\n",
        "        if not filename.lower().endswith(('.png', '.jpg', '.jpeg')):\n",
        "            print(f\"Archivo no soportado, excluido: {filename}\")\n",
        "            continue\n",
        "\n",
        "        try:\n",
        "            with Image.open(file_path) as img:\n",
        "                # Convertir la imagen a una lista de pixeles únicos\n",
        "                pixels = list(img.getdata())\n",
        "                # Comprobar si todos los píxeles son iguales\n",
        "                if all(pixel == pixels[0] for pixel in pixels):\n",
        "                    # Si todos los píxeles son iguales, añadir el archivo a la lista de borrados\n",
        "                    deleted_files.append(filename)\n",
        "                else:\n",
        "                    # Guardar la imagen en el directorio de salida si tiene variación de color\n",
        "                    img.save(os.path.join(output_dir, filename))\n",
        "        except Exception as e:\n",
        "            print(f\"Error al procesar {filename}: {e}\")\n",
        "\n",
        "    # Mostrar la cantidad y nombres de archivos borrados en orden alfabético\n",
        "    print(f\"Cantidad de archivos borrados: {len(deleted_files)}\")\n",
        "    print(\"Archivos borrados (sin variación de color):\")\n",
        "    for file in deleted_files:\n",
        "        print(file)\n",
        "\n"
      ]
    },
    {
      "cell_type": "code",
      "source": [
        "!mkdir -p dataset/selection"
      ],
      "metadata": {
        "id": "pAxAtvKQeyjm"
      },
      "execution_count": null,
      "outputs": []
    },
    {
      "cell_type": "code",
      "source": [
        "filter_images(\"dataset/cut\", \"dataset/selection\")"
      ],
      "metadata": {
        "colab": {
          "base_uri": "https://localhost:8080/"
        },
        "id": "qnKrJ7Uteqz3",
        "outputId": "fcd0e765-361f-47ec-eca7-aac1c34775c0"
      },
      "execution_count": null,
      "outputs": [
        {
          "output_type": "stream",
          "name": "stdout",
          "text": [
            "Cantidad de archivos borrados: 24\n",
            "Archivos borrados (sin variación de color):\n",
            "00000003_1.jpg\n",
            "00000003_4.jpg\n",
            "00000008_1.jpg\n",
            "00000008_4.jpg\n",
            "00000009_1.jpg\n",
            "00000009_4.jpg\n",
            "00000034_4.jpg\n",
            "00000044_1.jpg\n",
            "00000044_4.jpg\n",
            "00000054_1.jpg\n",
            "00000054_4.jpg\n",
            "00000062_1.jpg\n",
            "00000070_1.jpg\n",
            "00000070_4.jpg\n",
            "00000074_1.jpg\n",
            "00000074_4.jpg\n",
            "00000079_1.jpg\n",
            "00000079_4.jpg\n",
            "00000130_1.jpg\n",
            "00000130_4.jpg\n",
            "00000145_1.jpg\n",
            "00000145_4.jpg\n",
            "00000177_1.jpg\n",
            "00000178_1.jpg\n"
          ]
        }
      ]
    },
    {
      "cell_type": "code",
      "source": [
        "!dvc add dataset/selection"
      ],
      "metadata": {
        "colab": {
          "base_uri": "https://localhost:8080/"
        },
        "id": "e9XG4mbde7y8",
        "outputId": "4b860f57-4f55-41a0-8505-8e9e43eb1ab3"
      },
      "execution_count": null,
      "outputs": [
        {
          "output_type": "stream",
          "name": "stdout",
          "text": [
            "\u001b[?25l\u001b[32m⠋\u001b[0m Checking graph\n",
            "Adding...:   0% 0/1 [00:00<?, ?file/s{'info': ''}]\n",
            "!\u001b[A\n",
            "          |0.00 [00:00,     ?file/s]\u001b[A\n",
            "                                    \u001b[A\n",
            "!\u001b[A\n",
            "  0% |          |0/? [00:00<?,    ?files/s]\u001b[A\n",
            "                                           \u001b[A\n",
            "Adding dataset/selection to cache:   0% 0/262 [00:00<?, ?file/s]\u001b[A\n",
            "Adding dataset/selection to cache:   0% 0/262 [00:00<?, ?file/s{'info': ''}]\u001b[A\n",
            " 95% 250/262 [00:00<00:00, 2498.04file/s{'info': ''}]                       \u001b[A\n",
            "                                                     \u001b[A\n",
            "!\u001b[A\n",
            "          |0.00 [00:00,    ?files/s]\u001b[A\n",
            "Adding...: 100% 1/1 [00:00<00:00,  3.89file/s{'info': ''}]\n",
            "\n",
            "To track the changes with git, run:\n",
            "\n",
            "\tgit add dataset/.gitignore dataset/selection.dvc\n",
            "\n",
            "To enable auto staging, run:\n",
            "\n",
            "\tdvc config core.autostage true\n",
            "\u001b[0m"
          ]
        }
      ]
    },
    {
      "cell_type": "code",
      "source": [
        "!git status"
      ],
      "metadata": {
        "colab": {
          "base_uri": "https://localhost:8080/"
        },
        "outputId": "748cc0fb-c2b9-48e7-9377-c09f0d4cd267",
        "id": "PtDFc_GKfFXZ"
      },
      "execution_count": null,
      "outputs": [
        {
          "output_type": "stream",
          "name": "stdout",
          "text": [
            "On branch master\n",
            "Changes not staged for commit:\n",
            "  (use \"git add <file>...\" to update what will be committed)\n",
            "  (use \"git restore <file>...\" to discard changes in working directory)\n",
            "\t\u001b[31mmodified:   dataset/.gitignore\u001b[m\n",
            "\n",
            "Untracked files:\n",
            "  (use \"git add <file>...\" to include in what will be committed)\n",
            "\t\u001b[31mdataset/selection.dvc\u001b[m\n",
            "\n",
            "no changes added to commit (use \"git add\" and/or \"git commit -a\")\n"
          ]
        }
      ]
    },
    {
      "cell_type": "code",
      "source": [
        "!git add dataset/.gitignore dataset/selection.dvc"
      ],
      "metadata": {
        "id": "FM3e_ITaNWaK"
      },
      "execution_count": null,
      "outputs": []
    },
    {
      "cell_type": "code",
      "source": [
        "!git status"
      ],
      "metadata": {
        "colab": {
          "base_uri": "https://localhost:8080/"
        },
        "id": "BvkMQy8bNYip",
        "outputId": "22c6a370-0606-472f-af68-e1d4cec381ae"
      },
      "execution_count": null,
      "outputs": [
        {
          "output_type": "stream",
          "name": "stdout",
          "text": [
            "On branch master\n",
            "Changes to be committed:\n",
            "  (use \"git restore --staged <file>...\" to unstage)\n",
            "\t\u001b[32mmodified:   dataset/.gitignore\u001b[m\n",
            "\t\u001b[32mnew file:   dataset/selection.dvc\u001b[m\n",
            "\n"
          ]
        }
      ]
    },
    {
      "cell_type": "code",
      "source": [
        "!git add .\n",
        "!git commit -m \"Filtrar y eliminar imágenes sin variación de color, rastreadas por DVC\""
      ],
      "metadata": {
        "colab": {
          "base_uri": "https://localhost:8080/"
        },
        "outputId": "70d04230-328f-427a-d69a-bc0928d3472f",
        "id": "rxp3AEMRfFXZ"
      },
      "execution_count": null,
      "outputs": [
        {
          "output_type": "stream",
          "name": "stdout",
          "text": [
            "[master 6c2036e] Filtrar y eliminar imágenes sin variación de color, rastreadas por DVC\n",
            " 2 files changed, 7 insertions(+)\n",
            " create mode 100644 dataset/selection.dvc\n"
          ]
        }
      ]
    },
    {
      "cell_type": "code",
      "source": [
        "!git status"
      ],
      "metadata": {
        "colab": {
          "base_uri": "https://localhost:8080/"
        },
        "outputId": "cc1163a4-caae-4313-9351-858dfd99ec54",
        "id": "z75PTzV1fFXZ"
      },
      "execution_count": null,
      "outputs": [
        {
          "output_type": "stream",
          "name": "stdout",
          "text": [
            "On branch master\n",
            "nothing to commit, working tree clean\n"
          ]
        }
      ]
    },
    {
      "cell_type": "code",
      "source": [
        "!cat dataset/.gitignore"
      ],
      "metadata": {
        "colab": {
          "base_uri": "https://localhost:8080/"
        },
        "outputId": "4555f512-9f6b-4d7b-9db3-286e90912d6c",
        "id": "mtWmKO1kfFXZ"
      },
      "execution_count": null,
      "outputs": [
        {
          "output_type": "stream",
          "name": "stdout",
          "text": [
            "/raw\n",
            "/resize\n",
            "/cut\n",
            "/selection\n"
          ]
        }
      ]
    },
    {
      "cell_type": "code",
      "source": [
        "!dvc push --remote origin_local"
      ],
      "metadata": {
        "colab": {
          "base_uri": "https://localhost:8080/"
        },
        "outputId": "0d7378b0-4fed-4bc8-889a-377e3e1730f4",
        "id": "Jwv0Igb1fFXa"
      },
      "execution_count": null,
      "outputs": [
        {
          "output_type": "stream",
          "name": "stdout",
          "text": [
            "Collecting          |754 [00:01,  611entry/s]\n",
            "Pushing\n",
            "Querying remote cache:   0% 0/3 [00:00<?, ?files/s]\u001b[A\n",
            "Querying remote cache:   0% 0/3 [00:00<?, ?files/s{'info': ''}]\u001b[A\n",
            "                                                               \u001b[A\n",
            "Querying remote cache:   0% 0/1 [00:00<?, ?files/s]\u001b[A\n",
            "Querying remote cache:   0% 0/1 [00:00<?, ?files/s{'info': ''}]\u001b[A\n",
            "                                                               \u001b[A\n",
            "!\u001b[A\n",
            "  0% |          |0/? [00:00<?,    ?files/s]\u001b[A\n",
            "                                           \u001b[A\n",
            "!\u001b[A\n",
            "  0% |          |0/? [00:00<?,    ?files/s]\u001b[A\n",
            "                                           \u001b[A\n",
            "Pushing to local:   0% 0/263 [00:00<?, ?file/s]\u001b[A\n",
            "Pushing to local:   0% 0/263 [00:00<?, ?file/s{'info': ''}]\u001b[A\n",
            "Pushing\n",
            "263 files pushed\n",
            "\u001b[0m"
          ]
        }
      ]
    }
  ],
  "metadata": {
    "colab": {
      "provenance": [],
      "include_colab_link": true
    },
    "kernelspec": {
      "display_name": "Python 3",
      "name": "python3"
    },
    "language_info": {
      "name": "python"
    }
  },
  "nbformat": 4,
  "nbformat_minor": 0
}