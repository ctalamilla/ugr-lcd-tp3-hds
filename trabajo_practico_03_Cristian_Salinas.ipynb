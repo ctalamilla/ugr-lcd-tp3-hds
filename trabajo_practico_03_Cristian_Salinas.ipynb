{
  "cells": [
    {
      "cell_type": "markdown",
      "metadata": {
        "id": "view-in-github",
        "colab_type": "text"
      },
      "source": [
        "<a href=\"https://colab.research.google.com/github/ctalamilla/ugr-lcd-tp3-hds/blob/main/trabajo_practico_03_Cristian_Salinas.ipynb\" target=\"_parent\"><img src=\"https://colab.research.google.com/assets/colab-badge.svg\" alt=\"Open In Colab\"/></a>"
      ]
    },
    {
      "cell_type": "markdown",
      "metadata": {
        "id": "GZ3I6tMKimmf"
      },
      "source": [
        "# Trabajo Práctico 3\n"
      ]
    },
    {
      "cell_type": "markdown",
      "metadata": {
        "id": "WI7TRxkc3gW4"
      },
      "source": [
        "# Ejercicio 1\n",
        "\n",
        "Vamos a trabajar con el dataset [chessman.zip](https://drive.google.com/file/d/125hRx0C9Yin9P5PRmRVbfvNCgY4iVKZC/view?usp=sharing) desde Google Drive.\n",
        "\n",
        "Para más información ver [kaggle](https://www.kaggle.com/datasets/niteshfre/chessman-image-dataset)."
      ]
    },
    {
      "cell_type": "markdown",
      "metadata": {
        "id": "5C1qxZkP7uSi"
      },
      "source": [
        "## Punto 1\n",
        "\n",
        "Descargar y descomprimirlo."
      ]
    },
    {
      "cell_type": "code",
      "execution_count": 22,
      "metadata": {
        "id": "cjSuj_ylWpyl"
      },
      "outputs": [],
      "source": [
        "#!pip install gdown"
      ]
    },
    {
      "cell_type": "code",
      "execution_count": 1,
      "metadata": {
        "id": "OddE5FSwWq_R"
      },
      "outputs": [],
      "source": [
        "import gdown"
      ]
    },
    {
      "cell_type": "code",
      "execution_count": 2,
      "metadata": {
        "id": "B1LtVQAYWubG"
      },
      "outputs": [],
      "source": [
        "# ID del archivo en Google Drive\n",
        "file_id = \"125hRx0C9Yin9P5PRmRVbfvNCgY4iVKZC\"\n",
        "url = f\"https://drive.google.com/uc?id={file_id}\""
      ]
    },
    {
      "cell_type": "code",
      "source": [
        "# Descargar el archivo\n",
        "output = 'downloaded_file.zip'\n",
        "gdown.download(url, output, quiet=False)"
      ],
      "metadata": {
        "colab": {
          "base_uri": "https://localhost:8080/",
          "height": 105
        },
        "id": "Yms9EUaInOok",
        "outputId": "b3e1345c-4d1d-48de-cafe-78f1e0d62c21"
      },
      "execution_count": 3,
      "outputs": [
        {
          "output_type": "stream",
          "name": "stderr",
          "text": [
            "Downloading...\n",
            "From: https://drive.google.com/uc?id=125hRx0C9Yin9P5PRmRVbfvNCgY4iVKZC\n",
            "To: /content/downloaded_file.zip\n",
            "100%|██████████| 8.82M/8.82M [00:00<00:00, 151MB/s]\n"
          ]
        },
        {
          "output_type": "execute_result",
          "data": {
            "text/plain": [
              "'downloaded_file.zip'"
            ],
            "application/vnd.google.colaboratory.intrinsic+json": {
              "type": "string"
            }
          },
          "metadata": {},
          "execution_count": 3
        }
      ]
    },
    {
      "cell_type": "code",
      "execution_count": 4,
      "metadata": {
        "colab": {
          "base_uri": "https://localhost:8080/"
        },
        "id": "5FQ_bi-qWzxS",
        "outputId": "54a8d808-a31e-4008-8f96-30bea6fe44f8"
      },
      "outputs": [
        {
          "output_type": "stream",
          "name": "stdout",
          "text": [
            "Archive:  downloaded_file.zip\n",
            "   creating: ./output_folder/Chessman-image-dataset-Bishop/\n",
            "   creating: ./output_folder/Chessman-image-dataset-Bishop/Chess/\n",
            "   creating: ./output_folder/Chessman-image-dataset-Bishop/Chess/Bishop/\n",
            "  inflating: ./output_folder/Chessman-image-dataset-Bishop/Chess/Bishop/00000175.jpg  \n",
            "  inflating: ./output_folder/Chessman-image-dataset-Bishop/Chess/Bishop/00000121.jpg  \n",
            "  inflating: ./output_folder/Chessman-image-dataset-Bishop/Chess/Bishop/00000109.jpg  \n",
            "  inflating: ./output_folder/Chessman-image-dataset-Bishop/Chess/Bishop/00000012.jpg  \n",
            "  inflating: ./output_folder/Chessman-image-dataset-Bishop/Chess/Bishop/00000026.jpg  \n",
            "  inflating: ./output_folder/Chessman-image-dataset-Bishop/Chess/Bishop/00000049.jpg  \n",
            "  inflating: ./output_folder/Chessman-image-dataset-Bishop/Chess/Bishop/00000115.jpg  \n",
            "  inflating: ./output_folder/Chessman-image-dataset-Bishop/Chess/Bishop/00000114.jpg  \n",
            "  inflating: ./output_folder/Chessman-image-dataset-Bishop/Chess/Bishop/00000044.png  \n",
            "  inflating: ./output_folder/Chessman-image-dataset-Bishop/Chess/Bishop/00000025.jpg  \n",
            "  inflating: ./output_folder/Chessman-image-dataset-Bishop/Chess/Bishop/00000078.jpg  \n",
            "  inflating: ./output_folder/Chessman-image-dataset-Bishop/Chess/Bishop/00000129.jpg  \n",
            "  inflating: ./output_folder/Chessman-image-dataset-Bishop/Chess/Bishop/00000192.jpg  \n",
            "  inflating: ./output_folder/Chessman-image-dataset-Bishop/Chess/Bishop/00000177.jpg  \n",
            "  inflating: ./output_folder/Chessman-image-dataset-Bishop/Chess/Bishop/00000167.jpg  \n",
            "  inflating: ./output_folder/Chessman-image-dataset-Bishop/Chess/Bishop/00000149.jpg  \n",
            "  inflating: ./output_folder/Chessman-image-dataset-Bishop/Chess/Bishop/00000010.jpg  \n",
            "  inflating: ./output_folder/Chessman-image-dataset-Bishop/Chess/Bishop/00000113.png  \n",
            "  inflating: ./output_folder/Chessman-image-dataset-Bishop/Chess/Bishop/00000138.jpg  \n",
            "  inflating: ./output_folder/Chessman-image-dataset-Bishop/Chess/Bishop/00000016.jpg  \n",
            "  inflating: ./output_folder/Chessman-image-dataset-Bishop/Chess/Bishop/00000110.jpg  \n",
            "  inflating: ./output_folder/Chessman-image-dataset-Bishop/Chess/Bishop/00000168.jpg  \n",
            "  inflating: ./output_folder/Chessman-image-dataset-Bishop/Chess/Bishop/00000145.jpg  \n",
            "  inflating: ./output_folder/Chessman-image-dataset-Bishop/Chess/Bishop/00000188.jpg  \n",
            "  inflating: ./output_folder/Chessman-image-dataset-Bishop/Chess/Bishop/00000007.jpg  \n",
            "  inflating: ./output_folder/Chessman-image-dataset-Bishop/Chess/Bishop/00000169.jpg  \n",
            "  inflating: ./output_folder/Chessman-image-dataset-Bishop/Chess/Bishop/00000086.png  \n",
            "  inflating: ./output_folder/Chessman-image-dataset-Bishop/Chess/Bishop/00000092.jpg  \n",
            "  inflating: ./output_folder/Chessman-image-dataset-Bishop/Chess/Bishop/00000102.jpg  \n",
            "  inflating: ./output_folder/Chessman-image-dataset-Bishop/Chess/Bishop/00000062.jpg  \n",
            "  inflating: ./output_folder/Chessman-image-dataset-Bishop/Chess/Bishop/00000082.jpg  \n",
            "  inflating: ./output_folder/Chessman-image-dataset-Bishop/Chess/Bishop/00000011.jpg  \n",
            "  inflating: ./output_folder/Chessman-image-dataset-Bishop/Chess/Bishop/00000002.JPG  \n",
            "  inflating: ./output_folder/Chessman-image-dataset-Bishop/Chess/Bishop/00000074.jpg  \n",
            "  inflating: ./output_folder/Chessman-image-dataset-Bishop/Chess/Bishop/00000061.jpg  \n",
            "  inflating: ./output_folder/Chessman-image-dataset-Bishop/Chess/Bishop/00000088.jpg  \n",
            "  inflating: ./output_folder/Chessman-image-dataset-Bishop/Chess/Bishop/00000039.jpg  \n",
            "  inflating: ./output_folder/Chessman-image-dataset-Bishop/Chess/Bishop/00000195.jpg  \n",
            "  inflating: ./output_folder/Chessman-image-dataset-Bishop/Chess/Bishop/00000194.jpg  \n",
            "  inflating: ./output_folder/Chessman-image-dataset-Bishop/Chess/Bishop/00000178.jpg  \n",
            "  inflating: ./output_folder/Chessman-image-dataset-Bishop/Chess/Bishop/00000028.jpg  \n",
            "  inflating: ./output_folder/Chessman-image-dataset-Bishop/Chess/Bishop/00000004.jpg  \n",
            "  inflating: ./output_folder/Chessman-image-dataset-Bishop/Chess/Bishop/00000130.png  \n",
            "  inflating: ./output_folder/Chessman-image-dataset-Bishop/Chess/Bishop/00000127.jpg  \n",
            "  inflating: ./output_folder/Chessman-image-dataset-Bishop/Chess/Bishop/00000095.gif  \n",
            "  inflating: ./output_folder/Chessman-image-dataset-Bishop/Chess/Bishop/00000136.png  \n",
            "  inflating: ./output_folder/Chessman-image-dataset-Bishop/Chess/Bishop/00000199.jpg  \n",
            "  inflating: ./output_folder/Chessman-image-dataset-Bishop/Chess/Bishop/00000031.jpg  \n",
            "  inflating: ./output_folder/Chessman-image-dataset-Bishop/Chess/Bishop/00000019.jpg  \n",
            "  inflating: ./output_folder/Chessman-image-dataset-Bishop/Chess/Bishop/00000066.jpg  \n",
            "  inflating: ./output_folder/Chessman-image-dataset-Bishop/Chess/Bishop/00000189.jpg  \n",
            "  inflating: ./output_folder/Chessman-image-dataset-Bishop/Chess/Bishop/00000089.jpg  \n",
            "  inflating: ./output_folder/Chessman-image-dataset-Bishop/Chess/Bishop/00000068.png  \n",
            "  inflating: ./output_folder/Chessman-image-dataset-Bishop/Chess/Bishop/00000070.jpg  \n",
            "  inflating: ./output_folder/Chessman-image-dataset-Bishop/Chess/Bishop/00000112.jpg  \n",
            "  inflating: ./output_folder/Chessman-image-dataset-Bishop/Chess/Bishop/00000126.jpg  \n",
            "  inflating: ./output_folder/Chessman-image-dataset-Bishop/Chess/Bishop/00000006.jpg  \n",
            "  inflating: ./output_folder/Chessman-image-dataset-Bishop/Chess/Bishop/00000186.jpg  \n",
            "  inflating: ./output_folder/Chessman-image-dataset-Bishop/Chess/Bishop/00000015.png  \n",
            "  inflating: ./output_folder/Chessman-image-dataset-Bishop/Chess/Bishop/00000018.jpg  \n",
            "  inflating: ./output_folder/Chessman-image-dataset-Bishop/Chess/Bishop/00000020.jpg  \n",
            "  inflating: ./output_folder/Chessman-image-dataset-Bishop/Chess/Bishop/00000034.jpg  \n",
            "  inflating: ./output_folder/Chessman-image-dataset-Bishop/Chess/Bishop/00000003.png  \n",
            "  inflating: ./output_folder/Chessman-image-dataset-Bishop/Chess/Bishop/00000103.jpg  \n",
            "  inflating: ./output_folder/Chessman-image-dataset-Bishop/Chess/Bishop/00000075.jpg  \n",
            "  inflating: ./output_folder/Chessman-image-dataset-Bishop/Chess/Bishop/00000182.jpg  \n",
            "  inflating: ./output_folder/Chessman-image-dataset-Bishop/Chess/Bishop/00000193.jpg  \n",
            "  inflating: ./output_folder/Chessman-image-dataset-Bishop/Chess/Bishop/00000001.jpg  \n",
            "  inflating: ./output_folder/Chessman-image-dataset-Bishop/Chess/Bishop/00000081.jpg  \n",
            "  inflating: ./output_folder/Chessman-image-dataset-Bishop/Chess/Bishop/00000150.png  \n",
            "  inflating: ./output_folder/Chessman-image-dataset-Bishop/Chess/Bishop/00000013.jpg  \n",
            "  inflating: ./output_folder/Chessman-image-dataset-Bishop/Chess/Bishop/00000117.jpg  \n",
            "  inflating: ./output_folder/Chessman-image-dataset-Bishop/Chess/Bishop/00000151.png  \n",
            "  inflating: ./output_folder/Chessman-image-dataset-Bishop/Chess/Bishop/00000120.jpg  \n",
            "  inflating: ./output_folder/Chessman-image-dataset-Bishop/Chess/Bishop/00000094.jpg  \n",
            "  inflating: ./output_folder/Chessman-image-dataset-Bishop/Chess/Bishop/00000054.jpeg  \n",
            "  inflating: ./output_folder/Chessman-image-dataset-Bishop/Chess/Bishop/00000009.png  \n",
            "  inflating: ./output_folder/Chessman-image-dataset-Bishop/Chess/Bishop/00000024.jpg  \n",
            "  inflating: ./output_folder/Chessman-image-dataset-Bishop/Chess/Bishop/00000017.jpg  \n",
            "  inflating: ./output_folder/Chessman-image-dataset-Bishop/Chess/Bishop/00000079.jpg  \n",
            "  inflating: ./output_folder/Chessman-image-dataset-Bishop/Chess/Bishop/00000000.JPG  \n",
            "  inflating: ./output_folder/Chessman-image-dataset-Bishop/Chess/Bishop/00000174.jpg  \n",
            "  inflating: ./output_folder/Chessman-image-dataset-Bishop/Chess/Bishop/00000158.jpg  \n",
            "  inflating: ./output_folder/Chessman-image-dataset-Bishop/Chess/Bishop/00000037.jpg  \n",
            "  inflating: ./output_folder/Chessman-image-dataset-Bishop/Chess/Bishop/00000042.jpg  \n",
            "  inflating: ./output_folder/Chessman-image-dataset-Bishop/Chess/Bishop/00000008.jpg  \n",
            "  inflating: ./output_folder/Chessman-image-dataset-Bishop/Chess/Bishop/00000071.png  \n"
          ]
        }
      ],
      "source": [
        "!unzip downloaded_file.zip -d ./output_folder"
      ]
    },
    {
      "cell_type": "markdown",
      "metadata": {
        "id": "tLWlUqGF7XiY"
      },
      "source": [
        "## Punto 2\n",
        "\n",
        "Crear un repositorio para dvc que contenga la siguiente estructura:\n",
        "- dataset\n",
        "- dataset/raw: copiar las imágenes del dataset. Debe ser traceado por dvc.\n",
        "\n",
        "Escribir los pasos necesarios para el traceo del dataset y hacer los commit correspondientes y pushear dvc."
      ]
    },
    {
      "cell_type": "code",
      "source": [
        "!pip install -q dvc"
      ],
      "metadata": {
        "colab": {
          "base_uri": "https://localhost:8080/"
        },
        "id": "ZOD9SUTJpbgS",
        "outputId": "d322922b-c01d-43fd-ebbb-08a804334557"
      },
      "execution_count": 5,
      "outputs": [
        {
          "output_type": "stream",
          "name": "stdout",
          "text": [
            "\u001b[?25l     \u001b[90m━━━━━━━━━━━━━━━━━━━━━━━━━━━━━━━━━━━━━━━━\u001b[0m \u001b[32m0.0/101.5 kB\u001b[0m \u001b[31m?\u001b[0m eta \u001b[36m-:--:--\u001b[0m\r\u001b[2K     \u001b[90m━━━━━━━━━━━━━━━━━━━━━━━━━━━━━━━━━━━━━━━━\u001b[0m \u001b[32m101.5/101.5 kB\u001b[0m \u001b[31m3.8 MB/s\u001b[0m eta \u001b[36m0:00:00\u001b[0m\n",
            "\u001b[?25h  Installing build dependencies ... \u001b[?25l\u001b[?25hdone\n",
            "  Getting requirements to build wheel ... \u001b[?25l\u001b[?25hdone\n",
            "  Preparing metadata (pyproject.toml) ... \u001b[?25l\u001b[?25hdone\n",
            "\u001b[2K     \u001b[90m━━━━━━━━━━━━━━━━━━━━━━━━━━━━━━━━━━━━━━━━\u001b[0m \u001b[32m117.0/117.0 kB\u001b[0m \u001b[31m8.0 MB/s\u001b[0m eta \u001b[36m0:00:00\u001b[0m\n",
            "\u001b[?25h  Preparing metadata (setup.py) ... \u001b[?25l\u001b[?25hdone\n",
            "\u001b[2K   \u001b[90m━━━━━━━━━━━━━━━━━━━━━━━━━━━━━━━━━━━━━━━━\u001b[0m \u001b[32m456.5/456.5 kB\u001b[0m \u001b[31m16.5 MB/s\u001b[0m eta \u001b[36m0:00:00\u001b[0m\n",
            "\u001b[2K   \u001b[90m━━━━━━━━━━━━━━━━━━━━━━━━━━━━━━━━━━━━━━━━\u001b[0m \u001b[32m78.4/78.4 kB\u001b[0m \u001b[31m5.8 MB/s\u001b[0m eta \u001b[36m0:00:00\u001b[0m\n",
            "\u001b[2K   \u001b[90m━━━━━━━━━━━━━━━━━━━━━━━━━━━━━━━━━━━━━━━━\u001b[0m \u001b[32m426.0/426.0 kB\u001b[0m \u001b[31m22.2 MB/s\u001b[0m eta \u001b[36m0:00:00\u001b[0m\n",
            "\u001b[2K   \u001b[90m━━━━━━━━━━━━━━━━━━━━━━━━━━━━━━━━━━━━━━━━\u001b[0m \u001b[32m41.8/41.8 kB\u001b[0m \u001b[31m2.7 MB/s\u001b[0m eta \u001b[36m0:00:00\u001b[0m\n",
            "\u001b[2K   \u001b[90m━━━━━━━━━━━━━━━━━━━━━━━━━━━━━━━━━━━━━━━━\u001b[0m \u001b[32m46.6/46.6 kB\u001b[0m \u001b[31m2.9 MB/s\u001b[0m eta \u001b[36m0:00:00\u001b[0m\n",
            "\u001b[2K   \u001b[90m━━━━━━━━━━━━━━━━━━━━━━━━━━━━━━━━━━━━━━━━\u001b[0m \u001b[32m154.5/154.5 kB\u001b[0m \u001b[31m11.2 MB/s\u001b[0m eta \u001b[36m0:00:00\u001b[0m\n",
            "\u001b[2K   \u001b[90m━━━━━━━━━━━━━━━━━━━━━━━━━━━━━━━━━━━━━━━━\u001b[0m \u001b[32m201.3/201.3 kB\u001b[0m \u001b[31m14.3 MB/s\u001b[0m eta \u001b[36m0:00:00\u001b[0m\n",
            "\u001b[2K   \u001b[90m━━━━━━━━━━━━━━━━━━━━━━━━━━━━━━━━━━━━━━━━\u001b[0m \u001b[32m79.5/79.5 kB\u001b[0m \u001b[31m5.9 MB/s\u001b[0m eta \u001b[36m0:00:00\u001b[0m\n",
            "\u001b[2K   \u001b[90m━━━━━━━━━━━━━━━━━━━━━━━━━━━━━━━━━━━━━━━━\u001b[0m \u001b[32m117.8/117.8 kB\u001b[0m \u001b[31m6.2 MB/s\u001b[0m eta \u001b[36m0:00:00\u001b[0m\n",
            "\u001b[2K   \u001b[90m━━━━━━━━━━━━━━━━━━━━━━━━━━━━━━━━━━━━━━━━\u001b[0m \u001b[32m73.6/73.6 kB\u001b[0m \u001b[31m5.3 MB/s\u001b[0m eta \u001b[36m0:00:00\u001b[0m\n",
            "\u001b[2K   \u001b[90m━━━━━━━━━━━━━━━━━━━━━━━━━━━━━━━━━━━━━━━━\u001b[0m \u001b[32m969.6/969.6 kB\u001b[0m \u001b[31m32.2 MB/s\u001b[0m eta \u001b[36m0:00:00\u001b[0m\n",
            "\u001b[2K   \u001b[90m━━━━━━━━━━━━━━━━━━━━━━━━━━━━━━━━━━━━━━━━\u001b[0m \u001b[32m50.9/50.9 kB\u001b[0m \u001b[31m3.3 MB/s\u001b[0m eta \u001b[36m0:00:00\u001b[0m\n",
            "\u001b[2K   \u001b[90m━━━━━━━━━━━━━━━━━━━━━━━━━━━━━━━━━━━━━━━━\u001b[0m \u001b[32m367.6/367.6 kB\u001b[0m \u001b[31m15.1 MB/s\u001b[0m eta \u001b[36m0:00:00\u001b[0m\n",
            "\u001b[2K   \u001b[90m━━━━━━━━━━━━━━━━━━━━━━━━━━━━━━━━━━━━━━━━\u001b[0m \u001b[32m86.8/86.8 kB\u001b[0m \u001b[31m6.7 MB/s\u001b[0m eta \u001b[36m0:00:00\u001b[0m\n",
            "\u001b[2K   \u001b[90m━━━━━━━━━━━━━━━━━━━━━━━━━━━━━━━━━━━━━━━━\u001b[0m \u001b[32m45.5/45.5 kB\u001b[0m \u001b[31m2.8 MB/s\u001b[0m eta \u001b[36m0:00:00\u001b[0m\n",
            "\u001b[2K   \u001b[90m━━━━━━━━━━━━━━━━━━━━━━━━━━━━━━━━━━━━━━━━\u001b[0m \u001b[32m722.2/722.2 kB\u001b[0m \u001b[31m33.5 MB/s\u001b[0m eta \u001b[36m0:00:00\u001b[0m\n",
            "\u001b[?25h  Building wheel for configobj (pyproject.toml) ... \u001b[?25l\u001b[?25hdone\n",
            "  Building wheel for antlr4-python3-runtime (setup.py) ... \u001b[?25l\u001b[?25hdone\n"
          ]
        }
      ]
    },
    {
      "cell_type": "code",
      "execution_count": 10,
      "metadata": {
        "id": "vf9IzBKJMDXm",
        "colab": {
          "base_uri": "https://localhost:8080/"
        },
        "outputId": "2d61829a-7bfe-4a3b-f239-d0e8402b8adf"
      },
      "outputs": [
        {
          "output_type": "stream",
          "name": "stdout",
          "text": [
            "3.56.0\n",
            "\u001b[0m"
          ]
        }
      ],
      "source": [
        "!dvc --version"
      ]
    },
    {
      "cell_type": "code",
      "source": [
        "git_folder = \"/content/tp3_HdS\"\n",
        "# creamos un directorio\n",
        "!mkdir -p {git_folder}"
      ],
      "metadata": {
        "id": "z7QiV_PsRE4-"
      },
      "execution_count": 6,
      "outputs": []
    },
    {
      "cell_type": "code",
      "source": [
        "# entramos al directorio\n",
        "%cd {git_folder}\n",
        "# inicializamos git\n",
        "!git init\n",
        "# configuramos git\n",
        "!git config user.name \"ctalamilla\"\n",
        "!git config user.email \"salinastalamilla@gmail.com\""
      ],
      "metadata": {
        "colab": {
          "base_uri": "https://localhost:8080/"
        },
        "id": "idHN4ASIrgeE",
        "outputId": "69796d6f-e2a9-4685-8c50-6bb553162cad"
      },
      "execution_count": 7,
      "outputs": [
        {
          "output_type": "stream",
          "name": "stdout",
          "text": [
            "/content/tp3_HdS\n",
            "\u001b[33mhint: Using 'master' as the name for the initial branch. This default branch name\u001b[m\n",
            "\u001b[33mhint: is subject to change. To configure the initial branch name to use in all\u001b[m\n",
            "\u001b[33mhint: of your new repositories, which will suppress this warning, call:\u001b[m\n",
            "\u001b[33mhint: \u001b[m\n",
            "\u001b[33mhint: \tgit config --global init.defaultBranch <name>\u001b[m\n",
            "\u001b[33mhint: \u001b[m\n",
            "\u001b[33mhint: Names commonly chosen instead of 'master' are 'main', 'trunk' and\u001b[m\n",
            "\u001b[33mhint: 'development'. The just-created branch can be renamed via this command:\u001b[m\n",
            "\u001b[33mhint: \u001b[m\n",
            "\u001b[33mhint: \tgit branch -m <name>\u001b[m\n",
            "Initialized empty Git repository in /content/tp3_HdS/.git/\n"
          ]
        }
      ]
    },
    {
      "cell_type": "code",
      "source": [
        "!git status"
      ],
      "metadata": {
        "colab": {
          "base_uri": "https://localhost:8080/"
        },
        "id": "eAPn-yW7RVoX",
        "outputId": "07cca8bc-d985-4310-a2af-ff1e51650f1c"
      },
      "execution_count": 8,
      "outputs": [
        {
          "output_type": "stream",
          "name": "stdout",
          "text": [
            "On branch master\n",
            "\n",
            "No commits yet\n",
            "\n",
            "nothing to commit (create/copy files and use \"git add\" to track)\n"
          ]
        }
      ]
    },
    {
      "cell_type": "code",
      "source": [
        "!ls -al"
      ],
      "metadata": {
        "colab": {
          "base_uri": "https://localhost:8080/"
        },
        "id": "kRhbQaz9RZQ5",
        "outputId": "9b8fdae8-7e6d-42a1-dd5c-06064a3fd653"
      },
      "execution_count": 9,
      "outputs": [
        {
          "output_type": "stream",
          "name": "stdout",
          "text": [
            "total 12\n",
            "drwxr-xr-x 3 root root 4096 Nov  9 19:07 .\n",
            "drwxr-xr-x 1 root root 4096 Nov  9 19:07 ..\n",
            "drwxr-xr-x 7 root root 4096 Nov  9 19:07 .git\n"
          ]
        }
      ]
    },
    {
      "cell_type": "code",
      "source": [
        "!dvc init"
      ],
      "metadata": {
        "colab": {
          "base_uri": "https://localhost:8080/"
        },
        "id": "z9oH4m51tDzi",
        "outputId": "8784c9f8-af55-4e7b-b667-ba1de99c42e1"
      },
      "execution_count": 11,
      "outputs": [
        {
          "output_type": "stream",
          "name": "stdout",
          "text": [
            "Initialized DVC repository.\n",
            "\n",
            "You can now commit the changes to git.\n",
            "\n",
            "\u001b[31m+---------------------------------------------------------------------+\n",
            "\u001b[0m\u001b[31m|\u001b[0m                                                                     \u001b[31m|\u001b[0m\n",
            "\u001b[31m|\u001b[0m        DVC has enabled anonymous aggregate usage analytics.         \u001b[31m|\u001b[0m\n",
            "\u001b[31m|\u001b[0m     Read the analytics documentation (and how to opt-out) here:     \u001b[31m|\u001b[0m\n",
            "\u001b[31m|\u001b[0m             <\u001b[36mhttps://dvc.org/doc/user-guide/analytics\u001b[39m>              \u001b[31m|\u001b[0m\n",
            "\u001b[31m|\u001b[0m                                                                     \u001b[31m|\u001b[0m\n",
            "\u001b[31m+---------------------------------------------------------------------+\n",
            "\u001b[0m\n",
            "\u001b[33mWhat's next?\u001b[39m\n",
            "\u001b[33m------------\u001b[39m\n",
            "- Check out the documentation: <\u001b[36mhttps://dvc.org/doc\u001b[39m>\n",
            "- Get help and share ideas: <\u001b[36mhttps://dvc.org/chat\u001b[39m>\n",
            "- Star us on GitHub: <\u001b[36mhttps://github.com/iterative/dvc\u001b[39m>\n",
            "\u001b[0m"
          ]
        }
      ]
    },
    {
      "cell_type": "code",
      "source": [
        "!ls -al"
      ],
      "metadata": {
        "colab": {
          "base_uri": "https://localhost:8080/"
        },
        "id": "7LdxIQSQtDws",
        "outputId": "7e09a721-ab64-4790-debd-6df8b23570e6"
      },
      "execution_count": 12,
      "outputs": [
        {
          "output_type": "stream",
          "name": "stdout",
          "text": [
            "total 20\n",
            "drwxr-xr-x 4 root root 4096 Nov  9 19:09 .\n",
            "drwxr-xr-x 1 root root 4096 Nov  9 19:07 ..\n",
            "drwxr-xr-x 3 root root 4096 Nov  9 19:09 .dvc\n",
            "-rw-r--r-- 1 root root  139 Nov  9 19:09 .dvcignore\n",
            "drwxr-xr-x 7 root root 4096 Nov  9 19:09 .git\n"
          ]
        }
      ]
    },
    {
      "cell_type": "code",
      "source": [
        "# estado del proyecto de git\n",
        "!git status"
      ],
      "metadata": {
        "colab": {
          "base_uri": "https://localhost:8080/"
        },
        "id": "zJiSDwlttDkQ",
        "outputId": "2a8f2ad4-fdef-4143-da64-8fc575ac7465"
      },
      "execution_count": 13,
      "outputs": [
        {
          "output_type": "stream",
          "name": "stdout",
          "text": [
            "On branch master\n",
            "\n",
            "No commits yet\n",
            "\n",
            "Changes to be committed:\n",
            "  (use \"git rm --cached <file>...\" to unstage)\n",
            "\t\u001b[32mnew file:   .dvc/.gitignore\u001b[m\n",
            "\t\u001b[32mnew file:   .dvc/config\u001b[m\n",
            "\t\u001b[32mnew file:   .dvcignore\u001b[m\n",
            "\n"
          ]
        }
      ]
    },
    {
      "cell_type": "code",
      "source": [
        "!git add ."
      ],
      "metadata": {
        "id": "XboXAbL3to20"
      },
      "execution_count": 14,
      "outputs": []
    },
    {
      "cell_type": "code",
      "source": [
        "!git commit -m \"Inicialización del repositorio de dvc\""
      ],
      "metadata": {
        "colab": {
          "base_uri": "https://localhost:8080/"
        },
        "id": "tCtU1mFktPWH",
        "outputId": "5e850be5-a566-4449-d7b5-3dd637eb44e0"
      },
      "execution_count": 15,
      "outputs": [
        {
          "output_type": "stream",
          "name": "stdout",
          "text": [
            "[master (root-commit) ce236ec] Inicialización del repositorio de dvc\n",
            " 3 files changed, 6 insertions(+)\n",
            " create mode 100644 .dvc/.gitignore\n",
            " create mode 100644 .dvc/config\n",
            " create mode 100644 .dvcignore\n"
          ]
        }
      ]
    },
    {
      "cell_type": "code",
      "source": [
        "!git status"
      ],
      "metadata": {
        "colab": {
          "base_uri": "https://localhost:8080/"
        },
        "id": "l9AVXGc4tT3q",
        "outputId": "91053ecb-cd11-4ee4-ed09-1c956a892473"
      },
      "execution_count": 16,
      "outputs": [
        {
          "output_type": "stream",
          "name": "stdout",
          "text": [
            "On branch master\n",
            "nothing to commit, working tree clean\n"
          ]
        }
      ]
    },
    {
      "cell_type": "code",
      "source": [
        "#crear carpetas\n",
        "data_folder = f\"{git_folder}/dataset\"\n",
        "!mkdir -p {data_folder}\n",
        "raw_folder = f\"{data_folder}/raw\"\n",
        "!mkdir -p {raw_folder}"
      ],
      "metadata": {
        "id": "QLIwSM7dsQ8M"
      },
      "execution_count": 17,
      "outputs": []
    },
    {
      "cell_type": "code",
      "source": [
        "!dvc add {raw_folder}"
      ],
      "metadata": {
        "colab": {
          "base_uri": "https://localhost:8080/"
        },
        "id": "uNlE18URVsN-",
        "outputId": "76de670e-f5c1-45eb-d04b-330a0b175329"
      },
      "execution_count": 19,
      "outputs": [
        {
          "output_type": "stream",
          "name": "stdout",
          "text": [
            "\u001b[?25l\u001b[32m⠋\u001b[0m Checking graph\n",
            "Adding...:   0% 0/1 [00:00<?, ?file/s{'info': ''}]\n",
            "!\u001b[A\n",
            "          |0.00 [00:00,     ?file/s]\u001b[A\n",
            "                                    \u001b[A\n",
            "!\u001b[A\n",
            "  0% |          |0/? [00:00<?,    ?files/s]\u001b[A\n",
            "                                           \u001b[A\n",
            "!\u001b[A\n",
            "Checking out /content/tp3_HdS/dataset/raw          |0.00 [00:00,    ?files/s]\u001b[A\n",
            "Adding...: 100% 1/1 [00:00<00:00, 14.05file/s{'info': ''}]\n",
            "\n",
            "To track the changes with git, run:\n",
            "\n",
            "\tgit add dataset/raw.dvc dataset/.gitignore\n",
            "\n",
            "To enable auto staging, run:\n",
            "\n",
            "\tdvc config core.autostage true\n",
            "\u001b[0m"
          ]
        }
      ]
    },
    {
      "cell_type": "code",
      "source": [
        "!cat dataset/.gitignore"
      ],
      "metadata": {
        "colab": {
          "base_uri": "https://localhost:8080/"
        },
        "id": "-qLveGdfWXxW",
        "outputId": "ce16f300-bc2f-47f8-f3ac-ffe69b4cd704"
      },
      "execution_count": 21,
      "outputs": [
        {
          "output_type": "stream",
          "name": "stdout",
          "text": [
            "/raw\n"
          ]
        }
      ]
    },
    {
      "cell_type": "code",
      "source": [
        "! git status"
      ],
      "metadata": {
        "colab": {
          "base_uri": "https://localhost:8080/"
        },
        "id": "ls3Hb1UoSufJ",
        "outputId": "92fdfe9c-c160-4e6c-ee0f-eaf711e68749"
      },
      "execution_count": 25,
      "outputs": [
        {
          "output_type": "stream",
          "name": "stdout",
          "text": [
            "On branch master\n",
            "Changes to be committed:\n",
            "  (use \"git restore --staged <file>...\" to unstage)\n",
            "\t\u001b[32mnew file:   dataset/.gitignore\u001b[m\n",
            "\t\u001b[32mnew file:   dataset/raw.dvc\u001b[m\n",
            "\n"
          ]
        }
      ]
    },
    {
      "cell_type": "code",
      "source": [
        "!git add dataset/raw.dvc dataset/.gitignore"
      ],
      "metadata": {
        "id": "WhtInIesWLtO"
      },
      "execution_count": 23,
      "outputs": []
    },
    {
      "cell_type": "code",
      "source": [
        "!cat dataset/.gitignore"
      ],
      "metadata": {
        "colab": {
          "base_uri": "https://localhost:8080/"
        },
        "id": "5FA1XQGBWvgN",
        "outputId": "8779831b-eeed-4257-daa8-83df65995417"
      },
      "execution_count": 24,
      "outputs": [
        {
          "output_type": "stream",
          "name": "stdout",
          "text": [
            "/raw\n"
          ]
        }
      ]
    },
    {
      "cell_type": "code",
      "source": [
        "#copiar imagenes del sitio de descarga a la carpeta raw\n",
        "path_imagenes = '/content/output_folder/Chessman-image-dataset-Bishop/Chess/Bishop/*'\n",
        "!cp {path_imagenes} {raw_folder}\n"
      ],
      "metadata": {
        "id": "KOPSzWTQS9gk"
      },
      "execution_count": 26,
      "outputs": []
    },
    {
      "cell_type": "code",
      "source": [
        "! git status"
      ],
      "metadata": {
        "colab": {
          "base_uri": "https://localhost:8080/"
        },
        "id": "FCj2Yz0cWLpS",
        "outputId": "a5d9687e-6076-4262-9a85-8fb504fd4c17"
      },
      "execution_count": 27,
      "outputs": [
        {
          "output_type": "stream",
          "name": "stdout",
          "text": [
            "On branch master\n",
            "Changes to be committed:\n",
            "  (use \"git restore --staged <file>...\" to unstage)\n",
            "\t\u001b[32mnew file:   dataset/.gitignore\u001b[m\n",
            "\t\u001b[32mnew file:   dataset/raw.dvc\u001b[m\n",
            "\n"
          ]
        }
      ]
    },
    {
      "cell_type": "code",
      "source": [
        "!git add ."
      ],
      "metadata": {
        "id": "bbVxAEsksEDW"
      },
      "execution_count": 28,
      "outputs": []
    },
    {
      "cell_type": "code",
      "source": [
        "!git commit -m \"creación de carpetas y parametros dvc\""
      ],
      "metadata": {
        "colab": {
          "base_uri": "https://localhost:8080/"
        },
        "id": "K3VqUqj8S7E5",
        "outputId": "a321d98f-3598-4f44-8723-d41623bde5eb"
      },
      "execution_count": 29,
      "outputs": [
        {
          "output_type": "stream",
          "name": "stdout",
          "text": [
            "[master 2e48199] creación de carpetas y parametros dvc\n",
            " 2 files changed, 7 insertions(+)\n",
            " create mode 100644 dataset/.gitignore\n",
            " create mode 100644 dataset/raw.dvc\n"
          ]
        }
      ]
    },
    {
      "cell_type": "code",
      "source": [
        "!git status"
      ],
      "metadata": {
        "colab": {
          "base_uri": "https://localhost:8080/"
        },
        "id": "l9fByB5yT_7X",
        "outputId": "f8edb0b1-e9f4-41be-e236-617e7b062bac"
      },
      "execution_count": 30,
      "outputs": [
        {
          "output_type": "stream",
          "name": "stdout",
          "text": [
            "On branch master\n",
            "nothing to commit, working tree clean\n"
          ]
        }
      ]
    },
    {
      "cell_type": "code",
      "source": [
        "!dvc status"
      ],
      "metadata": {
        "colab": {
          "base_uri": "https://localhost:8080/"
        },
        "id": "iBv-YRokWLmG",
        "outputId": "42a801c4-8f87-4a8f-b858-815c5c280a93"
      },
      "execution_count": 31,
      "outputs": [
        {
          "output_type": "stream",
          "name": "stdout",
          "text": [
            "\r!\rIf DVC froze, see `hardlink_lock` in <\u001b[36mhttps://man.dvc.org/config#core\u001b[39m>\r                                                                      \r\r!\r          |0.00 [00:00,     ?file/s]\r                                    \rdataset/raw.dvc:\n",
            "\tchanged outs:\n",
            "\t\tmodified:           dataset/raw\n",
            "\u001b[0m"
          ]
        }
      ]
    },
    {
      "cell_type": "markdown",
      "metadata": {
        "id": "9b9-F7m2DeHP"
      },
      "source": [
        "\n",
        "## Punto 3\n",
        "\n",
        "Tomar las imágenes del directorio `dataset/raw` y unificar la resolución de las imágenes para que sea `800x600`. Las nuevas imágenes deben quedar almacenadar en `dataset/resize`. Solo tomar las imágenes válidas. El directorio `resize` debe ser traceado por dvc.\n",
        "\n",
        "Escribir los pasos necesarios para el traceo del dataset y hacer los commit correspondientes y pushear dvc.\n"
      ]
    },
    {
      "cell_type": "code",
      "execution_count": 32,
      "metadata": {
        "id": "1zz7dkiDMGxD",
        "colab": {
          "base_uri": "https://localhost:8080/"
        },
        "outputId": "f44cd15e-4b57-4354-8220-a67ce3a188bb"
      },
      "outputs": [
        {
          "output_type": "stream",
          "name": "stdout",
          "text": [
            "Imagen procesada y redimensionada: 00000169.jpg\n",
            "Imagen procesada y redimensionada: 00000112.jpg\n",
            "Imagen procesada y redimensionada: 00000068.png\n",
            "Imagen procesada y redimensionada: 00000020.jpg\n",
            "Imagen procesada y redimensionada: 00000117.jpg\n",
            "Imagen procesada y redimensionada: 00000113.png\n",
            "Imagen procesada y redimensionada: 00000088.jpg\n",
            "Imagen procesada y redimensionada: 00000121.jpg\n",
            "Imagen procesada y redimensionada: 00000189.jpg\n",
            "Imagen procesada y redimensionada: 00000149.jpg\n",
            "Imagen procesada y redimensionada: 00000126.jpg\n",
            "Imagen procesada y redimensionada: 00000078.jpg\n",
            "Imagen procesada y redimensionada: 00000193.jpg\n",
            "Imagen procesada y redimensionada: 00000071.png\n",
            "Imagen procesada y redimensionada: 00000015.png\n",
            "Imagen procesada y redimensionada: 00000150.png\n",
            "Imagen procesada y redimensionada: 00000044.png\n",
            "Imagen procesada y redimensionada: 00000158.jpg\n",
            "Imagen procesada y redimensionada: 00000042.jpg\n",
            "Imagen procesada y redimensionada: 00000003.png\n",
            "Imagen procesada y redimensionada: 00000110.jpg\n",
            "Imagen procesada y redimensionada: 00000016.jpg\n",
            "Imagen procesada y redimensionada: 00000013.jpg\n",
            "Imagen procesada y redimensionada: 00000070.jpg\n",
            "Imagen procesada y redimensionada: 00000129.jpg\n",
            "Imagen procesada y redimensionada: 00000009.png\n",
            "Imagen procesada y redimensionada: 00000195.jpg\n",
            "Imagen procesada y redimensionada: 00000026.jpg\n",
            "Imagen procesada y redimensionada: 00000182.jpg\n",
            "Imagen procesada y redimensionada: 00000145.jpg\n",
            "Archivo GIF excluido: 00000095.gif\n",
            "Imagen procesada y redimensionada: 00000199.jpg\n",
            "Imagen procesada y redimensionada: 00000010.jpg\n",
            "Imagen procesada y redimensionada: 00000018.jpg\n",
            "Imagen procesada y redimensionada: 00000186.jpg\n",
            "Imagen procesada y redimensionada: 00000174.jpg\n",
            "Imagen procesada y redimensionada: 00000081.jpg\n",
            "Imagen procesada y redimensionada: 00000006.jpg\n",
            "Imagen procesada y redimensionada: 00000192.jpg\n",
            "Imagen procesada y redimensionada: 00000089.jpg\n",
            "Imagen procesada y redimensionada: 00000114.jpg\n",
            "Imagen procesada y redimensionada: 00000002.JPG\n",
            "Imagen procesada y redimensionada: 00000019.jpg\n",
            "Imagen procesada y redimensionada: 00000177.jpg\n",
            "Imagen procesada y redimensionada: 00000066.jpg\n",
            "Imagen procesada y redimensionada: 00000115.jpg\n",
            "Imagen procesada y redimensionada: 00000127.jpg\n",
            "Imagen procesada y redimensionada: 00000167.jpg\n",
            "Imagen procesada y redimensionada: 00000094.jpg\n",
            "Imagen procesada y redimensionada: 00000079.jpg\n",
            "Imagen procesada y redimensionada: 00000151.png\n",
            "Imagen procesada y redimensionada: 00000062.jpg\n",
            "Imagen procesada y redimensionada: 00000092.jpg\n",
            "Imagen procesada y redimensionada: 00000017.jpg\n",
            "Imagen procesada y redimensionada: 00000102.jpg\n",
            "Imagen procesada y redimensionada: 00000136.png\n",
            "Imagen procesada y redimensionada: 00000138.jpg\n",
            "Imagen procesada y redimensionada: 00000188.jpg\n",
            "Imagen procesada y redimensionada: 00000025.jpg\n",
            "Imagen procesada y redimensionada: 00000028.jpg\n",
            "Imagen procesada y redimensionada: 00000194.jpg\n",
            "Imagen procesada y redimensionada: 00000054.jpeg\n",
            "Imagen procesada y redimensionada: 00000082.jpg\n",
            "Imagen procesada y redimensionada: 00000008.jpg\n",
            "Imagen procesada y redimensionada: 00000075.jpg\n",
            "Imagen procesada y redimensionada: 00000031.jpg\n",
            "Imagen procesada y redimensionada: 00000037.jpg\n",
            "Imagen procesada y redimensionada: 00000004.jpg\n",
            "Imagen procesada y redimensionada: 00000024.jpg\n",
            "Imagen procesada y redimensionada: 00000012.jpg\n",
            "Imagen procesada y redimensionada: 00000007.jpg\n",
            "Imagen procesada y redimensionada: 00000178.jpg\n",
            "Imagen procesada y redimensionada: 00000011.jpg\n",
            "Imagen procesada y redimensionada: 00000103.jpg\n",
            "Imagen procesada y redimensionada: 00000168.jpg\n",
            "Imagen procesada y redimensionada: 00000109.jpg\n",
            "Imagen procesada y redimensionada: 00000034.jpg\n",
            "Imagen procesada y redimensionada: 00000001.jpg\n",
            "Imagen procesada y redimensionada: 00000039.jpg\n",
            "Imagen procesada y redimensionada: 00000061.jpg\n",
            "Imagen procesada y redimensionada: 00000120.jpg\n",
            "Imagen procesada y redimensionada: 00000130.png\n",
            "Imagen procesada y redimensionada: 00000049.jpg\n",
            "Imagen procesada y redimensionada: 00000175.jpg\n",
            "Imagen procesada y redimensionada: 00000086.png\n",
            "Imagen procesada y redimensionada: 00000074.jpg\n",
            "Imagen procesada y redimensionada: 00000000.JPG\n"
          ]
        }
      ],
      "source": [
        "from PIL import Image\n",
        "import os\n",
        "\n",
        "def resize_images(input_dir, output_dir, target_size):\n",
        "    \"\"\"\n",
        "    Redimensiona todas las imágenes en input_dir a target_size,\n",
        "    y las guarda en output_dir excluyendo archivos GIF.\n",
        "\n",
        "    Parameters:\n",
        "    - input_dir (str): Directorio de entrada donde se encuentran las imágenes originales.\n",
        "    - output_dir (str): Directorio de salida donde se guardarán las imágenes redimensionadas.\n",
        "    - target_size (tuple): Tamaño objetivo en píxeles (ancho, alto).\n",
        "    \"\"\"\n",
        "\n",
        "    # Asegurarse de que el directorio de salida existe\n",
        "    os.makedirs(output_dir, exist_ok=True)\n",
        "\n",
        "    # Procesar cada archivo en el directorio de entrada\n",
        "    for filename in os.listdir(input_dir):\n",
        "        file_path = os.path.join(input_dir, filename)\n",
        "\n",
        "        # Ignorar archivos GIF\n",
        "        if filename.lower().endswith('.gif'):\n",
        "            print(f\"Archivo GIF excluido: {filename}\")\n",
        "            continue\n",
        "\n",
        "        try:\n",
        "            with Image.open(file_path) as img:\n",
        "                # Redimensionar la imagen y guardarla en el directorio de salida\n",
        "                img = img.resize(target_size)\n",
        "                img.save(os.path.join(output_dir, filename))\n",
        "            print(f\"Imagen procesada y redimensionada: {filename}\")\n",
        "        except Exception as e:\n",
        "            print(f\"Archivo no válido o dañado, no se procesó: {filename}, Error: {e}\")\n",
        "\n",
        "# Ejemplo de uso\n",
        "resize_images(\"dataset/raw\", \"dataset/resize\", (800, 600))\n"
      ]
    },
    {
      "cell_type": "code",
      "source": [
        "!dvc add dataset/resize"
      ],
      "metadata": {
        "colab": {
          "base_uri": "https://localhost:8080/"
        },
        "id": "d3Uc4pKVbM8X",
        "outputId": "0f72eb6d-6412-4053-f6ba-f5468480d92f"
      },
      "execution_count": 33,
      "outputs": [
        {
          "output_type": "stream",
          "name": "stdout",
          "text": [
            "\u001b[?25l\u001b[32m⠋\u001b[0m Checking graph\n",
            "Adding...:   0% 0/1 [00:00<?, ?file/s{'info': ''}]\n",
            "!\u001b[A\n",
            "          |0.00 [00:00,     ?file/s]\u001b[A\n",
            "                                    \u001b[A\n",
            "!\u001b[A\n",
            "  0% |          |0/? [00:00<?,    ?files/s]\u001b[A\n",
            "                                           \u001b[A\n",
            "Adding dataset/resize to cache:   0% 0/86 [00:00<?, ?file/s]\u001b[A\n",
            "Adding dataset/resize to cache:   0% 0/86 [00:00<?, ?file/s{'info': ''}]\u001b[A\n",
            "                                                                        \u001b[A\n",
            "!\u001b[A\n",
            "Checking out /content/tp3_HdS/dataset/resize          |0.00 [00:00,    ?files/s]\u001b[A\n",
            "Adding...: 100% 1/1 [00:00<00:00,  9.36file/s{'info': ''}]\n",
            "\n",
            "To track the changes with git, run:\n",
            "\n",
            "\tgit add dataset/resize.dvc dataset/.gitignore\n",
            "\n",
            "To enable auto staging, run:\n",
            "\n",
            "\tdvc config core.autostage true\n",
            "\u001b[0m"
          ]
        }
      ]
    },
    {
      "cell_type": "code",
      "source": [
        "!git status"
      ],
      "metadata": {
        "colab": {
          "base_uri": "https://localhost:8080/"
        },
        "id": "RTQhg-mbbRz4",
        "outputId": "53dc3fe7-42ce-4122-9977-6ae180d0036e"
      },
      "execution_count": 34,
      "outputs": [
        {
          "output_type": "stream",
          "name": "stdout",
          "text": [
            "On branch master\n",
            "Changes not staged for commit:\n",
            "  (use \"git add <file>...\" to update what will be committed)\n",
            "  (use \"git restore <file>...\" to discard changes in working directory)\n",
            "\t\u001b[31mmodified:   dataset/.gitignore\u001b[m\n",
            "\n",
            "Untracked files:\n",
            "  (use \"git add <file>...\" to include in what will be committed)\n",
            "\t\u001b[31mdataset/resize.dvc\u001b[m\n",
            "\n",
            "no changes added to commit (use \"git add\" and/or \"git commit -a\")\n"
          ]
        }
      ]
    },
    {
      "cell_type": "code",
      "source": [
        "!git add .\n",
        "!git commit -m \"Añadir imágenes redimensionadas excluyendo GIF, rastreadas por DVC\""
      ],
      "metadata": {
        "colab": {
          "base_uri": "https://localhost:8080/"
        },
        "id": "HdBDYM4FbWUK",
        "outputId": "27ff4295-447a-419b-d572-b588669ff425"
      },
      "execution_count": 35,
      "outputs": [
        {
          "output_type": "stream",
          "name": "stdout",
          "text": [
            "[master d48583d] Añadir imágenes redimensionadas excluyendo GIF, rastreadas por DVC\n",
            " 2 files changed, 7 insertions(+)\n",
            " create mode 100644 dataset/resize.dvc\n"
          ]
        }
      ]
    },
    {
      "cell_type": "code",
      "source": [
        "!git status"
      ],
      "metadata": {
        "colab": {
          "base_uri": "https://localhost:8080/"
        },
        "id": "DG0lpdISbaAD",
        "outputId": "e66a806a-fd6a-4497-bf61-0e30ad18ca05"
      },
      "execution_count": 36,
      "outputs": [
        {
          "output_type": "stream",
          "name": "stdout",
          "text": [
            "On branch master\n",
            "nothing to commit, working tree clean\n"
          ]
        }
      ]
    },
    {
      "cell_type": "code",
      "source": [
        "!cat dataset/.gitignore"
      ],
      "metadata": {
        "colab": {
          "base_uri": "https://localhost:8080/"
        },
        "id": "pndekodlbeGn",
        "outputId": "711e44e7-d6bb-43c8-cd81-daafeff95dea"
      },
      "execution_count": 37,
      "outputs": [
        {
          "output_type": "stream",
          "name": "stdout",
          "text": [
            "/raw\n",
            "/resize\n"
          ]
        }
      ]
    },
    {
      "cell_type": "code",
      "source": [
        "from google.colab import drive"
      ],
      "metadata": {
        "id": "2boWpdtAb6HC"
      },
      "execution_count": 38,
      "outputs": []
    },
    {
      "cell_type": "code",
      "source": [
        "# montamos nuestro drive\n",
        "drive.mount(\"/content/drive\")"
      ],
      "metadata": {
        "colab": {
          "base_uri": "https://localhost:8080/"
        },
        "id": "bvldqQ6lcCqY",
        "outputId": "ca91b873-c793-48cd-b1bc-550a286f050a"
      },
      "execution_count": 39,
      "outputs": [
        {
          "output_type": "stream",
          "name": "stdout",
          "text": [
            "Mounted at /content/drive\n"
          ]
        }
      ]
    },
    {
      "cell_type": "code",
      "source": [
        "# crear carpeta repo\n",
        "dvc_folder=\"/content/drive/MyDrive/dvc/ugr-lcc-tp3_HdS\"\n",
        "!mkdir -p {dvc_folder}"
      ],
      "metadata": {
        "id": "6cRJ1bvpcZc3"
      },
      "execution_count": 40,
      "outputs": []
    },
    {
      "cell_type": "code",
      "source": [
        "!dvc remote list"
      ],
      "metadata": {
        "colab": {
          "base_uri": "https://localhost:8080/"
        },
        "id": "sl5hTPFVcueX",
        "outputId": "5702f22e-d385-448e-9954-17ad1fe81608"
      },
      "execution_count": 41,
      "outputs": [
        {
          "output_type": "stream",
          "name": "stdout",
          "text": [
            "\u001b[0m"
          ]
        }
      ]
    },
    {
      "cell_type": "code",
      "source": [
        "!dvc remote add --force origin_local {dvc_folder}"
      ],
      "metadata": {
        "colab": {
          "base_uri": "https://localhost:8080/"
        },
        "id": "KXVyVxxkcv7g",
        "outputId": "2427667c-3853-41b4-e440-79a03817bac8"
      },
      "execution_count": 42,
      "outputs": [
        {
          "output_type": "stream",
          "name": "stdout",
          "text": [
            "\u001b[0m"
          ]
        }
      ]
    },
    {
      "cell_type": "code",
      "source": [
        "!dvc remote list"
      ],
      "metadata": {
        "colab": {
          "base_uri": "https://localhost:8080/"
        },
        "id": "inNzrnRicx3Q",
        "outputId": "a579d5bc-b276-4b73-c4ac-ccba0a71d9e8"
      },
      "execution_count": 43,
      "outputs": [
        {
          "output_type": "stream",
          "name": "stdout",
          "text": [
            "origin_local\t/content/drive/MyDrive/dvc/ugr-lcc-tp3_HdS\n",
            "\u001b[0m"
          ]
        }
      ]
    },
    {
      "cell_type": "code",
      "source": [
        "# verificamos el estado de git\n",
        "!git status"
      ],
      "metadata": {
        "colab": {
          "base_uri": "https://localhost:8080/"
        },
        "id": "IrKXsd85c1yd",
        "outputId": "22d5e7c2-53e4-4fce-84ee-7a1d36bade4a"
      },
      "execution_count": 44,
      "outputs": [
        {
          "output_type": "stream",
          "name": "stdout",
          "text": [
            "On branch master\n",
            "Changes not staged for commit:\n",
            "  (use \"git add <file>...\" to update what will be committed)\n",
            "  (use \"git restore <file>...\" to discard changes in working directory)\n",
            "\t\u001b[31mmodified:   .dvc/config\u001b[m\n",
            "\n",
            "no changes added to commit (use \"git add\" and/or \"git commit -a\")\n"
          ]
        }
      ]
    },
    {
      "cell_type": "code",
      "source": [
        "# agregamos el archivo\n",
        "!git add .dvc/config\n",
        "# realizamos el commit\n",
        "!git commit -m \"Se agregó el remote a dvc\""
      ],
      "metadata": {
        "colab": {
          "base_uri": "https://localhost:8080/"
        },
        "id": "6D08l4aVc3C-",
        "outputId": "8ffbcbca-f1dd-4ce6-9bd8-1878194cfd56"
      },
      "execution_count": 45,
      "outputs": [
        {
          "output_type": "stream",
          "name": "stdout",
          "text": [
            "[master 1f3af26] Se agregó el remote a dvc\n",
            " 1 file changed, 2 insertions(+)\n"
          ]
        }
      ]
    },
    {
      "cell_type": "code",
      "source": [
        "# verificamos el estado de git\n",
        "!git status"
      ],
      "metadata": {
        "colab": {
          "base_uri": "https://localhost:8080/"
        },
        "id": "syU_Ki4bdN0n",
        "outputId": "9f103dbc-cb14-483a-f06b-3f3a9ae929f8"
      },
      "execution_count": 48,
      "outputs": [
        {
          "output_type": "stream",
          "name": "stdout",
          "text": [
            "On branch master\n",
            "nothing to commit, working tree clean\n"
          ]
        }
      ]
    },
    {
      "cell_type": "code",
      "source": [
        "!dvc push --remote origin_local"
      ],
      "metadata": {
        "colab": {
          "base_uri": "https://localhost:8080/"
        },
        "id": "2DDkgFhUc6VU",
        "outputId": "1870636c-98ac-4a5c-8b70-2a27446552ca"
      },
      "execution_count": 46,
      "outputs": [
        {
          "output_type": "stream",
          "name": "stdout",
          "text": [
            "Collecting          |88.0 [00:00,  208entry/s]\n",
            "Pushing\n",
            "Querying remote cache:   0% 0/2 [00:00<?, ?files/s]\u001b[A\n",
            "Querying remote cache:   0% 0/2 [00:00<?, ?files/s{'info': ''}]\u001b[A\n",
            "                                                               \u001b[A\n",
            "!\u001b[A\n",
            "  0% |          |0/? [00:00<?,    ?files/s]\u001b[A\n",
            "                                           \u001b[A\n",
            "!\u001b[A\n",
            "  0% |          |0/? [00:00<?,    ?files/s]\u001b[A\n",
            "                                           \u001b[A\n",
            "Pushing to local:   0% 0/88 [00:00<?, ?file/s]\u001b[A\n",
            "Pushing to local:   0% 0/88 [00:00<?, ?file/s{'info': ''}]\u001b[A\n",
            "Pushing to local:   0% 0/86 [00:00<?, ?file/s{'info': ''}]\u001b[A\n",
            "Pushing to local:   6% 5/86 [00:00<00:01, 43.71file/s{'info': ''}]\u001b[A\n",
            "Pushing to local:  12% 10/86 [00:00<00:01, 47.17file/s{'info': ''}]\u001b[A\n",
            "Pushing to local:  19% 16/86 [00:00<00:01, 52.78file/s{'info': ''}]\u001b[A\n",
            "Pushing to local:  24% 21/86 [00:00<00:01, 50.71file/s{'info': ''}]\u001b[A\n",
            "Pushing to local:  30% 26/86 [00:00<00:01, 49.02file/s{'info': ''}]\u001b[A\n",
            "Pushing to local:  37% 32/86 [00:00<00:01, 47.53file/s{'info': ''}]\u001b[A\n",
            "Pushing to local:  45% 39/86 [00:01<00:00, 49.11file/s{'info': ''}]\u001b[A\n",
            "Pushing to local:  52% 45/86 [00:01<00:00, 51.46file/s{'info': ''}]\u001b[A\n",
            "Pushing to local:  59% 51/86 [00:01<00:00, 50.57file/s{'info': ''}]\u001b[A\n",
            "Pushing to local:  66% 57/86 [00:01<00:00, 50.19file/s{'info': ''}]\u001b[A\n",
            "Pushing to local:  72% 62/86 [00:01<00:00, 49.15file/s{'info': ''}]\u001b[A\n",
            "Pushing to local:  78% 67/86 [00:01<00:00, 48.67file/s{'info': ''}]\u001b[A\n",
            "Pushing to local:  85% 73/86 [00:01<00:00, 50.64file/s{'info': ''}]\u001b[A\n",
            "Pushing to local:  92% 79/86 [00:01<00:00, 48.67file/s{'info': ''}]\u001b[A\n",
            "Pushing to local:  98% 84/86 [00:01<00:00, 48.20file/s{'info': ''}]\u001b[A\n",
            "Pushing\n",
            "88 files pushed\n",
            "\u001b[0m"
          ]
        }
      ]
    },
    {
      "cell_type": "code",
      "source": [
        "# listamos para ver el/los archivos que genero dvc\n",
        "!ls -alR {dvc_folder}"
      ],
      "metadata": {
        "colab": {
          "base_uri": "https://localhost:8080/"
        },
        "id": "O_ujIXYndE_u",
        "outputId": "55f12e35-04dc-4736-b0ff-4558fc2d6f04"
      },
      "execution_count": 47,
      "outputs": [
        {
          "output_type": "stream",
          "name": "stdout",
          "text": [
            "/content/drive/MyDrive/dvc/ugr-lcc-tp3_HdS:\n",
            "total 4\n",
            "drwx------ 3 root root 4096 Nov  9 19:43 files\n",
            "\n",
            "/content/drive/MyDrive/dvc/ugr-lcc-tp3_HdS/files:\n",
            "total 4\n",
            "drwx------ 79 root root 4096 Nov  9 19:43 md5\n",
            "\n",
            "/content/drive/MyDrive/dvc/ugr-lcc-tp3_HdS/files/md5:\n",
            "total 308\n",
            "drwx------ 2 root root 4096 Nov  9 19:43 00\n",
            "drwx------ 2 root root 4096 Nov  9 19:43 0a\n",
            "drwx------ 2 root root 4096 Nov  9 19:43 0f\n",
            "drwx------ 2 root root 4096 Nov  9 19:43 12\n",
            "drwx------ 2 root root 4096 Nov  9 19:43 16\n",
            "drwx------ 2 root root 4096 Nov  9 19:43 1d\n",
            "drwx------ 2 root root 4096 Nov  9 19:43 1e\n",
            "drwx------ 2 root root 4096 Nov  9 19:43 22\n",
            "drwx------ 2 root root 4096 Nov  9 19:43 23\n",
            "drwx------ 2 root root 4096 Nov  9 19:43 24\n",
            "drwx------ 2 root root 4096 Nov  9 19:43 27\n",
            "drwx------ 2 root root 4096 Nov  9 19:43 33\n",
            "drwx------ 2 root root 4096 Nov  9 19:43 36\n",
            "drwx------ 2 root root 4096 Nov  9 19:43 38\n",
            "drwx------ 2 root root 4096 Nov  9 19:43 3b\n",
            "drwx------ 2 root root 4096 Nov  9 19:43 3f\n",
            "drwx------ 2 root root 4096 Nov  9 19:43 41\n",
            "drwx------ 2 root root 4096 Nov  9 19:43 43\n",
            "drwx------ 2 root root 4096 Nov  9 19:43 44\n",
            "drwx------ 2 root root 4096 Nov  9 19:43 45\n",
            "drwx------ 2 root root 4096 Nov  9 19:43 47\n",
            "drwx------ 2 root root 4096 Nov  9 19:43 48\n",
            "drwx------ 2 root root 4096 Nov  9 19:43 57\n",
            "drwx------ 2 root root 4096 Nov  9 19:43 59\n",
            "drwx------ 2 root root 4096 Nov  9 19:43 5a\n",
            "drwx------ 2 root root 4096 Nov  9 19:43 5b\n",
            "drwx------ 2 root root 4096 Nov  9 19:43 5c\n",
            "drwx------ 2 root root 4096 Nov  9 19:43 5e\n",
            "drwx------ 2 root root 4096 Nov  9 19:43 61\n",
            "drwx------ 2 root root 4096 Nov  9 19:43 65\n",
            "drwx------ 2 root root 4096 Nov  9 19:43 66\n",
            "drwx------ 2 root root 4096 Nov  9 19:43 6a\n",
            "drwx------ 2 root root 4096 Nov  9 19:43 6b\n",
            "drwx------ 2 root root 4096 Nov  9 19:43 6e\n",
            "drwx------ 2 root root 4096 Nov  9 19:43 6f\n",
            "drwx------ 2 root root 4096 Nov  9 19:43 80\n",
            "drwx------ 2 root root 4096 Nov  9 19:43 83\n",
            "drwx------ 2 root root 4096 Nov  9 19:43 84\n",
            "drwx------ 2 root root 4096 Nov  9 19:43 88\n",
            "drwx------ 2 root root 4096 Nov  9 19:43 8d\n",
            "drwx------ 2 root root 4096 Nov  9 19:43 8f\n",
            "drwx------ 2 root root 4096 Nov  9 19:43 90\n",
            "drwx------ 2 root root 4096 Nov  9 19:43 92\n",
            "drwx------ 2 root root 4096 Nov  9 19:43 94\n",
            "drwx------ 2 root root 4096 Nov  9 19:43 98\n",
            "drwx------ 2 root root 4096 Nov  9 19:43 9e\n",
            "drwx------ 2 root root 4096 Nov  9 19:43 9f\n",
            "drwx------ 2 root root 4096 Nov  9 19:43 a2\n",
            "drwx------ 2 root root 4096 Nov  9 19:43 a5\n",
            "drwx------ 2 root root 4096 Nov  9 19:43 b3\n",
            "drwx------ 2 root root 4096 Nov  9 19:43 b5\n",
            "drwx------ 2 root root 4096 Nov  9 19:43 b7\n",
            "drwx------ 2 root root 4096 Nov  9 19:43 bb\n",
            "drwx------ 2 root root 4096 Nov  9 19:43 bd\n",
            "drwx------ 2 root root 4096 Nov  9 19:43 c0\n",
            "drwx------ 2 root root 4096 Nov  9 19:43 c1\n",
            "drwx------ 2 root root 4096 Nov  9 19:43 c4\n",
            "drwx------ 2 root root 4096 Nov  9 19:43 c5\n",
            "drwx------ 2 root root 4096 Nov  9 19:43 cf\n",
            "drwx------ 2 root root 4096 Nov  9 19:43 d6\n",
            "drwx------ 2 root root 4096 Nov  9 19:43 d7\n",
            "drwx------ 2 root root 4096 Nov  9 19:43 da\n",
            "drwx------ 2 root root 4096 Nov  9 19:43 dd\n",
            "drwx------ 2 root root 4096 Nov  9 19:43 de\n",
            "drwx------ 2 root root 4096 Nov  9 19:43 df\n",
            "drwx------ 2 root root 4096 Nov  9 19:43 e1\n",
            "drwx------ 2 root root 4096 Nov  9 19:43 e4\n",
            "drwx------ 2 root root 4096 Nov  9 19:43 e5\n",
            "drwx------ 2 root root 4096 Nov  9 19:43 e7\n",
            "drwx------ 2 root root 4096 Nov  9 19:43 f1\n",
            "drwx------ 2 root root 4096 Nov  9 19:43 f3\n",
            "drwx------ 2 root root 4096 Nov  9 19:43 f4\n",
            "drwx------ 2 root root 4096 Nov  9 19:43 f7\n",
            "drwx------ 2 root root 4096 Nov  9 19:43 f9\n",
            "drwx------ 2 root root 4096 Nov  9 19:43 fa\n",
            "drwx------ 2 root root 4096 Nov  9 19:43 fb\n",
            "drwx------ 2 root root 4096 Nov  9 19:43 fc\n",
            "\n",
            "/content/drive/MyDrive/dvc/ugr-lcc-tp3_HdS/files/md5/00:\n",
            "total 85\n",
            "-r-------- 1 root root 86881 Nov  9 19:43 9a87c8446756b6a5cdc870e0b9f960\n",
            "\n",
            "/content/drive/MyDrive/dvc/ugr-lcc-tp3_HdS/files/md5/0a:\n",
            "total 15\n",
            "-r-------- 1 root root 14855 Nov  9 19:43 18da69ac28b5d0ee97e0ceb54b756c\n",
            "\n",
            "/content/drive/MyDrive/dvc/ugr-lcc-tp3_HdS/files/md5/0f:\n",
            "total 48\n",
            "-r-------- 1 root root 28621 Nov  9 19:43 82ea7a490b7ba124db6b12403c09cb\n",
            "-r-------- 1 root root 19987 Nov  9 19:43 b87c9c177fb2fb1c26b6ad31f724ae\n",
            "\n",
            "/content/drive/MyDrive/dvc/ugr-lcc-tp3_HdS/files/md5/12:\n",
            "total 40\n",
            "-r-------- 1 root root 28151 Nov  9 19:43 52404e5f95a601050d8482a1259648\n",
            "-r-------- 1 root root 11841 Nov  9 19:43 e50a97291c6bcb0050cfc9cb7d7d1c\n",
            "\n",
            "/content/drive/MyDrive/dvc/ugr-lcc-tp3_HdS/files/md5/16:\n",
            "total 24\n",
            "-r-------- 1 root root 24345 Nov  9 19:43 2f1ef4b6ce11dccc1eb58d739e888b\n",
            "\n",
            "/content/drive/MyDrive/dvc/ugr-lcc-tp3_HdS/files/md5/1d:\n",
            "total 23\n",
            "-r-------- 1 root root 23400 Nov  9 19:43 4536aa3fc8dca94dd1642ad3b32ddf\n",
            "\n",
            "/content/drive/MyDrive/dvc/ugr-lcc-tp3_HdS/files/md5/1e:\n",
            "total 41\n",
            "-r-------- 1 root root 41671 Nov  9 19:43 3aea0a792a46eff5ee049e70c2dafd\n",
            "\n",
            "/content/drive/MyDrive/dvc/ugr-lcc-tp3_HdS/files/md5/22:\n",
            "total 107\n",
            "-r-------- 1 root root 21891 Nov  9 19:43 38ec715959757ceb3b927418080311\n",
            "-r-------- 1 root root 86833 Nov  9 19:43 dd6b02d421610ebfaa7e57edcd06da\n",
            "\n",
            "/content/drive/MyDrive/dvc/ugr-lcc-tp3_HdS/files/md5/23:\n",
            "total 29\n",
            "-r-------- 1 root root 29345 Nov  9 19:43 1e7e1bfc24871381669c080785c663\n",
            "\n",
            "/content/drive/MyDrive/dvc/ugr-lcc-tp3_HdS/files/md5/24:\n",
            "total 22\n",
            "-r-------- 1 root root 22087 Nov  9 19:43 5f40ef9516497852541de5482574be\n",
            "\n",
            "/content/drive/MyDrive/dvc/ugr-lcc-tp3_HdS/files/md5/27:\n",
            "total 13\n",
            "-r-------- 1 root root 12510 Nov  9 19:43 bd5b25664f8e79696c24a51a4ab571\n",
            "\n",
            "/content/drive/MyDrive/dvc/ugr-lcc-tp3_HdS/files/md5/33:\n",
            "total 25\n",
            "-r-------- 1 root root 24731 Nov  9 19:43 13197bd53ff84ee88234e053eee289\n",
            "\n",
            "/content/drive/MyDrive/dvc/ugr-lcc-tp3_HdS/files/md5/36:\n",
            "total 108\n",
            "-r-------- 1 root root 109777 Nov  9 19:43 6c127d6b50d0c8665a26f1dd9cf8bf\n",
            "\n",
            "/content/drive/MyDrive/dvc/ugr-lcc-tp3_HdS/files/md5/38:\n",
            "total 152\n",
            "-r-------- 1 root root 154919 Nov  9 19:43 d93a44c37b95e349a34a45e0f7a5dd\n",
            "\n",
            "/content/drive/MyDrive/dvc/ugr-lcc-tp3_HdS/files/md5/3b:\n",
            "total 158\n",
            "-r-------- 1 root root 160862 Nov  9 19:43 1c2ab81c37a018e3c46ccda76aa5a0\n",
            "\n",
            "/content/drive/MyDrive/dvc/ugr-lcc-tp3_HdS/files/md5/3f:\n",
            "total 28\n",
            "-r-------- 1 root root 28376 Nov  9 19:43 18d812ce7170202276688a06dfb1ea\n",
            "\n",
            "/content/drive/MyDrive/dvc/ugr-lcc-tp3_HdS/files/md5/41:\n",
            "total 68\n",
            "-r-------- 1 root root 19484 Nov  9 19:43 8304f777c7acff907088aed5d0331e\n",
            "-r-------- 1 root root 48861 Nov  9 19:43 c81de6437c46e087f1e21400a0fa32\n",
            "\n",
            "/content/drive/MyDrive/dvc/ugr-lcc-tp3_HdS/files/md5/43:\n",
            "total 34\n",
            "-r-------- 1 root root 33838 Nov  9 19:43 21bb326074c9e051bbb331534d3dae\n",
            "\n",
            "/content/drive/MyDrive/dvc/ugr-lcc-tp3_HdS/files/md5/44:\n",
            "total 162\n",
            "-r-------- 1 root root 132894 Nov  9 19:43 383b647ad54675932492714dcb5e3d\n",
            "-r-------- 1 root root  32262 Nov  9 19:43 d77efbddd180da5ac0f3d871fab1f9\n",
            "\n",
            "/content/drive/MyDrive/dvc/ugr-lcc-tp3_HdS/files/md5/45:\n",
            "total 22\n",
            "-r-------- 1 root root 22302 Nov  9 19:43 a31bc3b82eb576aca24d0dc42ca5da\n",
            "\n",
            "/content/drive/MyDrive/dvc/ugr-lcc-tp3_HdS/files/md5/47:\n",
            "total 19\n",
            "-r-------- 1 root root 19306 Nov  9 19:43 ac2d043f4f18ae83011ee2cd3036a4\n",
            "\n",
            "/content/drive/MyDrive/dvc/ugr-lcc-tp3_HdS/files/md5/48:\n",
            "total 30\n",
            "-r-------- 1 root root 30395 Nov  9 19:43 fa0091c788612f58d7e4fd466b997b\n",
            "\n",
            "/content/drive/MyDrive/dvc/ugr-lcc-tp3_HdS/files/md5/57:\n",
            "total 44\n",
            "-r-------- 1 root root 44967 Nov  9 19:43 70fdd691d7e10ddba59ad972781a9d\n",
            "\n",
            "/content/drive/MyDrive/dvc/ugr-lcc-tp3_HdS/files/md5/59:\n",
            "total 24\n",
            "-r-------- 1 root root 24546 Nov  9 19:43 c62e874d1ea659545054883afd306d\n",
            "\n",
            "/content/drive/MyDrive/dvc/ugr-lcc-tp3_HdS/files/md5/5a:\n",
            "total 27\n",
            "-r-------- 1 root root 27047 Nov  9 19:43 237c5dc82448600ce3274bb09f25b0\n",
            "\n",
            "/content/drive/MyDrive/dvc/ugr-lcc-tp3_HdS/files/md5/5b:\n",
            "total 13\n",
            "-r-------- 1 root root 13068 Nov  9 19:43 39bd235c6ea74db8a4f0a0c4a2488b\n",
            "\n",
            "/content/drive/MyDrive/dvc/ugr-lcc-tp3_HdS/files/md5/5c:\n",
            "total 41\n",
            "-r-------- 1 root root 41011 Nov  9 19:43 a91235faf2aa4c7675220ad7a96e92\n",
            "\n",
            "/content/drive/MyDrive/dvc/ugr-lcc-tp3_HdS/files/md5/5e:\n",
            "total 34\n",
            "-r-------- 1 root root 34200 Nov  9 19:43 08cf7b745e1b0556e7310222256fc4\n",
            "\n",
            "/content/drive/MyDrive/dvc/ugr-lcc-tp3_HdS/files/md5/61:\n",
            "total 32\n",
            "-r-------- 1 root root 32376 Nov  9 19:43 38a770d7699a473b1000d2fa62029c\n",
            "\n",
            "/content/drive/MyDrive/dvc/ugr-lcc-tp3_HdS/files/md5/65:\n",
            "total 19\n",
            "-r-------- 1 root root 19349 Nov  9 19:43 cb47afff7dc9e73ba04996df02ff23\n",
            "\n",
            "/content/drive/MyDrive/dvc/ugr-lcc-tp3_HdS/files/md5/66:\n",
            "total 25\n",
            "-r-------- 1 root root 24952 Nov  9 19:43 ed0fc5c5360bc17522e17b68036e0c\n",
            "\n",
            "/content/drive/MyDrive/dvc/ugr-lcc-tp3_HdS/files/md5/6a:\n",
            "total 23\n",
            "-r-------- 1 root root 23117 Nov  9 19:43 f7460ad4c86ff18aa651fd92fbad99\n",
            "\n",
            "/content/drive/MyDrive/dvc/ugr-lcc-tp3_HdS/files/md5/6b:\n",
            "total 35\n",
            "-r-------- 1 root root 35574 Nov  9 19:43 9558e89765433510e3c7b7b42fee76\n",
            "\n",
            "/content/drive/MyDrive/dvc/ugr-lcc-tp3_HdS/files/md5/6e:\n",
            "total 27\n",
            "-r-------- 1 root root 26957 Nov  9 19:43 51ddc3116a0c32582bb82bacc5b4b9\n",
            "\n",
            "/content/drive/MyDrive/dvc/ugr-lcc-tp3_HdS/files/md5/6f:\n",
            "total 55\n",
            "-r-------- 1 root root 55492 Nov  9 19:43 68385ea84b9614eae30711bae7ec19\n",
            "\n",
            "/content/drive/MyDrive/dvc/ugr-lcc-tp3_HdS/files/md5/80:\n",
            "total 13\n",
            "-r-------- 1 root root 12987 Nov  9 19:43 9ae210820e65d3eccda03e05113517\n",
            "\n",
            "/content/drive/MyDrive/dvc/ugr-lcc-tp3_HdS/files/md5/83:\n",
            "total 34\n",
            "-r-------- 1 root root 34386 Nov  9 19:43 a194e077df04dddedf9bbb067790c8\n",
            "\n",
            "/content/drive/MyDrive/dvc/ugr-lcc-tp3_HdS/files/md5/84:\n",
            "total 49\n",
            "-r-------- 1 root root 49705 Nov  9 19:43 27fe261246954d4da3a28f717d9cd5\n",
            "\n",
            "/content/drive/MyDrive/dvc/ugr-lcc-tp3_HdS/files/md5/88:\n",
            "total 18\n",
            "-r-------- 1 root root 17940 Nov  9 19:43 64dfbdc5941055e47f59c2fea98627\n",
            "\n",
            "/content/drive/MyDrive/dvc/ugr-lcc-tp3_HdS/files/md5/8d:\n",
            "total 30\n",
            "-r-------- 1 root root 29778 Nov  9 19:43 31e0d56fde3fbc7497fb4a0aa32a6d\n",
            "\n",
            "/content/drive/MyDrive/dvc/ugr-lcc-tp3_HdS/files/md5/8f:\n",
            "total 27\n",
            "-r-------- 1 root root 27553 Nov  9 19:43 b78e31f12c93eb3f5c7ac6a9f0fa5a\n",
            "\n",
            "/content/drive/MyDrive/dvc/ugr-lcc-tp3_HdS/files/md5/90:\n",
            "total 22\n",
            "-r-------- 1 root root 21556 Nov  9 19:43 1623297b086770dc0fd13b8a7ec333\n",
            "\n",
            "/content/drive/MyDrive/dvc/ugr-lcc-tp3_HdS/files/md5/92:\n",
            "total 32\n",
            "-r-------- 1 root root 32505 Nov  9 19:43 da9b61947a7c7753593983d47b1304\n",
            "\n",
            "/content/drive/MyDrive/dvc/ugr-lcc-tp3_HdS/files/md5/94:\n",
            "total 63\n",
            "-r-------- 1 root root 26012 Nov  9 19:43 d19b953a9ebd375c5b7bb2d2e5f0b1\n",
            "-r-------- 1 root root 37489 Nov  9 19:43 e7f568ca228e4e8d8f6ef06b3ca1d5\n",
            "\n",
            "/content/drive/MyDrive/dvc/ugr-lcc-tp3_HdS/files/md5/98:\n",
            "total 18\n",
            "-r-------- 1 root root 17990 Nov  9 19:43 9f0f4ccb6d59e4c8ddd0d222eb383c\n",
            "\n",
            "/content/drive/MyDrive/dvc/ugr-lcc-tp3_HdS/files/md5/9e:\n",
            "total 33\n",
            "-r-------- 1 root root 33175 Nov  9 19:43 feca1350bffb1b2f1e656f89fda748\n",
            "\n",
            "/content/drive/MyDrive/dvc/ugr-lcc-tp3_HdS/files/md5/9f:\n",
            "total 32\n",
            "-r-------- 1 root root 32272 Nov  9 19:43 dbb10b619930a7cc8a508093ca1298\n",
            "\n",
            "/content/drive/MyDrive/dvc/ugr-lcc-tp3_HdS/files/md5/a2:\n",
            "total 15\n",
            "-r-------- 1 root root 14678 Nov  9 19:43 6e75d9ce1d5f96505db0a67f701e9a\n",
            "\n",
            "/content/drive/MyDrive/dvc/ugr-lcc-tp3_HdS/files/md5/a5:\n",
            "total 13\n",
            "-r-------- 1 root root 13289 Nov  9 19:43 95715c8a4feca431329654f4020e2a\n",
            "\n",
            "/content/drive/MyDrive/dvc/ugr-lcc-tp3_HdS/files/md5/b3:\n",
            "total 25\n",
            "-r-------- 1 root root 24611 Nov  9 19:43 b08c456bb640db997829ee05f6ac0d\n",
            "\n",
            "/content/drive/MyDrive/dvc/ugr-lcc-tp3_HdS/files/md5/b5:\n",
            "total 26\n",
            "-r-------- 1 root root 25935 Nov  9 19:43 84b5c904d5614b552e22c2a29391d9\n",
            "\n",
            "/content/drive/MyDrive/dvc/ugr-lcc-tp3_HdS/files/md5/b7:\n",
            "total 34\n",
            "-r-------- 1 root root 34202 Nov  9 19:43 344e1bb5969d562ce3328fbf3c8544\n",
            "\n",
            "/content/drive/MyDrive/dvc/ugr-lcc-tp3_HdS/files/md5/bb:\n",
            "total 35\n",
            "-r-------- 1 root root 19738 Nov  9 19:43 5ec2379f388d6b051361e7185c0071\n",
            "-r-------- 1 root root 15536 Nov  9 19:43 9435b479ea0f31e0b484e482817039\n",
            "\n",
            "/content/drive/MyDrive/dvc/ugr-lcc-tp3_HdS/files/md5/bd:\n",
            "total 34\n",
            "-r-------- 1 root root 34458 Nov  9 19:43 7a56601326014d0874ac843036366f\n",
            "\n",
            "/content/drive/MyDrive/dvc/ugr-lcc-tp3_HdS/files/md5/c0:\n",
            "total 45\n",
            "-r-------- 1 root root 45733 Nov  9 19:43 7f3c1f960111df73b08dd99f4ddb63\n",
            "\n",
            "/content/drive/MyDrive/dvc/ugr-lcc-tp3_HdS/files/md5/c1:\n",
            "total 70\n",
            "-r-------- 1 root root 46753 Nov  9 19:43 04b4138139362103c2ab869f7cc4ca\n",
            "-r-------- 1 root root 24078 Nov  9 19:43 b71adf02bb5ec20e43285ba1478a0e\n",
            "\n",
            "/content/drive/MyDrive/dvc/ugr-lcc-tp3_HdS/files/md5/c4:\n",
            "total 107\n",
            "-r-------- 1 root root 109289 Nov  9 19:43 a94c64ef7b1361f800040064dc5420\n",
            "\n",
            "/content/drive/MyDrive/dvc/ugr-lcc-tp3_HdS/files/md5/c5:\n",
            "total 34\n",
            "-r-------- 1 root root 33899 Nov  9 19:43 b65d8d4427e669e99e993cdf037b09\n",
            "\n",
            "/content/drive/MyDrive/dvc/ugr-lcc-tp3_HdS/files/md5/cf:\n",
            "total 22\n",
            "-r-------- 1 root root 21523 Nov  9 19:43 cb08093add13812446913d547b0d7b\n",
            "\n",
            "/content/drive/MyDrive/dvc/ugr-lcc-tp3_HdS/files/md5/d6:\n",
            "total 23\n",
            "-r-------- 1 root root 22857 Nov  9 19:43 ae740fad0cd010420d55fc1fe9a5f9\n",
            "\n",
            "/content/drive/MyDrive/dvc/ugr-lcc-tp3_HdS/files/md5/d7:\n",
            "total 1\n",
            "-r-------- 1 root root 2 Nov  9 19:43 51713988987e9331980363e24189ce.dir\n",
            "\n",
            "/content/drive/MyDrive/dvc/ugr-lcc-tp3_HdS/files/md5/da:\n",
            "total 42\n",
            "-r-------- 1 root root 42265 Nov  9 19:43 ced14614e0e0d2e699fda644596975\n",
            "\n",
            "/content/drive/MyDrive/dvc/ugr-lcc-tp3_HdS/files/md5/dd:\n",
            "total 50\n",
            "-r-------- 1 root root 19452 Nov  9 19:43 3c514754a4ea1692a3dbe90f6c0af2\n",
            "-r-------- 1 root root 31024 Nov  9 19:43 3d90a5e7049d49a92f0be8d3a80f4b\n",
            "\n",
            "/content/drive/MyDrive/dvc/ugr-lcc-tp3_HdS/files/md5/de:\n",
            "total 21\n",
            "-r-------- 1 root root 20631 Nov  9 19:43 392c05807281b6e04f81c625eac788\n",
            "\n",
            "/content/drive/MyDrive/dvc/ugr-lcc-tp3_HdS/files/md5/df:\n",
            "total 60\n",
            "-r-------- 1 root root 31216 Nov  9 19:43 b6ac095a869535a90fbbe313cb33c2\n",
            "-r-------- 1 root root 29616 Nov  9 19:43 e05e0fe4dcc09641ad3406eeed8e03\n",
            "\n",
            "/content/drive/MyDrive/dvc/ugr-lcc-tp3_HdS/files/md5/e1:\n",
            "total 22\n",
            "-r-------- 1 root root 15230 Nov  9 19:43 d89fdaade5b4d9b95a17eca95a1f2a\n",
            "-r-------- 1 root root  6193 Nov  9 19:43 de2c834e60e09b821427f2298923ce.dir\n",
            "\n",
            "/content/drive/MyDrive/dvc/ugr-lcc-tp3_HdS/files/md5/e4:\n",
            "total 21\n",
            "-r-------- 1 root root 21175 Nov  9 19:43 110c31d4d08e342a4f1253d020f694\n",
            "\n",
            "/content/drive/MyDrive/dvc/ugr-lcc-tp3_HdS/files/md5/e5:\n",
            "total 26\n",
            "-r-------- 1 root root 26518 Nov  9 19:43 d4d937ac5ee391ed30571a1164161f\n",
            "\n",
            "/content/drive/MyDrive/dvc/ugr-lcc-tp3_HdS/files/md5/e7:\n",
            "total 28\n",
            "-r-------- 1 root root 27691 Nov  9 19:43 48693c13825794f89d6c8bdff0b198\n",
            "\n",
            "/content/drive/MyDrive/dvc/ugr-lcc-tp3_HdS/files/md5/f1:\n",
            "total 33\n",
            "-r-------- 1 root root 33168 Nov  9 19:43 f0dd4b31ee69bb3e982b018ff0062c\n",
            "\n",
            "/content/drive/MyDrive/dvc/ugr-lcc-tp3_HdS/files/md5/f3:\n",
            "total 24\n",
            "-r-------- 1 root root 24091 Nov  9 19:43 30a3c25b4bcbe3c538d8bd5d7729d5\n",
            "\n",
            "/content/drive/MyDrive/dvc/ugr-lcc-tp3_HdS/files/md5/f4:\n",
            "total 19\n",
            "-r-------- 1 root root 19308 Nov  9 19:43 717a5f3633bdcaec239e68dde5159c\n",
            "\n",
            "/content/drive/MyDrive/dvc/ugr-lcc-tp3_HdS/files/md5/f7:\n",
            "total 23\n",
            "-r-------- 1 root root 23497 Nov  9 19:43 682f808682fcb4f4ca944e5205144f\n",
            "\n",
            "/content/drive/MyDrive/dvc/ugr-lcc-tp3_HdS/files/md5/f9:\n",
            "total 22\n",
            "-r-------- 1 root root 21786 Nov  9 19:43 22afc7ccdb5a3e087ddf62cd5e0b0e\n",
            "\n",
            "/content/drive/MyDrive/dvc/ugr-lcc-tp3_HdS/files/md5/fa:\n",
            "total 20\n",
            "-r-------- 1 root root 20261 Nov  9 19:43 f59a7f955d589da8482bfd1d171eac\n",
            "\n",
            "/content/drive/MyDrive/dvc/ugr-lcc-tp3_HdS/files/md5/fb:\n",
            "total 220\n",
            "-r-------- 1 root root 224931 Nov  9 19:43 8632c2999515a396df8af226a7df85\n",
            "\n",
            "/content/drive/MyDrive/dvc/ugr-lcc-tp3_HdS/files/md5/fc:\n",
            "total 54\n",
            "-r-------- 1 root root 54973 Nov  9 19:43 4ffefd05689e72ec7d369e10be599b\n"
          ]
        }
      ]
    },
    {
      "cell_type": "markdown",
      "metadata": {
        "id": "V25Yoo7oFyKC"
      },
      "source": [
        "## Punto 4\n",
        "\n",
        "Tomar las imágenes del directorio `dataset/resize` y realizar 4 cortes iguales de forma vertical. Las nuevas imágenes deben quedar almacenadar en `dataset/cut`. El directorio `cut` debe ser traceado por dvc.\n",
        "\n",
        "Las nuevas imágenes se deberán nombrar con un número ascendente, por ejemplo,\n",
        "`00000001.jpg` es el nombre de la imagen original, las nuevas imágenes se llamarán `00000001_1.jpg`, `00000001_2.jpg`, `00000001_3.jpg` y `00000001_4.jpg`\n",
        "\n",
        "Escribir los pasos necesarios para el traceo del dataset y hacer los commit correspondientes y pushear dvc."
      ]
    },
    {
      "cell_type": "code",
      "execution_count": 49,
      "metadata": {
        "id": "85SLmMH1MJ5j"
      },
      "outputs": [],
      "source": [
        "def cut_images(input_dir, output_dir):\n",
        "    \"\"\"\n",
        "    Corta cada imagen en input_dir en 4 partes verticales iguales y las guarda en output_dir.\n",
        "\n",
        "    Parameters:\n",
        "    - input_dir (str): Directorio de entrada con las imágenes a cortar.\n",
        "    - output_dir (str): Directorio de salida donde se guardarán las imágenes cortadas.\n",
        "    \"\"\"\n",
        "\n",
        "    # Asegurarse de que el directorio de salida existe\n",
        "    os.makedirs(output_dir, exist_ok=True)\n",
        "\n",
        "    # Procesar cada archivo en el directorio de entrada\n",
        "    for filename in os.listdir(input_dir):\n",
        "        file_path = os.path.join(input_dir, filename)\n",
        "\n",
        "        # Verifica que sea un archivo de imagen\n",
        "        if not filename.lower().endswith(('.png', '.jpg', '.jpeg')):\n",
        "            print(f\"Archivo no soportado, excluido: {filename}\")\n",
        "            continue\n",
        "\n",
        "        try:\n",
        "            with Image.open(file_path) as img:\n",
        "                width, height = img.size\n",
        "                cut_width = width // 4  # Ancho de cada corte\n",
        "\n",
        "                # Realizar los 4 cortes verticales\n",
        "                for i in range(4):\n",
        "                    left = i * cut_width\n",
        "                    right = (i + 1) * cut_width\n",
        "                    img_cut = img.crop((left, 0, right, height))\n",
        "\n",
        "                    # Crear el nuevo nombre de archivo\n",
        "                    base_name = os.path.splitext(filename)[0]\n",
        "                    new_filename = f\"{base_name}_{i+1}.jpg\"\n",
        "\n",
        "                    # Guardar la imagen cortada en el directorio de salida\n",
        "                    img_cut.save(os.path.join(output_dir, new_filename))\n",
        "                print(f\"Imagen cortada en 4 partes: {filename}\")\n",
        "        except Exception as e:\n",
        "            print(f\"Error al procesar {filename}: {e}\")\n",
        "\n"
      ]
    },
    {
      "cell_type": "code",
      "source": [
        "!mkdir -p dataset/cut"
      ],
      "metadata": {
        "id": "s2WtdSrwdpHX"
      },
      "execution_count": 50,
      "outputs": []
    },
    {
      "cell_type": "code",
      "source": [
        "cut_images(\"dataset/resize\", \"dataset/cut\")"
      ],
      "metadata": {
        "colab": {
          "base_uri": "https://localhost:8080/"
        },
        "id": "6YYoiOEsdl_e",
        "outputId": "0129f6c2-c528-4d82-ef25-2c8c7b4d561d"
      },
      "execution_count": 51,
      "outputs": [
        {
          "output_type": "stream",
          "name": "stdout",
          "text": [
            "Imagen cortada en 4 partes: 00000169.jpg\n",
            "Imagen cortada en 4 partes: 00000112.jpg\n",
            "Imagen cortada en 4 partes: 00000068.png\n",
            "Imagen cortada en 4 partes: 00000020.jpg\n",
            "Imagen cortada en 4 partes: 00000117.jpg\n",
            "Imagen cortada en 4 partes: 00000113.png\n",
            "Imagen cortada en 4 partes: 00000088.jpg\n",
            "Imagen cortada en 4 partes: 00000121.jpg\n",
            "Imagen cortada en 4 partes: 00000189.jpg\n",
            "Imagen cortada en 4 partes: 00000149.jpg\n",
            "Imagen cortada en 4 partes: 00000126.jpg\n",
            "Imagen cortada en 4 partes: 00000078.jpg\n",
            "Imagen cortada en 4 partes: 00000193.jpg\n",
            "Imagen cortada en 4 partes: 00000071.png\n",
            "Imagen cortada en 4 partes: 00000015.png\n",
            "Imagen cortada en 4 partes: 00000150.png\n",
            "Imagen cortada en 4 partes: 00000044.png\n",
            "Imagen cortada en 4 partes: 00000158.jpg\n",
            "Imagen cortada en 4 partes: 00000042.jpg\n",
            "Imagen cortada en 4 partes: 00000003.png\n",
            "Imagen cortada en 4 partes: 00000110.jpg\n",
            "Imagen cortada en 4 partes: 00000016.jpg\n",
            "Imagen cortada en 4 partes: 00000013.jpg\n",
            "Imagen cortada en 4 partes: 00000070.jpg\n",
            "Imagen cortada en 4 partes: 00000129.jpg\n",
            "Imagen cortada en 4 partes: 00000009.png\n",
            "Imagen cortada en 4 partes: 00000195.jpg\n",
            "Imagen cortada en 4 partes: 00000026.jpg\n",
            "Imagen cortada en 4 partes: 00000182.jpg\n",
            "Imagen cortada en 4 partes: 00000145.jpg\n",
            "Imagen cortada en 4 partes: 00000199.jpg\n",
            "Imagen cortada en 4 partes: 00000010.jpg\n",
            "Imagen cortada en 4 partes: 00000018.jpg\n",
            "Imagen cortada en 4 partes: 00000186.jpg\n",
            "Imagen cortada en 4 partes: 00000174.jpg\n",
            "Imagen cortada en 4 partes: 00000081.jpg\n",
            "Imagen cortada en 4 partes: 00000006.jpg\n",
            "Imagen cortada en 4 partes: 00000192.jpg\n",
            "Imagen cortada en 4 partes: 00000089.jpg\n",
            "Imagen cortada en 4 partes: 00000114.jpg\n",
            "Imagen cortada en 4 partes: 00000002.JPG\n",
            "Imagen cortada en 4 partes: 00000019.jpg\n",
            "Imagen cortada en 4 partes: 00000177.jpg\n",
            "Imagen cortada en 4 partes: 00000066.jpg\n",
            "Imagen cortada en 4 partes: 00000115.jpg\n",
            "Imagen cortada en 4 partes: 00000127.jpg\n",
            "Imagen cortada en 4 partes: 00000167.jpg\n",
            "Imagen cortada en 4 partes: 00000094.jpg\n",
            "Imagen cortada en 4 partes: 00000079.jpg\n",
            "Imagen cortada en 4 partes: 00000151.png\n",
            "Imagen cortada en 4 partes: 00000062.jpg\n",
            "Imagen cortada en 4 partes: 00000092.jpg\n",
            "Imagen cortada en 4 partes: 00000017.jpg\n",
            "Imagen cortada en 4 partes: 00000102.jpg\n",
            "Imagen cortada en 4 partes: 00000136.png\n",
            "Imagen cortada en 4 partes: 00000138.jpg\n",
            "Imagen cortada en 4 partes: 00000188.jpg\n",
            "Imagen cortada en 4 partes: 00000025.jpg\n",
            "Imagen cortada en 4 partes: 00000028.jpg\n",
            "Imagen cortada en 4 partes: 00000194.jpg\n",
            "Imagen cortada en 4 partes: 00000054.jpeg\n",
            "Imagen cortada en 4 partes: 00000082.jpg\n",
            "Imagen cortada en 4 partes: 00000008.jpg\n",
            "Imagen cortada en 4 partes: 00000075.jpg\n",
            "Imagen cortada en 4 partes: 00000031.jpg\n",
            "Imagen cortada en 4 partes: 00000037.jpg\n",
            "Imagen cortada en 4 partes: 00000004.jpg\n",
            "Imagen cortada en 4 partes: 00000024.jpg\n",
            "Imagen cortada en 4 partes: 00000012.jpg\n",
            "Imagen cortada en 4 partes: 00000007.jpg\n",
            "Imagen cortada en 4 partes: 00000178.jpg\n",
            "Imagen cortada en 4 partes: 00000011.jpg\n",
            "Imagen cortada en 4 partes: 00000103.jpg\n",
            "Imagen cortada en 4 partes: 00000168.jpg\n",
            "Imagen cortada en 4 partes: 00000109.jpg\n",
            "Imagen cortada en 4 partes: 00000034.jpg\n",
            "Imagen cortada en 4 partes: 00000001.jpg\n",
            "Imagen cortada en 4 partes: 00000039.jpg\n",
            "Imagen cortada en 4 partes: 00000061.jpg\n",
            "Imagen cortada en 4 partes: 00000120.jpg\n",
            "Imagen cortada en 4 partes: 00000130.png\n",
            "Imagen cortada en 4 partes: 00000049.jpg\n",
            "Imagen cortada en 4 partes: 00000175.jpg\n",
            "Imagen cortada en 4 partes: 00000086.png\n",
            "Imagen cortada en 4 partes: 00000074.jpg\n",
            "Imagen cortada en 4 partes: 00000000.JPG\n"
          ]
        }
      ]
    },
    {
      "cell_type": "code",
      "source": [
        "!dvc add dataset/cut"
      ],
      "metadata": {
        "colab": {
          "base_uri": "https://localhost:8080/"
        },
        "id": "jW1iBgmQdwJr",
        "outputId": "c30b29f4-a936-41ef-9a93-d09bb3741270"
      },
      "execution_count": 52,
      "outputs": [
        {
          "output_type": "stream",
          "name": "stdout",
          "text": [
            "\u001b[?25l\u001b[32m⠋\u001b[0m Checking graph\n",
            "Adding...:   0% 0/1 [00:00<?, ?file/s{'info': ''}]\n",
            "!\u001b[A\n",
            "          |0.00 [00:00,     ?file/s]\u001b[A\n",
            "                                    \u001b[A\n",
            "!\u001b[A\n",
            "  0% |          |0/? [00:00<?,    ?files/s]\u001b[A\n",
            "                                           \u001b[A\n",
            "Adding dataset/cut to cache:   0% 0/326 [00:00<?, ?file/s]\u001b[A\n",
            "Adding dataset/cut to cache:   0% 0/326 [00:00<?, ?file/s{'info': ''}]\u001b[A\n",
            " 73% 239/326 [00:00<00:00, 2387.42file/s{'info': ''}]                 \u001b[A\n",
            "                                                     \u001b[A\n",
            "!\u001b[A\n",
            "Checking out /content/tp3_HdS/dataset/cut          |0.00 [00:00,    ?files/s]\u001b[A\n",
            "Adding...: 100% 1/1 [00:00<00:00,  3.66file/s{'info': ''}]\n",
            "\n",
            "To track the changes with git, run:\n",
            "\n",
            "\tgit add dataset/cut.dvc dataset/.gitignore\n",
            "\n",
            "To enable auto staging, run:\n",
            "\n",
            "\tdvc config core.autostage true\n",
            "\u001b[0m"
          ]
        }
      ]
    },
    {
      "cell_type": "code",
      "source": [
        "!git status"
      ],
      "metadata": {
        "colab": {
          "base_uri": "https://localhost:8080/"
        },
        "id": "G6U68lwpd3Dw",
        "outputId": "a925f79b-e14d-4466-f3c5-cf1365c34d80"
      },
      "execution_count": 53,
      "outputs": [
        {
          "output_type": "stream",
          "name": "stdout",
          "text": [
            "On branch master\n",
            "Changes not staged for commit:\n",
            "  (use \"git add <file>...\" to update what will be committed)\n",
            "  (use \"git restore <file>...\" to discard changes in working directory)\n",
            "\t\u001b[31mmodified:   dataset/.gitignore\u001b[m\n",
            "\n",
            "Untracked files:\n",
            "  (use \"git add <file>...\" to include in what will be committed)\n",
            "\t\u001b[31mdataset/cut.dvc\u001b[m\n",
            "\n",
            "no changes added to commit (use \"git add\" and/or \"git commit -a\")\n"
          ]
        }
      ]
    },
    {
      "cell_type": "code",
      "source": [
        "!git add .\n",
        "!git commit -m \"Añadir imágenes cortadas en 4 partes rastreadas por DVC\""
      ],
      "metadata": {
        "colab": {
          "base_uri": "https://localhost:8080/"
        },
        "id": "UOhnhtnRdzYz",
        "outputId": "c372145d-c1c6-4138-f138-a0142418d689"
      },
      "execution_count": 54,
      "outputs": [
        {
          "output_type": "stream",
          "name": "stdout",
          "text": [
            "[master 670e62d] Añadir imágenes cortadas en 4 partes rastreadas por DVC\n",
            " 2 files changed, 7 insertions(+)\n",
            " create mode 100644 dataset/cut.dvc\n"
          ]
        }
      ]
    },
    {
      "cell_type": "code",
      "source": [
        "!git status"
      ],
      "metadata": {
        "colab": {
          "base_uri": "https://localhost:8080/"
        },
        "id": "ck2MuGh_d7Mc",
        "outputId": "daf4dd5c-536f-46b1-9d8f-92f6a292f25a"
      },
      "execution_count": 55,
      "outputs": [
        {
          "output_type": "stream",
          "name": "stdout",
          "text": [
            "On branch master\n",
            "nothing to commit, working tree clean\n"
          ]
        }
      ]
    },
    {
      "cell_type": "code",
      "source": [
        "!cat dataset/.gitignore"
      ],
      "metadata": {
        "colab": {
          "base_uri": "https://localhost:8080/"
        },
        "id": "6XmiJ6Mid8M2",
        "outputId": "a6442d4b-f6c6-4b4a-8ab9-6c04046ef297"
      },
      "execution_count": 56,
      "outputs": [
        {
          "output_type": "stream",
          "name": "stdout",
          "text": [
            "/raw\n",
            "/resize\n",
            "/cut\n"
          ]
        }
      ]
    },
    {
      "cell_type": "code",
      "source": [
        "!dvc push --remote origin_local"
      ],
      "metadata": {
        "colab": {
          "base_uri": "https://localhost:8080/"
        },
        "id": "WRxpz3x1eNIC",
        "outputId": "b87b5146-57cf-40bc-ef4f-597e089bfdf5"
      },
      "execution_count": 58,
      "outputs": [
        {
          "output_type": "stream",
          "name": "stdout",
          "text": [
            "Collecting          |433 [00:01,  429entry/s]\n",
            "Pushing\n",
            "Querying remote cache:   0% 0/2 [00:00<?, ?files/s]\u001b[A\n",
            "Querying remote cache:   0% 0/2 [00:00<?, ?files/s{'info': ''}]\u001b[A\n",
            "                                                               \u001b[A\n",
            "Querying remote cache:   0% 0/1 [00:00<?, ?files/s]\u001b[A\n",
            "Querying remote cache:   0% 0/1 [00:00<?, ?files/s{'info': ''}]\u001b[A\n",
            "                                                               \u001b[A\n",
            "!\u001b[A\n",
            "  0% |          |0/? [00:00<?,    ?files/s]\u001b[A\n",
            "                                           \u001b[A\n",
            "!\u001b[A\n",
            "  0% |          |0/? [00:00<?,    ?files/s]\u001b[A\n",
            "                                           \u001b[A\n",
            "Pushing to local:   0% 0/327 [00:00<?, ?file/s]\u001b[A\n",
            "Pushing to local:   0% 0/327 [00:00<?, ?file/s{'info': ''}]\u001b[A\n",
            "Pushing to local:   0% 0/326 [00:00<?, ?file/s{'info': ''}]\u001b[A\n",
            "Pushing to local:   2% 5/326 [00:00<00:07, 44.38file/s{'info': ''}]\u001b[A\n",
            "Pushing to local:   3% 10/326 [00:00<00:06, 45.79file/s{'info': ''}]\u001b[A\n",
            "Pushing to local:   5% 15/326 [00:00<00:06, 46.06file/s{'info': ''}]\u001b[A\n",
            "Pushing to local:   6% 21/326 [00:00<00:06, 46.01file/s{'info': ''}]\u001b[A\n",
            "Pushing to local:   8% 27/326 [00:00<00:05, 50.26file/s{'info': ''}]\u001b[A\n",
            "Pushing to local:  10% 32/326 [00:01<00:06, 48.83file/s{'info': ''}]\u001b[A\n",
            "Pushing to local:  11% 37/326 [00:01<00:06, 47.37file/s{'info': ''}]\u001b[A\n",
            "Pushing to local:  13% 42/326 [00:01<00:06, 46.55file/s{'info': ''}]\u001b[A\n",
            "Pushing to local:  14% 47/326 [00:01<00:06, 46.45file/s{'info': ''}]\u001b[A\n",
            "Pushing to local:  16% 52/326 [00:01<00:05, 47.06file/s{'info': ''}]\u001b[A\n",
            "Pushing to local:  17% 57/326 [00:01<00:05, 45.65file/s{'info': ''}]\u001b[A\n",
            "Pushing to local:  19% 62/326 [00:01<00:05, 46.71file/s{'info': ''}]\u001b[A\n",
            "Pushing to local:  21% 68/326 [00:01<00:05, 48.36file/s{'info': ''}]\u001b[A\n",
            "Pushing to local:  23% 75/326 [00:01<00:04, 52.33file/s{'info': ''}]\u001b[A\n",
            "Pushing to local:  25% 81/326 [00:02<00:04, 52.92file/s{'info': ''}]\u001b[A\n",
            "Pushing to local:  27% 87/326 [00:02<00:04, 53.07file/s{'info': ''}]\u001b[A\n",
            "Pushing to local:  29% 93/326 [00:02<00:04, 53.11file/s{'info': ''}]\u001b[A\n",
            "Pushing to local:  30% 99/326 [00:02<00:04, 53.76file/s{'info': ''}]\u001b[A\n",
            "Pushing to local:  33% 106/326 [00:02<00:04, 54.50file/s{'info': ''}]\u001b[A\n",
            "Pushing to local:  35% 113/326 [00:02<00:03, 57.76file/s{'info': ''}]\u001b[A\n",
            "Pushing to local:  37% 119/326 [00:02<00:03, 57.11file/s{'info': ''}]\u001b[A\n",
            "Pushing to local:  38% 125/326 [00:02<00:03, 55.67file/s{'info': ''}]\u001b[A\n",
            "Pushing to local:  40% 131/326 [00:02<00:03, 55.98file/s{'info': ''}]\u001b[A\n",
            "Pushing to local:  42% 137/326 [00:03<00:03, 55.77file/s{'info': ''}]\u001b[A\n",
            "Pushing to local:  44% 144/326 [00:03<00:03, 54.69file/s{'info': ''}]\u001b[A\n",
            "Pushing to local:  46% 151/326 [00:03<00:03, 56.93file/s{'info': ''}]\u001b[A\n",
            "Pushing to local:  48% 157/326 [00:03<00:03, 54.46file/s{'info': ''}]\u001b[A\n",
            "Pushing to local:  50% 163/326 [00:03<00:03, 53.91file/s{'info': ''}]\u001b[A\n",
            "Pushing to local:  52% 169/326 [00:03<00:02, 54.53file/s{'info': ''}]\u001b[A\n",
            "Pushing to local:  54% 175/326 [00:03<00:02, 55.65file/s{'info': ''}]\u001b[A\n",
            "Pushing to local:  56% 182/326 [00:03<00:02, 58.08file/s{'info': ''}]\u001b[A\n",
            "Pushing to local:  58% 188/326 [00:03<00:02, 56.70file/s{'info': ''}]\u001b[A\n",
            "Pushing to local:  60% 194/326 [00:04<00:02, 55.18file/s{'info': ''}]\u001b[A\n",
            "Pushing to local:  61% 200/326 [00:04<00:02, 55.35file/s{'info': ''}]\u001b[A\n",
            "Pushing to local:  63% 206/326 [00:04<00:02, 56.42file/s{'info': ''}]\u001b[A\n",
            "Pushing to local:  65% 213/326 [00:04<00:01, 59.21file/s{'info': ''}]\u001b[A\n",
            "Pushing to local:  67% 219/326 [00:04<00:01, 57.02file/s{'info': ''}]\u001b[A\n",
            "Pushing to local:  69% 225/326 [00:04<00:01, 55.64file/s{'info': ''}]\u001b[A\n",
            "Pushing to local:  71% 231/326 [00:04<00:01, 56.12file/s{'info': ''}]\u001b[A\n",
            "Pushing to local:  73% 237/326 [00:04<00:01, 53.80file/s{'info': ''}]\u001b[A\n",
            "Pushing to local:  75% 243/326 [00:04<00:01, 55.31file/s{'info': ''}]\u001b[A\n",
            "Pushing to local:  76% 249/326 [00:05<00:01, 54.36file/s{'info': ''}]\u001b[A\n",
            "Pushing to local:  78% 255/326 [00:05<00:01, 53.91file/s{'info': ''}]\u001b[A\n",
            "Pushing to local:  80% 261/326 [00:05<00:01, 53.15file/s{'info': ''}]\u001b[A\n",
            "Pushing to local:  82% 268/326 [00:05<00:01, 54.51file/s{'info': ''}]\u001b[A\n",
            "Pushing to local:  84% 275/326 [00:05<00:00, 55.88file/s{'info': ''}]\u001b[A\n",
            "Pushing to local:  86% 281/326 [00:05<00:00, 54.18file/s{'info': ''}]\u001b[A\n",
            "Pushing to local:  88% 287/326 [00:05<00:00, 53.33file/s{'info': ''}]\u001b[A\n",
            "Pushing to local:  90% 293/326 [00:06<00:00, 41.66file/s{'info': ''}]\u001b[A\n",
            "Pushing to local:  91% 298/326 [00:06<00:00, 42.29file/s{'info': ''}]\u001b[A\n",
            "Pushing to local:  93% 304/326 [00:06<00:00, 46.05file/s{'info': ''}]\u001b[A\n",
            "Pushing to local:  95% 309/326 [00:06<00:00, 46.56file/s{'info': ''}]\u001b[A\n",
            "Pushing to local:  96% 314/326 [00:06<00:00, 44.71file/s{'info': ''}]\u001b[A\n",
            "Pushing to local:  98% 320/326 [00:06<00:00, 46.17file/s{'info': ''}]\u001b[A\n",
            "Pushing to local: 100% 326/326 [00:06<00:00, 49.21file/s{'info': ''}]\u001b[A\n",
            "Pushing\n",
            "327 files pushed\n",
            "\u001b[0m"
          ]
        }
      ]
    },
    {
      "cell_type": "markdown",
      "metadata": {
        "id": "cGGoqxjjvhum"
      },
      "source": [
        "## Punto 5\n",
        "\n",
        "Tomar las imágenes del directorio `dataset/cut` y eliminar las imágenes que no posean variaciones de colores, es decir, donde todos los pixeles sean idénticos. Las nuevas imágenes deben quedar almacenadar en `dataset/selection`.\n",
        "\n",
        "Mostrar la cantidad y los nombres de los archivos borrados en orden alfabético.\n",
        "\n",
        "Escribir los pasos necesarios para el traceo del dataset y hacer los commit correspondientes y pushear dvc."
      ]
    },
    {
      "cell_type": "code",
      "execution_count": 59,
      "metadata": {
        "id": "vO72F-HqMMX0"
      },
      "outputs": [],
      "source": [
        "def filter_images(input_dir, output_dir):\n",
        "    \"\"\"\n",
        "    Filtra las imágenes en input_dir que poseen variación de colores y las guarda en output_dir.\n",
        "    Elimina las imágenes sin variación de colores y muestra la cantidad y nombres en orden alfabético.\n",
        "\n",
        "    Parameters:\n",
        "    - input_dir (str): Directorio de entrada con las imágenes a filtrar.\n",
        "    - output_dir (str): Directorio de salida donde se guardarán las imágenes que poseen variación de colores.\n",
        "    \"\"\"\n",
        "    # Asegurarse de que el directorio de salida existe\n",
        "    os.makedirs(output_dir, exist_ok=True)\n",
        "\n",
        "    # Lista para almacenar los nombres de las imágenes borradas\n",
        "    deleted_files = []\n",
        "\n",
        "    # Procesar cada archivo en el directorio de entrada\n",
        "    for filename in sorted(os.listdir(input_dir)):\n",
        "        file_path = os.path.join(input_dir, filename)\n",
        "\n",
        "        # Verifica que sea un archivo de imagen\n",
        "        if not filename.lower().endswith(('.png', '.jpg', '.jpeg')):\n",
        "            print(f\"Archivo no soportado, excluido: {filename}\")\n",
        "            continue\n",
        "\n",
        "        try:\n",
        "            with Image.open(file_path) as img:\n",
        "                # Convertir la imagen a una lista de pixeles únicos\n",
        "                pixels = list(img.getdata())\n",
        "                # Comprobar si todos los píxeles son iguales\n",
        "                if all(pixel == pixels[0] for pixel in pixels):\n",
        "                    # Si todos los píxeles son iguales, añadir el archivo a la lista de borrados\n",
        "                    deleted_files.append(filename)\n",
        "                else:\n",
        "                    # Guardar la imagen en el directorio de salida si tiene variación de color\n",
        "                    img.save(os.path.join(output_dir, filename))\n",
        "        except Exception as e:\n",
        "            print(f\"Error al procesar {filename}: {e}\")\n",
        "\n",
        "    # Mostrar la cantidad y nombres de archivos borrados en orden alfabético\n",
        "    print(f\"Cantidad de archivos borrados: {len(deleted_files)}\")\n",
        "    print(\"Archivos borrados (sin variación de color):\")\n",
        "    for file in deleted_files:\n",
        "        print(file)\n",
        "\n"
      ]
    },
    {
      "cell_type": "code",
      "source": [
        "!mkdir -p dataset/selection"
      ],
      "metadata": {
        "id": "pAxAtvKQeyjm"
      },
      "execution_count": 60,
      "outputs": []
    },
    {
      "cell_type": "code",
      "source": [
        "filter_images(\"dataset/cut\", \"dataset/selection\")"
      ],
      "metadata": {
        "colab": {
          "base_uri": "https://localhost:8080/"
        },
        "id": "qnKrJ7Uteqz3",
        "outputId": "86f4e659-5fc1-4feb-facb-6371745ef959"
      },
      "execution_count": 61,
      "outputs": [
        {
          "output_type": "stream",
          "name": "stdout",
          "text": [
            "Cantidad de archivos borrados: 24\n",
            "Archivos borrados (sin variación de color):\n",
            "00000003_1.jpg\n",
            "00000003_4.jpg\n",
            "00000008_1.jpg\n",
            "00000008_4.jpg\n",
            "00000009_1.jpg\n",
            "00000009_4.jpg\n",
            "00000034_4.jpg\n",
            "00000044_1.jpg\n",
            "00000044_4.jpg\n",
            "00000054_1.jpg\n",
            "00000054_4.jpg\n",
            "00000062_1.jpg\n",
            "00000070_1.jpg\n",
            "00000070_4.jpg\n",
            "00000074_1.jpg\n",
            "00000074_4.jpg\n",
            "00000079_1.jpg\n",
            "00000079_4.jpg\n",
            "00000130_1.jpg\n",
            "00000130_4.jpg\n",
            "00000145_1.jpg\n",
            "00000145_4.jpg\n",
            "00000177_1.jpg\n",
            "00000178_1.jpg\n"
          ]
        }
      ]
    },
    {
      "cell_type": "code",
      "source": [
        "!dvc add dataset/selection"
      ],
      "metadata": {
        "colab": {
          "base_uri": "https://localhost:8080/"
        },
        "id": "e9XG4mbde7y8",
        "outputId": "67a4a0c9-7e83-451f-9081-bed1fc939365"
      },
      "execution_count": 62,
      "outputs": [
        {
          "output_type": "stream",
          "name": "stdout",
          "text": [
            "\u001b[?25l\u001b[32m⠋\u001b[0m Checking graph\n",
            "Adding...:   0% 0/1 [00:00<?, ?file/s{'info': ''}]\n",
            "!\u001b[A\n",
            "          |0.00 [00:00,     ?file/s]\u001b[A\n",
            "                                    \u001b[A\n",
            "!\u001b[A\n",
            "  0% |          |0/? [00:00<?,    ?files/s]\u001b[A\n",
            "                                           \u001b[A\n",
            "Adding dataset/selection to cache:   0% 0/262 [00:00<?, ?file/s]\u001b[A\n",
            "Adding dataset/selection to cache:   0% 0/262 [00:00<?, ?file/s{'info': ''}]\u001b[A\n",
            "                                                                            \u001b[A\n",
            "!\u001b[A\n",
            "          |0.00 [00:00,    ?files/s]\u001b[A\n",
            "Adding...: 100% 1/1 [00:00<00:00,  5.70file/s{'info': ''}]\n",
            "\n",
            "To track the changes with git, run:\n",
            "\n",
            "\tgit add dataset/selection.dvc dataset/.gitignore\n",
            "\n",
            "To enable auto staging, run:\n",
            "\n",
            "\tdvc config core.autostage true\n",
            "\u001b[0m"
          ]
        }
      ]
    },
    {
      "cell_type": "code",
      "source": [
        "!git status"
      ],
      "metadata": {
        "colab": {
          "base_uri": "https://localhost:8080/"
        },
        "outputId": "090c2e5e-9c3f-478d-8f89-dcd80077a370",
        "id": "PtDFc_GKfFXZ"
      },
      "execution_count": 63,
      "outputs": [
        {
          "output_type": "stream",
          "name": "stdout",
          "text": [
            "On branch master\n",
            "Changes not staged for commit:\n",
            "  (use \"git add <file>...\" to update what will be committed)\n",
            "  (use \"git restore <file>...\" to discard changes in working directory)\n",
            "\t\u001b[31mmodified:   dataset/.gitignore\u001b[m\n",
            "\n",
            "Untracked files:\n",
            "  (use \"git add <file>...\" to include in what will be committed)\n",
            "\t\u001b[31mdataset/selection.dvc\u001b[m\n",
            "\n",
            "no changes added to commit (use \"git add\" and/or \"git commit -a\")\n"
          ]
        }
      ]
    },
    {
      "cell_type": "code",
      "source": [
        "!git add .\n",
        "!git commit -m \"Filtrar y eliminar imágenes sin variación de color, rastreadas por DVC\""
      ],
      "metadata": {
        "colab": {
          "base_uri": "https://localhost:8080/"
        },
        "outputId": "0c64493c-fecd-48d7-bace-efa80bda3cdb",
        "id": "rxp3AEMRfFXZ"
      },
      "execution_count": 64,
      "outputs": [
        {
          "output_type": "stream",
          "name": "stdout",
          "text": [
            "[master d73e924] Filtrar y eliminar imágenes sin variación de color, rastreadas por DVC\n",
            " 2 files changed, 7 insertions(+)\n",
            " create mode 100644 dataset/selection.dvc\n"
          ]
        }
      ]
    },
    {
      "cell_type": "code",
      "source": [
        "!git status"
      ],
      "metadata": {
        "colab": {
          "base_uri": "https://localhost:8080/"
        },
        "outputId": "88bb2634-ea69-4c1b-b019-c3901ef9bd62",
        "id": "z75PTzV1fFXZ"
      },
      "execution_count": 65,
      "outputs": [
        {
          "output_type": "stream",
          "name": "stdout",
          "text": [
            "On branch master\n",
            "nothing to commit, working tree clean\n"
          ]
        }
      ]
    },
    {
      "cell_type": "code",
      "source": [
        "!cat dataset/.gitignore"
      ],
      "metadata": {
        "colab": {
          "base_uri": "https://localhost:8080/"
        },
        "outputId": "d853e99b-e067-497b-c419-4bd998e28c26",
        "id": "mtWmKO1kfFXZ"
      },
      "execution_count": 66,
      "outputs": [
        {
          "output_type": "stream",
          "name": "stdout",
          "text": [
            "/raw\n",
            "/resize\n",
            "/cut\n",
            "/selection\n"
          ]
        }
      ]
    },
    {
      "cell_type": "code",
      "source": [
        "!dvc push --remote origin_local"
      ],
      "metadata": {
        "colab": {
          "base_uri": "https://localhost:8080/"
        },
        "outputId": "4b2a5447-b818-401d-b048-0085fef98c94",
        "id": "Jwv0Igb1fFXa"
      },
      "execution_count": 67,
      "outputs": [
        {
          "output_type": "stream",
          "name": "stdout",
          "text": [
            "Collecting          |754 [00:01,  715entry/s]\n",
            "Pushing\n",
            "Querying remote cache:   0% 0/3 [00:00<?, ?files/s]\u001b[A\n",
            "Querying remote cache:   0% 0/3 [00:00<?, ?files/s{'info': ''}]\u001b[A\n",
            "                                                               \u001b[A\n",
            "Querying remote cache:   0% 0/1 [00:00<?, ?files/s]\u001b[A\n",
            "Querying remote cache:   0% 0/1 [00:00<?, ?files/s{'info': ''}]\u001b[A\n",
            "                                                               \u001b[A\n",
            "!\u001b[A\n",
            "  0% |          |0/? [00:00<?,    ?files/s]\u001b[A\n",
            "                                           \u001b[A\n",
            "!\u001b[A\n",
            "  0% |          |0/? [00:00<?,    ?files/s]\u001b[A\n",
            "                                           \u001b[A\n",
            "Pushing to local:   0% 0/263 [00:00<?, ?file/s]\u001b[A\n",
            "Pushing to local:   0% 0/263 [00:00<?, ?file/s{'info': ''}]\u001b[A\n",
            "Pushing to local:   0% 0/262 [00:00<?, ?file/s{'info': ''}]\u001b[A\n",
            "Pushing to local:   2% 5/262 [00:00<00:05, 46.68file/s{'info': ''}]\u001b[A\n",
            "Pushing to local:   4% 11/262 [00:00<00:05, 48.02file/s{'info': ''}]\u001b[A\n",
            "Pushing to local:   7% 19/262 [00:00<00:04, 54.03file/s{'info': ''}]\u001b[A\n",
            "Pushing to local:  10% 26/262 [00:00<00:04, 55.77file/s{'info': ''}]\u001b[A\n",
            "Pushing to local:  13% 33/262 [00:00<00:03, 59.94file/s{'info': ''}]\u001b[A\n",
            "Pushing to local:  15% 39/262 [00:00<00:03, 59.02file/s{'info': ''}]\u001b[A\n",
            "Pushing to local:  17% 45/262 [00:00<00:03, 57.23file/s{'info': ''}]\u001b[A\n",
            "Pushing to local:  19% 51/262 [00:01<00:03, 55.69file/s{'info': ''}]\u001b[A\n",
            "Pushing to local:  22% 58/262 [00:01<00:03, 56.12file/s{'info': ''}]\u001b[A\n",
            "Pushing to local:  25% 65/262 [00:01<00:03, 58.68file/s{'info': ''}]\u001b[A\n",
            "Pushing to local:  27% 71/262 [00:01<00:03, 56.36file/s{'info': ''}]\u001b[A\n",
            "Pushing to local:  29% 77/262 [00:01<00:03, 55.02file/s{'info': ''}]\u001b[A\n",
            "Pushing to local:  32% 83/262 [00:01<00:03, 54.33file/s{'info': ''}]\u001b[A\n",
            "Pushing to local:  34% 90/262 [00:01<00:03, 53.39file/s{'info': ''}]\u001b[A\n",
            "Pushing to local:  37% 97/262 [00:01<00:03, 53.01file/s{'info': ''}]\u001b[A\n",
            "Pushing to local:  39% 103/262 [00:02<00:02, 54.63file/s{'info': ''}]\u001b[A\n",
            "Pushing to local:  42% 109/262 [00:02<00:02, 54.79file/s{'info': ''}]\u001b[A\n",
            "Pushing to local:  44% 115/262 [00:02<00:02, 54.19file/s{'info': ''}]\u001b[A\n",
            "Pushing to local:  46% 121/262 [00:02<00:02, 53.74file/s{'info': ''}]\u001b[A\n",
            "Pushing to local:  49% 128/262 [00:02<00:02, 56.44file/s{'info': ''}]\u001b[A\n",
            "Pushing to local:  51% 134/262 [00:02<00:02, 53.40file/s{'info': ''}]\u001b[A\n",
            "Pushing to local:  53% 140/262 [00:02<00:02, 52.99file/s{'info': ''}]\u001b[A\n",
            "Pushing to local:  56% 146/262 [00:02<00:02, 53.52file/s{'info': ''}]\u001b[A\n",
            "Pushing to local:  58% 152/262 [00:02<00:02, 54.25file/s{'info': ''}]\u001b[A\n",
            "Pushing to local:  61% 159/262 [00:03<00:01, 56.82file/s{'info': ''}]\u001b[A\n",
            "Pushing to local:  63% 165/262 [00:03<00:01, 54.75file/s{'info': ''}]\u001b[A\n",
            "Pushing to local:  65% 171/262 [00:03<00:01, 54.48file/s{'info': ''}]\u001b[A\n",
            "Pushing to local:  68% 177/262 [00:03<00:01, 54.75file/s{'info': ''}]\u001b[A\n",
            "Pushing to local:  70% 183/262 [00:03<00:01, 55.02file/s{'info': ''}]\u001b[A\n",
            "Pushing to local:  73% 190/262 [00:03<00:01, 54.73file/s{'info': ''}]\u001b[A\n",
            "Pushing to local:  75% 197/262 [00:03<00:01, 57.19file/s{'info': ''}]\u001b[A\n",
            "Pushing to local:  77% 203/262 [00:03<00:01, 56.79file/s{'info': ''}]\u001b[A\n",
            "Pushing to local:  80% 209/262 [00:03<00:00, 56.51file/s{'info': ''}]\u001b[A\n",
            "Pushing to local:  82% 215/262 [00:04<00:00, 53.78file/s{'info': ''}]\u001b[A\n",
            "Pushing to local:  84% 221/262 [00:04<00:00, 50.94file/s{'info': ''}]\u001b[A\n",
            "Pushing to local:  87% 227/262 [00:04<00:00, 52.22file/s{'info': ''}]\u001b[A\n",
            "Pushing to local:  89% 233/262 [00:04<00:00, 50.89file/s{'info': ''}]\u001b[A\n",
            "Pushing to local:  91% 239/262 [00:04<00:00, 51.83file/s{'info': ''}]\u001b[A\n",
            "Pushing to local:  94% 245/262 [00:04<00:00, 51.77file/s{'info': ''}]\u001b[A\n",
            "Pushing to local:  96% 251/262 [00:04<00:00, 51.92file/s{'info': ''}]\u001b[A\n",
            "Pushing to local:  98% 257/262 [00:04<00:00, 52.14file/s{'info': ''}]\u001b[A\n",
            "  0%|          |Pushing to local                263/? [00:05<00:00, 25.99file/s]\u001b[A\n",
            "Pushing\n",
            "263 files pushed\n",
            "\u001b[0m"
          ]
        }
      ]
    }
  ],
  "metadata": {
    "colab": {
      "provenance": [],
      "include_colab_link": true
    },
    "kernelspec": {
      "display_name": "Python 3",
      "name": "python3"
    },
    "language_info": {
      "name": "python"
    }
  },
  "nbformat": 4,
  "nbformat_minor": 0
}